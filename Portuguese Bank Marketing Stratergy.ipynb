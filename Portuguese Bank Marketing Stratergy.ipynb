{
 "cells": [
  {
   "cell_type": "markdown",
   "metadata": {},
   "source": [
    "# Portuguese Bank Marketing Stratergy- TPOT Tutorial"
   ]
  },
  {
   "cell_type": "markdown",
   "metadata": {},
   "source": [
    "The data is related with direct marketing campaigns of a Portuguese banking institution. The marketing campaigns were based on phone calls. Often, more than one contact to the same client was required, in order to access if the product (bank term deposit) would be ('yes') or not ('no') subscribed.\n",
    "https://archive.ics.uci.edu/ml/datasets/Bank+Marketing"
   ]
  },
  {
   "cell_type": "code",
   "execution_count": 1,
   "metadata": {},
   "outputs": [
    {
     "name": "stderr",
     "output_type": "stream",
     "text": [
      "/home/gunny/anaconda3/lib/python3.6/site-packages/sklearn/cross_validation.py:41: DeprecationWarning: This module was deprecated in version 0.18 in favor of the model_selection module into which all the refactored classes and functions are moved. Also note that the interface of the new CV iterators are different from that of this module. This module will be removed in 0.20.\n",
      "  \"This module will be removed in 0.20.\", DeprecationWarning)\n"
     ]
    }
   ],
   "source": [
    "# Import required libraries\n",
    "from tpot import TPOTClassifier\n",
    "from sklearn.cross_validation import train_test_split\n",
    "import pandas as pd \n",
    "import numpy as np"
   ]
  },
  {
   "cell_type": "code",
   "execution_count": 2,
   "metadata": {},
   "outputs": [
    {
     "data": {
      "text/html": [
       "<div>\n",
       "<style scoped>\n",
       "    .dataframe tbody tr th:only-of-type {\n",
       "        vertical-align: middle;\n",
       "    }\n",
       "\n",
       "    .dataframe tbody tr th {\n",
       "        vertical-align: top;\n",
       "    }\n",
       "\n",
       "    .dataframe thead th {\n",
       "        text-align: right;\n",
       "    }\n",
       "</style>\n",
       "<table border=\"1\" class=\"dataframe\">\n",
       "  <thead>\n",
       "    <tr style=\"text-align: right;\">\n",
       "      <th></th>\n",
       "      <th>age</th>\n",
       "      <th>job</th>\n",
       "      <th>marital</th>\n",
       "      <th>education</th>\n",
       "      <th>default</th>\n",
       "      <th>housing</th>\n",
       "      <th>loan</th>\n",
       "      <th>contact</th>\n",
       "      <th>month</th>\n",
       "      <th>day_of_week</th>\n",
       "      <th>...</th>\n",
       "      <th>campaign</th>\n",
       "      <th>pdays</th>\n",
       "      <th>previous</th>\n",
       "      <th>poutcome</th>\n",
       "      <th>emp.var.rate</th>\n",
       "      <th>cons.price.idx</th>\n",
       "      <th>cons.conf.idx</th>\n",
       "      <th>euribor3m</th>\n",
       "      <th>nr.employed</th>\n",
       "      <th>y</th>\n",
       "    </tr>\n",
       "  </thead>\n",
       "  <tbody>\n",
       "    <tr>\n",
       "      <th>0</th>\n",
       "      <td>56</td>\n",
       "      <td>housemaid</td>\n",
       "      <td>married</td>\n",
       "      <td>basic.4y</td>\n",
       "      <td>no</td>\n",
       "      <td>no</td>\n",
       "      <td>no</td>\n",
       "      <td>telephone</td>\n",
       "      <td>may</td>\n",
       "      <td>mon</td>\n",
       "      <td>...</td>\n",
       "      <td>1</td>\n",
       "      <td>999</td>\n",
       "      <td>0</td>\n",
       "      <td>nonexistent</td>\n",
       "      <td>1.1</td>\n",
       "      <td>93.994</td>\n",
       "      <td>-36.4</td>\n",
       "      <td>4.857</td>\n",
       "      <td>5191.0</td>\n",
       "      <td>no</td>\n",
       "    </tr>\n",
       "    <tr>\n",
       "      <th>1</th>\n",
       "      <td>57</td>\n",
       "      <td>services</td>\n",
       "      <td>married</td>\n",
       "      <td>high.school</td>\n",
       "      <td>unknown</td>\n",
       "      <td>no</td>\n",
       "      <td>no</td>\n",
       "      <td>telephone</td>\n",
       "      <td>may</td>\n",
       "      <td>mon</td>\n",
       "      <td>...</td>\n",
       "      <td>1</td>\n",
       "      <td>999</td>\n",
       "      <td>0</td>\n",
       "      <td>nonexistent</td>\n",
       "      <td>1.1</td>\n",
       "      <td>93.994</td>\n",
       "      <td>-36.4</td>\n",
       "      <td>4.857</td>\n",
       "      <td>5191.0</td>\n",
       "      <td>no</td>\n",
       "    </tr>\n",
       "    <tr>\n",
       "      <th>2</th>\n",
       "      <td>37</td>\n",
       "      <td>services</td>\n",
       "      <td>married</td>\n",
       "      <td>high.school</td>\n",
       "      <td>no</td>\n",
       "      <td>yes</td>\n",
       "      <td>no</td>\n",
       "      <td>telephone</td>\n",
       "      <td>may</td>\n",
       "      <td>mon</td>\n",
       "      <td>...</td>\n",
       "      <td>1</td>\n",
       "      <td>999</td>\n",
       "      <td>0</td>\n",
       "      <td>nonexistent</td>\n",
       "      <td>1.1</td>\n",
       "      <td>93.994</td>\n",
       "      <td>-36.4</td>\n",
       "      <td>4.857</td>\n",
       "      <td>5191.0</td>\n",
       "      <td>no</td>\n",
       "    </tr>\n",
       "    <tr>\n",
       "      <th>3</th>\n",
       "      <td>40</td>\n",
       "      <td>admin.</td>\n",
       "      <td>married</td>\n",
       "      <td>basic.6y</td>\n",
       "      <td>no</td>\n",
       "      <td>no</td>\n",
       "      <td>no</td>\n",
       "      <td>telephone</td>\n",
       "      <td>may</td>\n",
       "      <td>mon</td>\n",
       "      <td>...</td>\n",
       "      <td>1</td>\n",
       "      <td>999</td>\n",
       "      <td>0</td>\n",
       "      <td>nonexistent</td>\n",
       "      <td>1.1</td>\n",
       "      <td>93.994</td>\n",
       "      <td>-36.4</td>\n",
       "      <td>4.857</td>\n",
       "      <td>5191.0</td>\n",
       "      <td>no</td>\n",
       "    </tr>\n",
       "    <tr>\n",
       "      <th>4</th>\n",
       "      <td>56</td>\n",
       "      <td>services</td>\n",
       "      <td>married</td>\n",
       "      <td>high.school</td>\n",
       "      <td>no</td>\n",
       "      <td>no</td>\n",
       "      <td>yes</td>\n",
       "      <td>telephone</td>\n",
       "      <td>may</td>\n",
       "      <td>mon</td>\n",
       "      <td>...</td>\n",
       "      <td>1</td>\n",
       "      <td>999</td>\n",
       "      <td>0</td>\n",
       "      <td>nonexistent</td>\n",
       "      <td>1.1</td>\n",
       "      <td>93.994</td>\n",
       "      <td>-36.4</td>\n",
       "      <td>4.857</td>\n",
       "      <td>5191.0</td>\n",
       "      <td>no</td>\n",
       "    </tr>\n",
       "  </tbody>\n",
       "</table>\n",
       "<p>5 rows × 21 columns</p>\n",
       "</div>"
      ],
      "text/plain": [
       "   age        job  marital    education  default housing loan    contact  \\\n",
       "0   56  housemaid  married     basic.4y       no      no   no  telephone   \n",
       "1   57   services  married  high.school  unknown      no   no  telephone   \n",
       "2   37   services  married  high.school       no     yes   no  telephone   \n",
       "3   40     admin.  married     basic.6y       no      no   no  telephone   \n",
       "4   56   services  married  high.school       no      no  yes  telephone   \n",
       "\n",
       "  month day_of_week ...  campaign  pdays  previous     poutcome emp.var.rate  \\\n",
       "0   may         mon ...         1    999         0  nonexistent          1.1   \n",
       "1   may         mon ...         1    999         0  nonexistent          1.1   \n",
       "2   may         mon ...         1    999         0  nonexistent          1.1   \n",
       "3   may         mon ...         1    999         0  nonexistent          1.1   \n",
       "4   may         mon ...         1    999         0  nonexistent          1.1   \n",
       "\n",
       "   cons.price.idx  cons.conf.idx  euribor3m  nr.employed   y  \n",
       "0          93.994          -36.4      4.857       5191.0  no  \n",
       "1          93.994          -36.4      4.857       5191.0  no  \n",
       "2          93.994          -36.4      4.857       5191.0  no  \n",
       "3          93.994          -36.4      4.857       5191.0  no  \n",
       "4          93.994          -36.4      4.857       5191.0  no  \n",
       "\n",
       "[5 rows x 21 columns]"
      ]
     },
     "execution_count": 2,
     "metadata": {},
     "output_type": "execute_result"
    }
   ],
   "source": [
    "#Load the data\n",
    "Marketing=pd.read_csv('data/Data_FinalProject.csv')\n",
    "Marketing.head(5)"
   ]
  },
  {
   "cell_type": "markdown",
   "metadata": {},
   "source": [
    "# Data Exploration"
   ]
  },
  {
   "cell_type": "code",
   "execution_count": 3,
   "metadata": {},
   "outputs": [
    {
     "data": {
      "text/plain": [
       "loan     y  \n",
       "no       no     30100\n",
       "         yes     3850\n",
       "unknown  no       883\n",
       "         yes      107\n",
       "yes      no      5565\n",
       "         yes      683\n",
       "Name: y, dtype: int64"
      ]
     },
     "execution_count": 3,
     "metadata": {},
     "output_type": "execute_result"
    }
   ],
   "source": [
    "Marketing.groupby('loan').y.value_counts()"
   ]
  },
  {
   "cell_type": "code",
   "execution_count": 4,
   "metadata": {},
   "outputs": [
    {
     "data": {
      "text/plain": [
       "loan     marital   y  \n",
       "no       divorced  no      3420\n",
       "                   yes      396\n",
       "         married   no     18469\n",
       "                   yes     2098\n",
       "         single    no      8155\n",
       "                   yes     1345\n",
       "         unknown   no        56\n",
       "                   yes       11\n",
       "unknown  divorced  no       113\n",
       "                   yes        8\n",
       "         married   no       528\n",
       "                   yes       60\n",
       "         single    no       241\n",
       "                   yes       39\n",
       "         unknown   no         1\n",
       "yes      divorced  no       603\n",
       "                   yes       72\n",
       "         married   no      3399\n",
       "                   yes      374\n",
       "         single    no      1552\n",
       "                   yes      236\n",
       "         unknown   no        11\n",
       "                   yes        1\n",
       "Name: y, dtype: int64"
      ]
     },
     "execution_count": 4,
     "metadata": {},
     "output_type": "execute_result"
    }
   ],
   "source": [
    "Marketing.groupby(['loan','marital']).y.value_counts()"
   ]
  },
  {
   "cell_type": "markdown",
   "metadata": {},
   "source": [
    "# Data Munging"
   ]
  },
  {
   "cell_type": "markdown",
   "metadata": {},
   "source": [
    "The first and most important step in using TPOT on any data set is to rename the target class/response variable to class."
   ]
  },
  {
   "cell_type": "code",
   "execution_count": 5,
   "metadata": {},
   "outputs": [],
   "source": [
    "Marketing.rename(columns={'y': 'class'}, inplace=True)"
   ]
  },
  {
   "cell_type": "markdown",
   "metadata": {},
   "source": [
    "At present, TPOT requires all the data to be in numerical format. As we can see below, our data set has 11 categorical variables \n",
    "which contain non-numerical values: job, marital, education, default, housing, loan, contact, month, day_of_week, poutcome, class."
   ]
  },
  {
   "cell_type": "code",
   "execution_count": 6,
   "metadata": {},
   "outputs": [
    {
     "data": {
      "text/plain": [
       "age                 int64\n",
       "job                object\n",
       "marital            object\n",
       "education          object\n",
       "default            object\n",
       "housing            object\n",
       "loan               object\n",
       "contact            object\n",
       "month              object\n",
       "day_of_week        object\n",
       "duration            int64\n",
       "campaign            int64\n",
       "pdays               int64\n",
       "previous            int64\n",
       "poutcome           object\n",
       "emp.var.rate      float64\n",
       "cons.price.idx    float64\n",
       "cons.conf.idx     float64\n",
       "euribor3m         float64\n",
       "nr.employed       float64\n",
       "class              object\n",
       "dtype: object"
      ]
     },
     "execution_count": 6,
     "metadata": {},
     "output_type": "execute_result"
    }
   ],
   "source": [
    "Marketing.dtypes"
   ]
  },
  {
   "cell_type": "markdown",
   "metadata": {},
   "source": [
    "We then check the number of levels that each of the five categorical variables have."
   ]
  },
  {
   "cell_type": "code",
   "execution_count": 7,
   "metadata": {},
   "outputs": [
    {
     "name": "stdout",
     "output_type": "stream",
     "text": [
      "Number of levels in category 'job': \b 12.00 \n",
      "Number of levels in category 'marital': \b 4.00 \n",
      "Number of levels in category 'education': \b 8.00 \n",
      "Number of levels in category 'default': \b 3.00 \n",
      "Number of levels in category 'housing': \b 3.00 \n",
      "Number of levels in category 'loan': \b 3.00 \n",
      "Number of levels in category 'contact': \b 2.00 \n",
      "Number of levels in category 'month': \b 10.00 \n",
      "Number of levels in category 'day_of_week': \b 5.00 \n",
      "Number of levels in category 'poutcome': \b 3.00 \n",
      "Number of levels in category 'class': \b 2.00 \n"
     ]
    }
   ],
   "source": [
    "for cat in ['job', 'marital', 'education', 'default', 'housing', 'loan', 'contact', 'month', 'day_of_week', 'poutcome' ,'class']:\n",
    "    print(\"Number of levels in category '{0}': \\b {1:2.2f} \".format(cat, Marketing[cat].unique().size))"
   ]
  },
  {
   "cell_type": "markdown",
   "metadata": {},
   "source": [
    "As we can see, contact and poutcome have few levels. Let's find out what they are."
   ]
  },
  {
   "cell_type": "code",
   "execution_count": 8,
   "metadata": {},
   "outputs": [
    {
     "name": "stdout",
     "output_type": "stream",
     "text": [
      "Levels for catgeory 'contact': ['telephone' 'cellular']\n",
      "Levels for catgeory 'poutcome': ['nonexistent' 'failure' 'success']\n",
      "Levels for catgeory 'class': ['no' 'yes']\n",
      "Levels for catgeory 'marital': ['married' 'single' 'divorced' 'unknown']\n",
      "Levels for catgeory 'default': ['no' 'unknown' 'yes']\n",
      "Levels for catgeory 'housing': ['no' 'yes' 'unknown']\n",
      "Levels for catgeory 'loan': ['no' 'yes' 'unknown']\n"
     ]
    }
   ],
   "source": [
    "for cat in ['contact', 'poutcome','class', 'marital', 'default', 'housing', 'loan']:\n",
    "    print(\"Levels for catgeory '{0}': {1}\".format(cat, Marketing[cat].unique()))    "
   ]
  },
  {
   "cell_type": "markdown",
   "metadata": {},
   "source": [
    "We then code these levels manually into numerical values. For nan i.e. the missing values, we simply replace them with a placeholder value (-999). In fact, we perform this replacement for the entire data set."
   ]
  },
  {
   "cell_type": "code",
   "execution_count": 9,
   "metadata": {},
   "outputs": [],
   "source": [
    "Marketing['marital'] = Marketing['marital'].map({'married':0,'single':1,'divorced':2,'unknown':3})\n",
    "Marketing['default'] = Marketing['default'].map({'no':0,'yes':1,'unknown':2})\n",
    "Marketing['housing'] = Marketing['housing'].map({'no':0,'yes':1,'unknown':2})\n",
    "Marketing['loan'] = Marketing['loan'].map({'no':0,'yes':1,'unknown':2})\n",
    "Marketing['contact'] = Marketing['contact'].map({'telephone':0,'cellular':1})\n",
    "Marketing['poutcome'] = Marketing['poutcome'].map({'nonexistent':0,'failure':1,'success':2})\n",
    "Marketing['class'] = Marketing['class'].map({'no':0,'yes':1})"
   ]
  },
  {
   "cell_type": "code",
   "execution_count": 10,
   "metadata": {},
   "outputs": [
    {
     "data": {
      "text/plain": [
       "age               False\n",
       "job               False\n",
       "marital           False\n",
       "education         False\n",
       "default           False\n",
       "housing           False\n",
       "loan              False\n",
       "contact           False\n",
       "month             False\n",
       "day_of_week       False\n",
       "duration          False\n",
       "campaign          False\n",
       "pdays             False\n",
       "previous          False\n",
       "poutcome          False\n",
       "emp.var.rate      False\n",
       "cons.price.idx    False\n",
       "cons.conf.idx     False\n",
       "euribor3m         False\n",
       "nr.employed       False\n",
       "class             False\n",
       "dtype: bool"
      ]
     },
     "execution_count": 10,
     "metadata": {},
     "output_type": "execute_result"
    }
   ],
   "source": [
    "Marketing = Marketing.fillna(-999)\n",
    "pd.isnull(Marketing).any()"
   ]
  },
  {
   "cell_type": "markdown",
   "metadata": {},
   "source": [
    "For other categorical variables, we encode the levels as digits using Scikit-learn's MultiLabelBinarizer and treat them as new features."
   ]
  },
  {
   "cell_type": "code",
   "execution_count": 11,
   "metadata": {},
   "outputs": [],
   "source": [
    "from sklearn.preprocessing import MultiLabelBinarizer\n",
    "mlb = MultiLabelBinarizer()\n",
    "\n",
    "job_Trans = mlb.fit_transform([{str(val)} for val in Marketing['job'].values])\n",
    "education_Trans = mlb.fit_transform([{str(val)} for val in Marketing['education'].values])\n",
    "month_Trans = mlb.fit_transform([{str(val)} for val in Marketing['month'].values])\n",
    "day_of_week_Trans = mlb.fit_transform([{str(val)} for val in Marketing['day_of_week'].values])"
   ]
  },
  {
   "cell_type": "code",
   "execution_count": 12,
   "metadata": {},
   "outputs": [
    {
     "data": {
      "text/plain": [
       "array([[0, 1, 0, 0, 0],\n",
       "       [0, 1, 0, 0, 0],\n",
       "       [0, 1, 0, 0, 0],\n",
       "       ...,\n",
       "       [1, 0, 0, 0, 0],\n",
       "       [1, 0, 0, 0, 0],\n",
       "       [1, 0, 0, 0, 0]])"
      ]
     },
     "execution_count": 12,
     "metadata": {},
     "output_type": "execute_result"
    }
   ],
   "source": [
    "day_of_week_Trans"
   ]
  },
  {
   "cell_type": "markdown",
   "metadata": {},
   "source": [
    "Drop the unused features from the dataset."
   ]
  },
  {
   "cell_type": "code",
   "execution_count": 13,
   "metadata": {},
   "outputs": [],
   "source": [
    "marketing_new = Marketing.drop(['marital','default','housing','loan','contact','poutcome','class','job','education','month','day_of_week'], axis=1)"
   ]
  },
  {
   "cell_type": "code",
   "execution_count": 14,
   "metadata": {
    "scrolled": true
   },
   "outputs": [],
   "source": [
    "assert (len(Marketing['day_of_week'].unique()) == len(mlb.classes_)), \"Not Equal\" #check correct encoding done"
   ]
  },
  {
   "cell_type": "code",
   "execution_count": 15,
   "metadata": {},
   "outputs": [
    {
     "data": {
      "text/plain": [
       "(array(['mon', 'tue', 'wed', 'thu', 'fri'], dtype=object),\n",
       " array(['fri', 'mon', 'thu', 'tue', 'wed'], dtype=object))"
      ]
     },
     "execution_count": 15,
     "metadata": {},
     "output_type": "execute_result"
    }
   ],
   "source": [
    "Marketing['day_of_week'].unique(),mlb.classes_"
   ]
  },
  {
   "cell_type": "markdown",
   "metadata": {},
   "source": [
    "We then add the encoded features to form the final dataset to be used with TPOT."
   ]
  },
  {
   "cell_type": "code",
   "execution_count": 16,
   "metadata": {},
   "outputs": [],
   "source": [
    "marketing_new = np.hstack((marketing_new.values, job_Trans, education_Trans, month_Trans, day_of_week_Trans))"
   ]
  },
  {
   "cell_type": "code",
   "execution_count": 17,
   "metadata": {},
   "outputs": [
    {
     "data": {
      "text/plain": [
       "False"
      ]
     },
     "execution_count": 17,
     "metadata": {},
     "output_type": "execute_result"
    }
   ],
   "source": [
    "np.isnan(marketing_new).any()"
   ]
  },
  {
   "cell_type": "markdown",
   "metadata": {},
   "source": [
    "Keeping in mind that the final dataset is in the form of a numpy array, we can check the number of features in the final dataset as follows."
   ]
  },
  {
   "cell_type": "code",
   "execution_count": 18,
   "metadata": {},
   "outputs": [
    {
     "data": {
      "text/plain": [
       "45"
      ]
     },
     "execution_count": 18,
     "metadata": {},
     "output_type": "execute_result"
    }
   ],
   "source": [
    "marketing_new[0].size"
   ]
  },
  {
   "cell_type": "markdown",
   "metadata": {},
   "source": [
    "Finally we store the class labels, which we need to predict, in a separate variable."
   ]
  },
  {
   "cell_type": "code",
   "execution_count": 20,
   "metadata": {},
   "outputs": [],
   "source": [
    "marketing_class = Marketing['class'].values"
   ]
  },
  {
   "cell_type": "markdown",
   "metadata": {},
   "source": [
    "# Data Analysis using TPOT"
   ]
  },
  {
   "cell_type": "markdown",
   "metadata": {},
   "source": [
    "To begin our analysis, we need to divide our training data into training and validation sets. The validation set is just to give us an idea of the test set error. The model selection and tuning is entirely taken care of by TPOT, so if we want to, we can skip creating this validation set."
   ]
  },
  {
   "cell_type": "code",
   "execution_count": 21,
   "metadata": {},
   "outputs": [
    {
     "data": {
      "text/plain": [
       "(30891, 10297)"
      ]
     },
     "execution_count": 21,
     "metadata": {},
     "output_type": "execute_result"
    }
   ],
   "source": [
    "training_indices, validation_indices = training_indices, testing_indices = train_test_split(Marketing.index, stratify = marketing_class, train_size=0.75, test_size=0.25)\n",
    "training_indices.size, validation_indices.size"
   ]
  },
  {
   "cell_type": "markdown",
   "metadata": {},
   "source": [
    "After that, we proceed to calling the `fit()`, `score()` and `export()` functions on our training dataset.\n",
    "An important TPOT parameter to set is the number of generations (via the `generations` kwarg). Since our aim is to just illustrate the use of TPOT, we assume the default setting of 100 generations, whilst bounding the total running time via the `max_time_mins` kwarg (which may, essentially, override the former setting). Further, we enable control for the maximum amount of time allowed for optimization of a single pipeline, via `max_eval_time_mins`.\n",
    "\n",
    "On a standard laptop with 4GB RAM, each generation takes approximately 5 minutes to run. Thus, for the default value of 100, without the explicit duration bound, the total run time could be roughly around 8 hours."
   ]
  },
  {
   "cell_type": "code",
   "execution_count": 22,
   "metadata": {},
   "outputs": [],
   "source": [
    "from config.classifier_models_only import classifier_config_dict\n",
    "time_allocated = 60"
   ]
  },
  {
   "cell_type": "code",
   "execution_count": 23,
   "metadata": {},
   "outputs": [
    {
     "name": "stdout",
     "output_type": "stream",
     "text": [
      "11 operators have been imported by TPOT.\n"
     ]
    },
    {
     "name": "stderr",
     "output_type": "stream",
     "text": [
      "Optimization Progress:  52%|█████▏    | 52/100 [19:08<1:20:00, 100.01s/pipeline]"
     ]
    },
    {
     "name": "stdout",
     "output_type": "stream",
     "text": [
      "Skipped pipeline #52 due to time out. Continuing to the next pipeline.\n"
     ]
    },
    {
     "name": "stderr",
     "output_type": "stream",
     "text": [
      "Optimization Progress:  79%|███████▉  | 79/100 [36:45<41:58, 119.92s/pipeline]  "
     ]
    },
    {
     "name": "stdout",
     "output_type": "stream",
     "text": [
      "Skipped pipeline #79 due to time out. Continuing to the next pipeline.\n"
     ]
    },
    {
     "name": "stderr",
     "output_type": "stream",
     "text": [
      "Optimization Progress: 102pipeline [42:45, 18.50s/pipeline]                   "
     ]
    },
    {
     "name": "stdout",
     "output_type": "stream",
     "text": [
      "_pre_test decorator: _random_mutation_operator: num_test=0 Unsupported set of arguments: The combination of penalty='l1' and loss='hinge' is not supported, Parameters: penalty='l1', loss='hinge', dual=False\n"
     ]
    },
    {
     "name": "stderr",
     "output_type": "stream",
     "text": [
      "Optimization Progress: 102pipeline [42:45, 18.50s/pipeline]"
     ]
    },
    {
     "name": "stdout",
     "output_type": "stream",
     "text": [
      "_pre_test decorator: _mate_operator: num_test=0 Expected n_neighbors <= n_samples,  but n_samples = 50, n_neighbors = 91\n",
      "_pre_test decorator: _random_mutation_operator: num_test=0 Input X must be non-negative\n",
      "_pre_test decorator: _random_mutation_operator: num_test=1 Input X must be non-negative\n"
     ]
    },
    {
     "name": "stderr",
     "output_type": "stream",
     "text": [
      "Optimization Progress: 102pipeline [42:46, 18.50s/pipeline]"
     ]
    },
    {
     "name": "stdout",
     "output_type": "stream",
     "text": [
      "_pre_test decorator: _random_mutation_operator: num_test=0 Expected n_neighbors <= n_samples,  but n_samples = 50, n_neighbors = 73\n",
      "_pre_test decorator: _random_mutation_operator: num_test=1 Input X must be non-negative\n",
      "_pre_test decorator: _random_mutation_operator: num_test=0 Unsupported set of arguments: The combination of penalty='l1' and loss='logistic_regression' are not supported when dual=True, Parameters: penalty='l1', loss='logistic_regression', dual=True\n"
     ]
    },
    {
     "name": "stderr",
     "output_type": "stream",
     "text": [
      "Optimization Progress: 102pipeline [42:46, 18.50s/pipeline]"
     ]
    },
    {
     "name": "stdout",
     "output_type": "stream",
     "text": [
      "_pre_test decorator: _random_mutation_operator: num_test=0 Expected n_neighbors <= n_samples,  but n_samples = 50, n_neighbors = 65\n"
     ]
    },
    {
     "name": "stderr",
     "output_type": "stream",
     "text": [
      "Optimization Progress: 102pipeline [42:47, 18.50s/pipeline]"
     ]
    },
    {
     "name": "stdout",
     "output_type": "stream",
     "text": [
      "_pre_test decorator: _random_mutation_operator: num_test=0 Input X must be non-negative\n",
      "_pre_test decorator: _random_mutation_operator: num_test=1 Unsupported set of arguments: The combination of penalty='l1' and loss='squared_hinge' are not supported when dual=True, Parameters: penalty='l1', loss='squared_hinge', dual=True\n"
     ]
    },
    {
     "name": "stderr",
     "output_type": "stream",
     "text": [
      "                                                                              \r"
     ]
    },
    {
     "name": "stdout",
     "output_type": "stream",
     "text": [
      "\n",
      "60.0235585 minutes have elapsed. TPOT will close down.\n",
      "TPOT closed prematurely. Will use the current best pipeline.\n"
     ]
    },
    {
     "data": {
      "text/plain": [
       "TPOTClassifier(config_dict={'sklearn.naive_bayes.GaussianNB': {}, 'sklearn.naive_bayes.BernoulliNB': {'alpha': [0.001, 0.01, 0.1, 1.0, 10.0, 100.0], 'fit_prior': [True, False]}, 'sklearn.naive_bayes.MultinomialNB': {'alpha': [0.001, 0.01, 0.1, 1.0, 10.0, 100.0], 'fit_prior': [True, False]}, 'sklearn.tree.DecisionT...0.65, 0.7 , 0.75, 0.8 , 0.85, 0.9 , 0.95, 1.  ]), 'min_child_weight': range(1, 21), 'nthread': [1]}},\n",
       "        crossover_rate=0.1, cv=5, disable_update_check=False,\n",
       "        early_stop=None, generations=1000000, max_eval_time_mins=5,\n",
       "        max_time_mins=60, memory=None, mutation_rate=0.9, n_jobs=1,\n",
       "        offspring_size=100, periodic_checkpoint_folder=None,\n",
       "        population_size=100, random_state=None, scoring=None,\n",
       "        subsample=1.0, verbosity=3, warm_start=False)"
      ]
     },
     "execution_count": 23,
     "metadata": {},
     "output_type": "execute_result"
    }
   ],
   "source": [
    "tpot = TPOTClassifier(verbosity=3, max_time_mins=time_allocated, config_dict=classifier_config_dict)\n",
    "tpot.fit(marketing_new[training_indices], marketing_class[training_indices])"
   ]
  },
  {
   "cell_type": "markdown",
   "metadata": {},
   "source": [
    "In the above, 4 generations were computed, each giving the training efficiency of fitting model on the training set. As evident, the best pipeline is the one that has the CV score of 91.373%. The model that produces this result is one that fits a decision tree algorithm on the data set. Next, the test error is computed for validation purposes."
   ]
  },
  {
   "cell_type": "code",
   "execution_count": 24,
   "metadata": {},
   "outputs": [
    {
     "data": {
      "text/plain": [
       "0.9143439836845684"
      ]
     },
     "execution_count": 24,
     "metadata": {},
     "output_type": "execute_result"
    }
   ],
   "source": [
    "tpot.score(marketing_new[validation_indices], Marketing.loc[validation_indices, 'class'].values)"
   ]
  },
  {
   "cell_type": "code",
   "execution_count": 23,
   "metadata": {},
   "outputs": [
    {
     "data": {
      "text/plain": [
       "True"
      ]
     },
     "execution_count": 23,
     "metadata": {},
     "output_type": "execute_result"
    }
   ],
   "source": [
    "tpot.export('tpot_marketing_pipeline.py')"
   ]
  },
  {
   "cell_type": "code",
   "execution_count": null,
   "metadata": {
    "collapsed": true
   },
   "outputs": [],
   "source": [
    "# %load tpot_marketing_pipeline.py\n",
    "import numpy as np\n",
    "import pandas as pd\n",
    "from sklearn.model_selection import train_test_split\n",
    "from sklearn.tree import DecisionTreeClassifier\n",
    "\n",
    "# NOTE: Make sure that the class is labeled 'target' in the data file\n",
    "tpot_data = pd.read_csv('PATH/TO/DATA/FILE', sep='COLUMN_SEPARATOR', dtype=np.float64)\n",
    "features = tpot_data.drop('target', axis=1).values\n",
    "training_features, testing_features, training_target, testing_target = \\\n",
    "            train_test_split(features, tpot_data['target'].values, random_state=42)\n",
    "\n",
    "# Score on the training set was:0.913728927925\n",
    "exported_pipeline = DecisionTreeClassifier(criterion=\"gini\", max_depth=5, min_samples_leaf=16, min_samples_split=8)\n",
    "\n",
    "exported_pipeline.fit(training_features, training_target)\n",
    "results = exported_pipeline.predict(testing_features)\n"
   ]
  },
  {
   "cell_type": "markdown",
   "metadata": {
    "collapsed": true
   },
   "source": [
    "## XGBOOST Experiment"
   ]
  },
  {
   "cell_type": "code",
   "execution_count": 25,
   "metadata": {},
   "outputs": [
    {
     "data": {
      "text/plain": [
       "'/home/gunny/arundo/automl-benchmarking'"
      ]
     },
     "execution_count": 25,
     "metadata": {},
     "output_type": "execute_result"
    }
   ],
   "source": [
    "import os\n",
    "os.getcwd()"
   ]
  },
  {
   "cell_type": "code",
   "execution_count": 26,
   "metadata": {},
   "outputs": [],
   "source": [
    "import warnings\n",
    "warnings.filterwarnings('ignore')\n",
    "\n",
    "from sklearn.model_selection import train_test_split\n",
    "\n",
    "from src.hypersearch import xgbc_random\n",
    "from config.xgboost import config_dict"
   ]
  },
  {
   "cell_type": "code",
   "execution_count": 29,
   "metadata": {},
   "outputs": [
    {
     "name": "stdout",
     "output_type": "stream",
     "text": [
      "Trace xgbc_random() --- starting new iteration --- time elapsed = 3.5762786865234375e-06 seconds\n",
      "Trace xgbc_random() --- trying hyperparameters = {'n_estimators': 100, 'max_depth': 9, 'learning_rate': 0.001, 'subsample': 0.9000000000000001, 'min_child_weight': 14, 'nthread': 1, 'gamma': 2.5, 'colsample_bytree': 0.5}\n",
      "Trace xgbc_random() --- best_score updated to 0.9076430028163542\n",
      "Trace xgbc_random() --- best_kwargs updated to {'n_estimators': 100, 'max_depth': 9, 'learning_rate': 0.001, 'subsample': 0.9000000000000001, 'min_child_weight': 14, 'nthread': 1, 'gamma': 2.5, 'colsample_bytree': 0.5}\n",
      "Trace xgbc_random() --- starting new iteration --- time elapsed = 4.007734537124634 seconds\n",
      "Trace xgbc_random() --- trying hyperparameters = {'n_estimators': 100, 'max_depth': 3, 'learning_rate': 0.1, 'subsample': 0.45, 'min_child_weight': 4, 'nthread': 1, 'gamma': 5.0, 'colsample_bytree': 0.6}\n",
      "Trace xgbc_random() --- best_score updated to 0.9140526366902981\n",
      "Trace xgbc_random() --- best_kwargs updated to {'n_estimators': 100, 'max_depth': 3, 'learning_rate': 0.1, 'subsample': 0.45, 'min_child_weight': 4, 'nthread': 1, 'gamma': 5.0, 'colsample_bytree': 0.6}\n",
      "Trace xgbc_random() --- starting new iteration --- time elapsed = 6.178021669387817 seconds\n",
      "Trace xgbc_random() --- trying hyperparameters = {'n_estimators': 50, 'max_depth': 6, 'learning_rate': 0.001, 'subsample': 0.35000000000000003, 'min_child_weight': 20, 'nthread': 1, 'gamma': 5.0, 'colsample_bytree': 0.5}\n",
      "Trace xgbc_random() --- starting new iteration --- time elapsed = 7.578149795532227 seconds\n",
      "Trace xgbc_random() --- trying hyperparameters = {'n_estimators': 50, 'max_depth': 1, 'learning_rate': 0.001, 'subsample': 0.1, 'min_child_weight': 3, 'nthread': 1, 'gamma': 4.5, 'colsample_bytree': 0.7}\n",
      "Trace xgbc_random() --- starting new iteration --- time elapsed = 7.957069635391235 seconds\n",
      "Trace xgbc_random() --- trying hyperparameters = {'n_estimators': 100, 'max_depth': 1, 'learning_rate': 0.01, 'subsample': 0.6000000000000001, 'min_child_weight': 6, 'nthread': 1, 'gamma': 2.0, 'colsample_bytree': 0.7}\n",
      "Trace xgbc_random() --- starting new iteration --- time elapsed = 9.05809211730957 seconds\n",
      "Trace xgbc_random() --- trying hyperparameters = {'n_estimators': 100, 'max_depth': 5, 'learning_rate': 1.0, 'subsample': 1.0, 'min_child_weight': 18, 'nthread': 1, 'gamma': 4.0, 'colsample_bytree': 0.8999999999999999}\n",
      "Trace xgbc_random() --- best_score updated to 0.9141497523550549\n",
      "Trace xgbc_random() --- best_kwargs updated to {'n_estimators': 100, 'max_depth': 5, 'learning_rate': 1.0, 'subsample': 1.0, 'min_child_weight': 18, 'nthread': 1, 'gamma': 4.0, 'colsample_bytree': 0.8999999999999999}\n",
      "Trace xgbc_random() --- starting new iteration --- time elapsed = 12.847283363342285 seconds\n",
      "Trace xgbc_random() --- trying hyperparameters = {'n_estimators': 1000, 'max_depth': 1, 'learning_rate': 0.001, 'subsample': 0.8, 'min_child_weight': 10, 'nthread': 1, 'gamma': 2.5, 'colsample_bytree': 0.5}\n",
      "Trace xgbc_random() --- starting new iteration --- time elapsed = 20.923981428146362 seconds\n",
      "Trace xgbc_random() --- trying hyperparameters = {'n_estimators': 50, 'max_depth': 9, 'learning_rate': 0.001, 'subsample': 0.5, 'min_child_weight': 16, 'nthread': 1, 'gamma': 3.0, 'colsample_bytree': 0.5}\n",
      "Trace xgbc_random() --- starting new iteration --- time elapsed = 23.287564039230347 seconds\n",
      "Trace xgbc_random() --- trying hyperparameters = {'n_estimators': 50, 'max_depth': 10, 'learning_rate': 1.0, 'subsample': 0.8500000000000001, 'min_child_weight': 9, 'nthread': 1, 'gamma': 4.5, 'colsample_bytree': 0.6}\n",
      "Trace xgbc_random() --- starting new iteration --- time elapsed = 26.530267000198364 seconds\n",
      "Trace xgbc_random() --- trying hyperparameters = {'n_estimators': 500, 'max_depth': 5, 'learning_rate': 0.001, 'subsample': 0.5, 'min_child_weight': 2, 'nthread': 1, 'gamma': 2.0, 'colsample_bytree': 0.7}\n",
      "Trace xgbc_random() --- starting new iteration --- time elapsed = 48.63111138343811 seconds\n",
      "Trace xgbc_random() --- trying hyperparameters = {'n_estimators': 50, 'max_depth': 3, 'learning_rate': 0.001, 'subsample': 0.7000000000000001, 'min_child_weight': 11, 'nthread': 1, 'gamma': 1.5, 'colsample_bytree': 0.6}\n",
      "Trace xgbc_random() --- starting new iteration --- time elapsed = 49.86094903945923 seconds\n",
      "Trace xgbc_random() --- trying hyperparameters = {'n_estimators': 100, 'max_depth': 4, 'learning_rate': 0.5, 'subsample': 0.6000000000000001, 'min_child_weight': 4, 'nthread': 1, 'gamma': 3.5, 'colsample_bytree': 0.6}\n",
      "Trace xgbc_random() --- best_score updated to 0.9142468680198116\n",
      "Trace xgbc_random() --- best_kwargs updated to {'n_estimators': 100, 'max_depth': 4, 'learning_rate': 0.5, 'subsample': 0.6000000000000001, 'min_child_weight': 4, 'nthread': 1, 'gamma': 3.5, 'colsample_bytree': 0.6}\n",
      "Trace xgbc_random() --- starting new iteration --- time elapsed = 53.13386011123657 seconds\n",
      "Trace xgbc_random() --- trying hyperparameters = {'n_estimators': 50, 'max_depth': 6, 'learning_rate': 0.1, 'subsample': 1.0, 'min_child_weight': 9, 'nthread': 1, 'gamma': 4.0, 'colsample_bytree': 0.5}\n",
      "Trace xgbc_random() --- starting new iteration --- time elapsed = 54.637091875076294 seconds\n",
      "Trace xgbc_random() --- trying hyperparameters = {'n_estimators': 500, 'max_depth': 7, 'learning_rate': 0.5, 'subsample': 0.4, 'min_child_weight': 19, 'nthread': 1, 'gamma': 4.0, 'colsample_bytree': 0.7}\n",
      "Trace xgbc_random() --- starting new iteration --- time elapsed = 79.52748799324036 seconds\n",
      "Trace xgbc_random() --- trying hyperparameters = {'n_estimators': 1000, 'max_depth': 10, 'learning_rate': 0.01, 'subsample': 0.3, 'min_child_weight': 14, 'nthread': 1, 'gamma': 2.0, 'colsample_bytree': 0.9999999999999999}\n",
      "Trace xgbc_random() --- starting new iteration --- time elapsed = 159.65279841423035 seconds\n",
      "Trace xgbc_random() --- trying hyperparameters = {'n_estimators': 1000, 'max_depth': 10, 'learning_rate': 0.01, 'subsample': 0.9500000000000001, 'min_child_weight': 14, 'nthread': 1, 'gamma': 0.5, 'colsample_bytree': 0.8999999999999999}\n",
      "Trace xgbc_random() --- best_score updated to 0.916577643973973\n",
      "Trace xgbc_random() --- best_kwargs updated to {'n_estimators': 1000, 'max_depth': 10, 'learning_rate': 0.01, 'subsample': 0.9500000000000001, 'min_child_weight': 14, 'nthread': 1, 'gamma': 0.5, 'colsample_bytree': 0.8999999999999999}\n",
      "Trace xgbc_random() --- starting new iteration --- time elapsed = 260.48294734954834 seconds\n",
      "Trace xgbc_random() --- trying hyperparameters = {'n_estimators': 50, 'max_depth': 3, 'learning_rate': 0.1, 'subsample': 0.2, 'min_child_weight': 4, 'nthread': 1, 'gamma': 0.0, 'colsample_bytree': 0.5}\n",
      "Trace xgbc_random() --- starting new iteration --- time elapsed = 261.4610390663147 seconds\n",
      "Trace xgbc_random() --- trying hyperparameters = {'n_estimators': 1000, 'max_depth': 7, 'learning_rate': 0.1, 'subsample': 0.4, 'min_child_weight': 19, 'nthread': 1, 'gamma': 0.5, 'colsample_bytree': 0.5}\n",
      "Trace xgbc_random() --- starting new iteration --- time elapsed = 314.9540786743164 seconds\n",
      "Trace xgbc_random() --- trying hyperparameters = {'n_estimators': 50, 'max_depth': 8, 'learning_rate': 0.5, 'subsample': 0.15000000000000002, 'min_child_weight': 1, 'nthread': 1, 'gamma': 2.0, 'colsample_bytree': 0.8999999999999999}\n",
      "Trace xgbc_random() --- starting new iteration --- time elapsed = 318.3502345085144 seconds\n",
      "Trace xgbc_random() --- trying hyperparameters = {'n_estimators': 1000, 'max_depth': 3, 'learning_rate': 1.0, 'subsample': 0.6000000000000001, 'min_child_weight': 20, 'nthread': 1, 'gamma': 3.5, 'colsample_bytree': 0.5}\n",
      "Trace xgbc_random() --- starting new iteration --- time elapsed = 347.7311120033264 seconds\n",
      "Trace xgbc_random() --- trying hyperparameters = {'n_estimators': 500, 'max_depth': 5, 'learning_rate': 0.5, 'subsample': 0.2, 'min_child_weight': 11, 'nthread': 1, 'gamma': 3.5, 'colsample_bytree': 0.5}\n",
      "Trace xgbc_random() --- starting new iteration --- time elapsed = 365.18521547317505 seconds\n",
      "Trace xgbc_random() --- trying hyperparameters = {'n_estimators': 1000, 'max_depth': 4, 'learning_rate': 0.01, 'subsample': 0.15000000000000002, 'min_child_weight': 11, 'nthread': 1, 'gamma': 2.0, 'colsample_bytree': 0.6}\n",
      "Trace xgbc_random() --- starting new iteration --- time elapsed = 395.0347397327423 seconds\n",
      "Trace xgbc_random() --- trying hyperparameters = {'n_estimators': 1000, 'max_depth': 10, 'learning_rate': 0.5, 'subsample': 0.6000000000000001, 'min_child_weight': 15, 'nthread': 1, 'gamma': 4.5, 'colsample_bytree': 0.8999999999999999}\n"
     ]
    },
    {
     "name": "stdout",
     "output_type": "stream",
     "text": [
      "Trace xgbc_random() --- starting new iteration --- time elapsed = 548.1108529567719 seconds\n",
      "Trace xgbc_random() --- trying hyperparameters = {'n_estimators': 100, 'max_depth': 4, 'learning_rate': 1.0, 'subsample': 0.2, 'min_child_weight': 8, 'nthread': 1, 'gamma': 0.0, 'colsample_bytree': 0.5}\n",
      "Trace xgbc_random() --- starting new iteration --- time elapsed = 551.3950679302216 seconds\n",
      "Trace xgbc_random() --- trying hyperparameters = {'n_estimators': 100, 'max_depth': 4, 'learning_rate': 0.5, 'subsample': 0.4, 'min_child_weight': 11, 'nthread': 1, 'gamma': 3.5, 'colsample_bytree': 0.7}\n",
      "Trace xgbc_random() --- starting new iteration --- time elapsed = 556.9639048576355 seconds\n",
      "Trace xgbc_random() --- trying hyperparameters = {'n_estimators': 1000, 'max_depth': 9, 'learning_rate': 0.001, 'subsample': 0.9000000000000001, 'min_child_weight': 1, 'nthread': 1, 'gamma': 2.0, 'colsample_bytree': 0.7}\n",
      "Trace xgbc_random() --- starting new iteration --- time elapsed = 663.3433110713959 seconds\n",
      "Trace xgbc_random() --- trying hyperparameters = {'n_estimators': 1000, 'max_depth': 9, 'learning_rate': 0.01, 'subsample': 0.8, 'min_child_weight': 7, 'nthread': 1, 'gamma': 2.5, 'colsample_bytree': 0.9999999999999999}\n",
      "Trace xgbc_random() --- best_score updated to 0.9168689909682431\n",
      "Trace xgbc_random() --- best_kwargs updated to {'n_estimators': 1000, 'max_depth': 9, 'learning_rate': 0.01, 'subsample': 0.8, 'min_child_weight': 7, 'nthread': 1, 'gamma': 2.5, 'colsample_bytree': 0.9999999999999999}\n",
      "Trace xgbc_random() --- starting new iteration --- time elapsed = 819.0275282859802 seconds\n",
      "Trace xgbc_random() --- trying hyperparameters = {'n_estimators': 50, 'max_depth': 2, 'learning_rate': 0.001, 'subsample': 0.3, 'min_child_weight': 18, 'nthread': 1, 'gamma': 1.0, 'colsample_bytree': 0.9999999999999999}\n",
      "Trace xgbc_random() --- starting new iteration --- time elapsed = 821.0174298286438 seconds\n",
      "Trace xgbc_random() --- trying hyperparameters = {'n_estimators': 100, 'max_depth': 2, 'learning_rate': 0.01, 'subsample': 0.8, 'min_child_weight': 11, 'nthread': 1, 'gamma': 0.5, 'colsample_bytree': 0.7999999999999999}\n",
      "Trace xgbc_random() --- starting new iteration --- time elapsed = 824.402755022049 seconds\n",
      "Trace xgbc_random() --- trying hyperparameters = {'n_estimators': 500, 'max_depth': 4, 'learning_rate': 0.001, 'subsample': 0.2, 'min_child_weight': 2, 'nthread': 1, 'gamma': 1.0, 'colsample_bytree': 0.7999999999999999}\n",
      "Trace xgbc_random() --- starting new iteration --- time elapsed = 848.2672488689423 seconds\n",
      "Trace xgbc_random() --- trying hyperparameters = {'n_estimators': 100, 'max_depth': 10, 'learning_rate': 1.0, 'subsample': 0.9500000000000001, 'min_child_weight': 7, 'nthread': 1, 'gamma': 5.0, 'colsample_bytree': 0.8999999999999999}\n",
      "Trace xgbc_random() --- starting new iteration --- time elapsed = 863.1996433734894 seconds\n",
      "Trace xgbc_random() --- trying hyperparameters = {'n_estimators': 50, 'max_depth': 9, 'learning_rate': 1.0, 'subsample': 0.4, 'min_child_weight': 16, 'nthread': 1, 'gamma': 5.0, 'colsample_bytree': 0.8999999999999999}\n",
      "Trace xgbc_random() --- starting new iteration --- time elapsed = 871.0648522377014 seconds\n",
      "Trace xgbc_random() --- trying hyperparameters = {'n_estimators': 100, 'max_depth': 8, 'learning_rate': 0.5, 'subsample': 0.7500000000000001, 'min_child_weight': 12, 'nthread': 1, 'gamma': 0.5, 'colsample_bytree': 0.6}\n",
      "Trace xgbc_random() --- starting new iteration --- time elapsed = 880.9274530410767 seconds\n",
      "Trace xgbc_random() --- trying hyperparameters = {'n_estimators': 1000, 'max_depth': 3, 'learning_rate': 1.0, 'subsample': 0.8500000000000001, 'min_child_weight': 7, 'nthread': 1, 'gamma': 3.0, 'colsample_bytree': 0.8999999999999999}\n",
      "Trace xgbc_random() --- starting new iteration --- time elapsed = 928.6565320491791 seconds\n",
      "Trace xgbc_random() --- trying hyperparameters = {'n_estimators': 100, 'max_depth': 4, 'learning_rate': 0.5, 'subsample': 0.8500000000000001, 'min_child_weight': 2, 'nthread': 1, 'gamma': 5.0, 'colsample_bytree': 0.9999999999999999}\n",
      "Trace xgbc_random() --- starting new iteration --- time elapsed = 935.032151222229 seconds\n",
      "Trace xgbc_random() --- trying hyperparameters = {'n_estimators': 50, 'max_depth': 4, 'learning_rate': 0.001, 'subsample': 0.7000000000000001, 'min_child_weight': 12, 'nthread': 1, 'gamma': 3.0, 'colsample_bytree': 0.6}\n",
      "Trace xgbc_random() --- starting new iteration --- time elapsed = 937.2561149597168 seconds\n",
      "Trace xgbc_random() --- trying hyperparameters = {'n_estimators': 100, 'max_depth': 1, 'learning_rate': 0.1, 'subsample': 0.2, 'min_child_weight': 5, 'nthread': 1, 'gamma': 5.0, 'colsample_bytree': 0.7999999999999999}\n",
      "Trace xgbc_random() --- starting new iteration --- time elapsed = 938.7565445899963 seconds\n",
      "Trace xgbc_random() --- trying hyperparameters = {'n_estimators': 1000, 'max_depth': 9, 'learning_rate': 0.01, 'subsample': 0.35000000000000003, 'min_child_weight': 1, 'nthread': 1, 'gamma': 0.5, 'colsample_bytree': 0.7}\n",
      "Trace xgbc_random() --- starting new iteration --- time elapsed = 1059.914380788803 seconds\n",
      "Trace xgbc_random() --- trying hyperparameters = {'n_estimators': 1000, 'max_depth': 7, 'learning_rate': 1.0, 'subsample': 0.1, 'min_child_weight': 9, 'nthread': 1, 'gamma': 1.0, 'colsample_bytree': 0.9999999999999999}\n",
      "Trace xgbc_random() --- starting new iteration --- time elapsed = 1102.9946014881134 seconds\n",
      "Trace xgbc_random() --- trying hyperparameters = {'n_estimators': 500, 'max_depth': 1, 'learning_rate': 0.1, 'subsample': 0.7500000000000001, 'min_child_weight': 11, 'nthread': 1, 'gamma': 4.5, 'colsample_bytree': 0.6}\n",
      "Trace xgbc_random() --- starting new iteration --- time elapsed = 1111.361248254776 seconds\n",
      "Trace xgbc_random() --- trying hyperparameters = {'n_estimators': 50, 'max_depth': 1, 'learning_rate': 0.001, 'subsample': 0.7000000000000001, 'min_child_weight': 14, 'nthread': 1, 'gamma': 0.0, 'colsample_bytree': 0.9999999999999999}\n",
      "Trace xgbc_random() --- starting new iteration --- time elapsed = 1112.5929479599 seconds\n",
      "Trace xgbc_random() --- trying hyperparameters = {'n_estimators': 500, 'max_depth': 7, 'learning_rate': 0.001, 'subsample': 0.4, 'min_child_weight': 15, 'nthread': 1, 'gamma': 5.0, 'colsample_bytree': 0.9999999999999999}\n",
      "Trace xgbc_random() --- starting new iteration --- time elapsed = 1170.477358341217 seconds\n",
      "Trace xgbc_random() --- trying hyperparameters = {'n_estimators': 50, 'max_depth': 6, 'learning_rate': 0.01, 'subsample': 0.3, 'min_child_weight': 19, 'nthread': 1, 'gamma': 0.5, 'colsample_bytree': 0.6}\n",
      "Trace xgbc_random() --- starting new iteration --- time elapsed = 1173.4746315479279 seconds\n",
      "Trace xgbc_random() --- trying hyperparameters = {'n_estimators': 100, 'max_depth': 2, 'learning_rate': 0.5, 'subsample': 0.4, 'min_child_weight': 18, 'nthread': 1, 'gamma': 5.0, 'colsample_bytree': 0.7999999999999999}\n",
      "Trace xgbc_random() --- starting new iteration --- time elapsed = 1176.8148028850555 seconds\n",
      "Trace xgbc_random() --- trying hyperparameters = {'n_estimators': 100, 'max_depth': 9, 'learning_rate': 0.001, 'subsample': 0.45, 'min_child_weight': 5, 'nthread': 1, 'gamma': 4.5, 'colsample_bytree': 0.7}\n",
      "Trace xgbc_random() --- starting new iteration --- time elapsed = 1187.5068876743317 seconds\n",
      "Trace xgbc_random() --- trying hyperparameters = {'n_estimators': 500, 'max_depth': 1, 'learning_rate': 1.0, 'subsample': 0.15000000000000002, 'min_child_weight': 15, 'nthread': 1, 'gamma': 0.5, 'colsample_bytree': 0.6}\n",
      "Trace xgbc_random() --- starting new iteration --- time elapsed = 1192.8168885707855 seconds\n",
      "Trace xgbc_random() --- trying hyperparameters = {'n_estimators': 1000, 'max_depth': 6, 'learning_rate': 0.01, 'subsample': 0.6500000000000001, 'min_child_weight': 8, 'nthread': 1, 'gamma': 4.0, 'colsample_bytree': 0.5}\n",
      "Trace xgbc_random() --- starting new iteration --- time elapsed = 1257.9674818515778 seconds\n",
      "Trace xgbc_random() --- trying hyperparameters = {'n_estimators': 100, 'max_depth': 7, 'learning_rate': 0.1, 'subsample': 0.4, 'min_child_weight': 14, 'nthread': 1, 'gamma': 3.0, 'colsample_bytree': 0.7999999999999999}\n",
      "Trace xgbc_random() --- starting new iteration --- time elapsed = 1268.319139957428 seconds\n",
      "Trace xgbc_random() --- trying hyperparameters = {'n_estimators': 100, 'max_depth': 10, 'learning_rate': 0.01, 'subsample': 0.8500000000000001, 'min_child_weight': 5, 'nthread': 1, 'gamma': 4.0, 'colsample_bytree': 0.7}\n"
     ]
    },
    {
     "name": "stdout",
     "output_type": "stream",
     "text": [
      "Trace xgbc_random() --- starting new iteration --- time elapsed = 1280.6120071411133 seconds\n",
      "Trace xgbc_random() --- trying hyperparameters = {'n_estimators': 1000, 'max_depth': 6, 'learning_rate': 1.0, 'subsample': 0.7500000000000001, 'min_child_weight': 13, 'nthread': 1, 'gamma': 4.5, 'colsample_bytree': 0.5}\n",
      "Trace xgbc_random() --- starting new iteration --- time elapsed = 1339.774540424347 seconds\n",
      "Trace xgbc_random() --- trying hyperparameters = {'n_estimators': 500, 'max_depth': 5, 'learning_rate': 0.01, 'subsample': 0.25, 'min_child_weight': 2, 'nthread': 1, 'gamma': 4.0, 'colsample_bytree': 0.6}\n",
      "Trace xgbc_random() --- starting new iteration --- time elapsed = 1368.1511919498444 seconds\n",
      "Trace xgbc_random() --- trying hyperparameters = {'n_estimators': 1000, 'max_depth': 3, 'learning_rate': 0.5, 'subsample': 0.35000000000000003, 'min_child_weight': 9, 'nthread': 1, 'gamma': 3.5, 'colsample_bytree': 0.9999999999999999}\n",
      "Trace xgbc_random() --- starting new iteration --- time elapsed = 1428.4519608020782 seconds\n",
      "Trace xgbc_random() --- trying hyperparameters = {'n_estimators': 500, 'max_depth': 9, 'learning_rate': 0.01, 'subsample': 0.1, 'min_child_weight': 14, 'nthread': 1, 'gamma': 3.0, 'colsample_bytree': 0.8999999999999999}\n",
      "Trace xgbc_random() --- starting new iteration --- time elapsed = 1460.6662421226501 seconds\n",
      "Trace xgbc_random() --- trying hyperparameters = {'n_estimators': 50, 'max_depth': 6, 'learning_rate': 0.5, 'subsample': 0.15000000000000002, 'min_child_weight': 14, 'nthread': 1, 'gamma': 4.5, 'colsample_bytree': 0.7}\n",
      "Trace xgbc_random() --- starting new iteration --- time elapsed = 1463.6657071113586 seconds\n",
      "Trace xgbc_random() --- trying hyperparameters = {'n_estimators': 100, 'max_depth': 1, 'learning_rate': 0.1, 'subsample': 0.55, 'min_child_weight': 6, 'nthread': 1, 'gamma': 1.0, 'colsample_bytree': 0.6}\n",
      "Trace xgbc_random() --- starting new iteration --- time elapsed = 1465.4285094738007 seconds\n",
      "Trace xgbc_random() --- trying hyperparameters = {'n_estimators': 50, 'max_depth': 10, 'learning_rate': 0.1, 'subsample': 0.6500000000000001, 'min_child_weight': 18, 'nthread': 1, 'gamma': 5.0, 'colsample_bytree': 0.9999999999999999}\n",
      "Trace xgbc_random() --- starting new iteration --- time elapsed = 1473.7170281410217 seconds\n",
      "Trace xgbc_random() --- trying hyperparameters = {'n_estimators': 1000, 'max_depth': 3, 'learning_rate': 0.01, 'subsample': 0.8, 'min_child_weight': 8, 'nthread': 1, 'gamma': 4.5, 'colsample_bytree': 0.8999999999999999}\n",
      "Trace xgbc_random() --- starting new iteration --- time elapsed = 1519.9341163635254 seconds\n",
      "Trace xgbc_random() --- trying hyperparameters = {'n_estimators': 100, 'max_depth': 7, 'learning_rate': 0.5, 'subsample': 0.7500000000000001, 'min_child_weight': 2, 'nthread': 1, 'gamma': 4.5, 'colsample_bytree': 0.9999999999999999}\n",
      "Trace xgbc_random() --- starting new iteration --- time elapsed = 1533.7533745765686 seconds\n",
      "Trace xgbc_random() --- trying hyperparameters = {'n_estimators': 100, 'max_depth': 5, 'learning_rate': 1.0, 'subsample': 0.3, 'min_child_weight': 20, 'nthread': 1, 'gamma': 2.5, 'colsample_bytree': 0.6}\n",
      "Trace xgbc_random() --- starting new iteration --- time elapsed = 1539.3571319580078 seconds\n",
      "Trace xgbc_random() --- trying hyperparameters = {'n_estimators': 500, 'max_depth': 1, 'learning_rate': 0.001, 'subsample': 0.7500000000000001, 'min_child_weight': 12, 'nthread': 1, 'gamma': 4.5, 'colsample_bytree': 0.8999999999999999}\n",
      "Trace xgbc_random() --- starting new iteration --- time elapsed = 1549.181069135666 seconds\n",
      "Trace xgbc_random() --- trying hyperparameters = {'n_estimators': 50, 'max_depth': 9, 'learning_rate': 0.01, 'subsample': 0.25, 'min_child_weight': 6, 'nthread': 1, 'gamma': 2.5, 'colsample_bytree': 0.9999999999999999}\n",
      "Trace xgbc_random() --- best_score updated to 0.9180343789453239\n",
      "Trace xgbc_random() --- best_kwargs updated to {'n_estimators': 50, 'max_depth': 9, 'learning_rate': 0.01, 'subsample': 0.25, 'min_child_weight': 6, 'nthread': 1, 'gamma': 2.5, 'colsample_bytree': 0.9999999999999999}\n",
      "Trace xgbc_random() --- starting new iteration --- time elapsed = 1554.9352180957794 seconds\n",
      "Trace xgbc_random() --- trying hyperparameters = {'n_estimators': 1000, 'max_depth': 7, 'learning_rate': 0.01, 'subsample': 0.25, 'min_child_weight': 16, 'nthread': 1, 'gamma': 1.0, 'colsample_bytree': 0.5}\n",
      "Trace xgbc_random() --- starting new iteration --- time elapsed = 1606.952941417694 seconds\n",
      "Trace xgbc_random() --- trying hyperparameters = {'n_estimators': 50, 'max_depth': 4, 'learning_rate': 0.001, 'subsample': 0.7000000000000001, 'min_child_weight': 17, 'nthread': 1, 'gamma': 1.0, 'colsample_bytree': 0.6}\n",
      "Trace xgbc_random() --- starting new iteration --- time elapsed = 1609.3874459266663 seconds\n",
      "Trace xgbc_random() --- trying hyperparameters = {'n_estimators': 500, 'max_depth': 4, 'learning_rate': 0.01, 'subsample': 0.5, 'min_child_weight': 14, 'nthread': 1, 'gamma': 1.0, 'colsample_bytree': 0.7}\n",
      "Trace xgbc_random() --- starting new iteration --- time elapsed = 1638.101054906845 seconds\n",
      "Trace xgbc_random() --- trying hyperparameters = {'n_estimators': 50, 'max_depth': 6, 'learning_rate': 0.01, 'subsample': 0.9500000000000001, 'min_child_weight': 4, 'nthread': 1, 'gamma': 1.0, 'colsample_bytree': 0.6}\n",
      "Trace xgbc_random() --- starting new iteration --- time elapsed = 1641.7826263904572 seconds\n",
      "Trace xgbc_random() --- trying hyperparameters = {'n_estimators': 100, 'max_depth': 9, 'learning_rate': 0.1, 'subsample': 0.8, 'min_child_weight': 7, 'nthread': 1, 'gamma': 2.0, 'colsample_bytree': 0.6}\n",
      "Trace xgbc_random() --- starting new iteration --- time elapsed = 1652.341979265213 seconds\n",
      "Trace xgbc_random() --- trying hyperparameters = {'n_estimators': 50, 'max_depth': 9, 'learning_rate': 0.5, 'subsample': 0.7000000000000001, 'min_child_weight': 12, 'nthread': 1, 'gamma': 0.5, 'colsample_bytree': 0.6}\n",
      "Trace xgbc_random() --- starting new iteration --- time elapsed = 1658.0233659744263 seconds\n",
      "Trace xgbc_random() --- trying hyperparameters = {'n_estimators': 1000, 'max_depth': 9, 'learning_rate': 1.0, 'subsample': 0.8, 'min_child_weight': 19, 'nthread': 1, 'gamma': 5.0, 'colsample_bytree': 0.7}\n",
      "Trace xgbc_random() --- starting new iteration --- time elapsed = 1766.5675783157349 seconds\n",
      "Trace xgbc_random() --- trying hyperparameters = {'n_estimators': 50, 'max_depth': 9, 'learning_rate': 0.001, 'subsample': 0.25, 'min_child_weight': 8, 'nthread': 1, 'gamma': 0.5, 'colsample_bytree': 0.9999999999999999}\n",
      "Trace xgbc_random() --- starting new iteration --- time elapsed = 1771.8838329315186 seconds\n",
      "Trace xgbc_random() --- trying hyperparameters = {'n_estimators': 50, 'max_depth': 9, 'learning_rate': 1.0, 'subsample': 0.55, 'min_child_weight': 19, 'nthread': 1, 'gamma': 2.5, 'colsample_bytree': 0.7999999999999999}\n",
      "Trace xgbc_random() --- starting new iteration --- time elapsed = 1778.1262981891632 seconds\n",
      "Trace xgbc_random() --- trying hyperparameters = {'n_estimators': 500, 'max_depth': 7, 'learning_rate': 0.01, 'subsample': 0.3, 'min_child_weight': 2, 'nthread': 1, 'gamma': 4.0, 'colsample_bytree': 0.5}\n",
      "Trace xgbc_random() --- starting new iteration --- time elapsed = 1810.056215763092 seconds\n",
      "Trace xgbc_random() --- trying hyperparameters = {'n_estimators': 50, 'max_depth': 6, 'learning_rate': 0.5, 'subsample': 0.1, 'min_child_weight': 4, 'nthread': 1, 'gamma': 5.0, 'colsample_bytree': 0.6}\n",
      "Trace xgbc_random() --- starting new iteration --- time elapsed = 1812.5937666893005 seconds\n",
      "Trace xgbc_random() --- trying hyperparameters = {'n_estimators': 50, 'max_depth': 8, 'learning_rate': 0.001, 'subsample': 1.0, 'min_child_weight': 19, 'nthread': 1, 'gamma': 3.0, 'colsample_bytree': 0.8999999999999999}\n",
      "Trace xgbc_random() --- starting new iteration --- time elapsed = 1817.9388284683228 seconds\n",
      "Trace xgbc_random() --- trying hyperparameters = {'n_estimators': 100, 'max_depth': 3, 'learning_rate': 0.001, 'subsample': 1.0, 'min_child_weight': 15, 'nthread': 1, 'gamma': 1.5, 'colsample_bytree': 0.9999999999999999}\n",
      "Trace xgbc_random() --- starting new iteration --- time elapsed = 1822.7153055667877 seconds\n",
      "Trace xgbc_random() --- trying hyperparameters = {'n_estimators': 100, 'max_depth': 4, 'learning_rate': 0.01, 'subsample': 0.6000000000000001, 'min_child_weight': 4, 'nthread': 1, 'gamma': 5.0, 'colsample_bytree': 0.8999999999999999}\n"
     ]
    },
    {
     "name": "stdout",
     "output_type": "stream",
     "text": [
      "Trace xgbc_random() --- starting new iteration --- time elapsed = 1831.0357489585876 seconds\n",
      "Trace xgbc_random() --- trying hyperparameters = {'n_estimators': 100, 'max_depth': 7, 'learning_rate': 0.001, 'subsample': 0.15000000000000002, 'min_child_weight': 8, 'nthread': 1, 'gamma': 5.0, 'colsample_bytree': 0.7}\n",
      "Trace xgbc_random() --- starting new iteration --- time elapsed = 1836.5714242458344 seconds\n",
      "Trace xgbc_random() --- trying hyperparameters = {'n_estimators': 100, 'max_depth': 7, 'learning_rate': 0.01, 'subsample': 0.7000000000000001, 'min_child_weight': 19, 'nthread': 1, 'gamma': 5.0, 'colsample_bytree': 0.9999999999999999}\n",
      "Trace xgbc_random() --- starting new iteration --- time elapsed = 1848.8310241699219 seconds\n",
      "Trace xgbc_random() --- trying hyperparameters = {'n_estimators': 50, 'max_depth': 4, 'learning_rate': 0.001, 'subsample': 0.9000000000000001, 'min_child_weight': 1, 'nthread': 1, 'gamma': 4.0, 'colsample_bytree': 0.9999999999999999}\n",
      "Trace xgbc_random() --- starting new iteration --- time elapsed = 1852.5805580615997 seconds\n",
      "Trace xgbc_random() --- trying hyperparameters = {'n_estimators': 500, 'max_depth': 10, 'learning_rate': 0.001, 'subsample': 0.9500000000000001, 'min_child_weight': 15, 'nthread': 1, 'gamma': 3.0, 'colsample_bytree': 0.9999999999999999}\n",
      "Trace xgbc_random() --- starting new iteration --- time elapsed = 1918.735976934433 seconds\n",
      "Trace xgbc_random() --- trying hyperparameters = {'n_estimators': 100, 'max_depth': 7, 'learning_rate': 0.5, 'subsample': 0.55, 'min_child_weight': 17, 'nthread': 1, 'gamma': 1.5, 'colsample_bytree': 0.7999999999999999}\n",
      "Trace xgbc_random() --- starting new iteration --- time elapsed = 1929.2013339996338 seconds\n",
      "Trace xgbc_random() --- trying hyperparameters = {'n_estimators': 50, 'max_depth': 7, 'learning_rate': 0.01, 'subsample': 0.1, 'min_child_weight': 14, 'nthread': 1, 'gamma': 1.0, 'colsample_bytree': 0.9999999999999999}\n",
      "Trace xgbc_random() --- starting new iteration --- time elapsed = 1932.133740901947 seconds\n",
      "Trace xgbc_random() --- trying hyperparameters = {'n_estimators': 100, 'max_depth': 4, 'learning_rate': 0.001, 'subsample': 0.7500000000000001, 'min_child_weight': 1, 'nthread': 1, 'gamma': 1.0, 'colsample_bytree': 0.5}\n",
      "Trace xgbc_random() --- starting new iteration --- time elapsed = 1935.647581577301 seconds\n",
      "Trace xgbc_random() --- trying hyperparameters = {'n_estimators': 1000, 'max_depth': 1, 'learning_rate': 0.5, 'subsample': 0.45, 'min_child_weight': 16, 'nthread': 1, 'gamma': 3.0, 'colsample_bytree': 0.8999999999999999}\n",
      "Trace xgbc_random() --- starting new iteration --- time elapsed = 1955.6129431724548 seconds\n",
      "Trace xgbc_random() --- trying hyperparameters = {'n_estimators': 500, 'max_depth': 6, 'learning_rate': 0.001, 'subsample': 0.05, 'min_child_weight': 4, 'nthread': 1, 'gamma': 0.0, 'colsample_bytree': 0.5}\n",
      "Trace xgbc_random() --- starting new iteration --- time elapsed = 1969.2081036567688 seconds\n",
      "Trace xgbc_random() --- trying hyperparameters = {'n_estimators': 100, 'max_depth': 1, 'learning_rate': 0.01, 'subsample': 0.8500000000000001, 'min_child_weight': 16, 'nthread': 1, 'gamma': 2.5, 'colsample_bytree': 0.7}\n",
      "Trace xgbc_random() --- starting new iteration --- time elapsed = 1970.6763603687286 seconds\n",
      "Trace xgbc_random() --- trying hyperparameters = {'n_estimators': 500, 'max_depth': 4, 'learning_rate': 1.0, 'subsample': 0.8500000000000001, 'min_child_weight': 4, 'nthread': 1, 'gamma': 0.5, 'colsample_bytree': 0.9999999999999999}\n",
      "Trace xgbc_random() --- starting new iteration --- time elapsed = 2003.8019528388977 seconds\n",
      "Trace xgbc_random() --- trying hyperparameters = {'n_estimators': 100, 'max_depth': 4, 'learning_rate': 1.0, 'subsample': 1.0, 'min_child_weight': 10, 'nthread': 1, 'gamma': 3.0, 'colsample_bytree': 0.9999999999999999}\n",
      "Trace xgbc_random() --- starting new iteration --- time elapsed = 2009.1347496509552 seconds\n",
      "Trace xgbc_random() --- trying hyperparameters = {'n_estimators': 50, 'max_depth': 4, 'learning_rate': 0.01, 'subsample': 0.5, 'min_child_weight': 14, 'nthread': 1, 'gamma': 2.0, 'colsample_bytree': 0.5}\n",
      "Trace xgbc_random() --- starting new iteration --- time elapsed = 2011.102935552597 seconds\n",
      "Trace xgbc_random() --- trying hyperparameters = {'n_estimators': 100, 'max_depth': 1, 'learning_rate': 0.1, 'subsample': 0.9000000000000001, 'min_child_weight': 11, 'nthread': 1, 'gamma': 2.5, 'colsample_bytree': 0.6}\n",
      "Trace xgbc_random() --- starting new iteration --- time elapsed = 2012.356426000595 seconds\n",
      "Trace xgbc_random() --- trying hyperparameters = {'n_estimators': 100, 'max_depth': 3, 'learning_rate': 0.5, 'subsample': 0.9000000000000001, 'min_child_weight': 13, 'nthread': 1, 'gamma': 4.5, 'colsample_bytree': 0.6}\n",
      "Trace xgbc_random() --- starting new iteration --- time elapsed = 2015.0921399593353 seconds\n",
      "Trace xgbc_random() --- trying hyperparameters = {'n_estimators': 1000, 'max_depth': 2, 'learning_rate': 1.0, 'subsample': 0.45, 'min_child_weight': 20, 'nthread': 1, 'gamma': 5.0, 'colsample_bytree': 0.6}\n",
      "Trace xgbc_random() --- starting new iteration --- time elapsed = 2040.8659715652466 seconds\n",
      "Trace xgbc_random() --- trying hyperparameters = {'n_estimators': 500, 'max_depth': 8, 'learning_rate': 1.0, 'subsample': 1.0, 'min_child_weight': 1, 'nthread': 1, 'gamma': 2.5, 'colsample_bytree': 0.5}\n",
      "Trace xgbc_random() --- starting new iteration --- time elapsed = 2072.2906630039215 seconds\n",
      "Trace xgbc_random() --- trying hyperparameters = {'n_estimators': 100, 'max_depth': 4, 'learning_rate': 0.001, 'subsample': 0.35000000000000003, 'min_child_weight': 14, 'nthread': 1, 'gamma': 3.5, 'colsample_bytree': 0.7999999999999999}\n",
      "Trace xgbc_random() --- starting new iteration --- time elapsed = 2077.651430130005 seconds\n",
      "Trace xgbc_random() --- trying hyperparameters = {'n_estimators': 100, 'max_depth': 8, 'learning_rate': 1.0, 'subsample': 0.7500000000000001, 'min_child_weight': 9, 'nthread': 1, 'gamma': 3.0, 'colsample_bytree': 0.7}\n",
      "Trace xgbc_random() --- starting new iteration --- time elapsed = 2086.876516342163 seconds\n",
      "Trace xgbc_random() --- trying hyperparameters = {'n_estimators': 50, 'max_depth': 6, 'learning_rate': 0.001, 'subsample': 0.35000000000000003, 'min_child_weight': 7, 'nthread': 1, 'gamma': 3.5, 'colsample_bytree': 0.9999999999999999}\n",
      "Trace xgbc_random() --- starting new iteration --- time elapsed = 2091.6837754249573 seconds\n",
      "Trace xgbc_random() --- trying hyperparameters = {'n_estimators': 50, 'max_depth': 4, 'learning_rate': 0.5, 'subsample': 0.6000000000000001, 'min_child_weight': 18, 'nthread': 1, 'gamma': 2.0, 'colsample_bytree': 0.9999999999999999}\n",
      "Trace xgbc_random() --- starting new iteration --- time elapsed = 2095.4650433063507 seconds\n",
      "Trace xgbc_random() --- trying hyperparameters = {'n_estimators': 50, 'max_depth': 2, 'learning_rate': 0.01, 'subsample': 0.4, 'min_child_weight': 6, 'nthread': 1, 'gamma': 1.0, 'colsample_bytree': 0.5}\n",
      "Trace xgbc_random() --- starting new iteration --- time elapsed = 2096.7537178993225 seconds\n",
      "Trace xgbc_random() --- trying hyperparameters = {'n_estimators': 1000, 'max_depth': 2, 'learning_rate': 1.0, 'subsample': 0.8500000000000001, 'min_child_weight': 3, 'nthread': 1, 'gamma': 1.0, 'colsample_bytree': 0.9999999999999999}\n",
      "Trace xgbc_random() --- starting new iteration --- time elapsed = 2129.9784791469574 seconds\n",
      "Trace xgbc_random() --- trying hyperparameters = {'n_estimators': 100, 'max_depth': 10, 'learning_rate': 0.001, 'subsample': 0.9500000000000001, 'min_child_weight': 10, 'nthread': 1, 'gamma': 1.5, 'colsample_bytree': 0.9999999999999999}\n",
      "Trace xgbc_random() --- starting new iteration --- time elapsed = 2144.044473171234 seconds\n",
      "Trace xgbc_random() --- trying hyperparameters = {'n_estimators': 50, 'max_depth': 1, 'learning_rate': 0.001, 'subsample': 0.35000000000000003, 'min_child_weight': 7, 'nthread': 1, 'gamma': 1.0, 'colsample_bytree': 0.5}\n",
      "Trace xgbc_random() --- starting new iteration --- time elapsed = 2144.974764585495 seconds\n",
      "Trace xgbc_random() --- trying hyperparameters = {'n_estimators': 100, 'max_depth': 3, 'learning_rate': 1.0, 'subsample': 0.7000000000000001, 'min_child_weight': 2, 'nthread': 1, 'gamma': 3.5, 'colsample_bytree': 0.7999999999999999}\n"
     ]
    },
    {
     "name": "stdout",
     "output_type": "stream",
     "text": [
      "Trace xgbc_random() --- starting new iteration --- time elapsed = 2149.4917392730713 seconds\n",
      "Trace xgbc_random() --- trying hyperparameters = {'n_estimators': 1000, 'max_depth': 7, 'learning_rate': 0.01, 'subsample': 0.7500000000000001, 'min_child_weight': 3, 'nthread': 1, 'gamma': 1.5, 'colsample_bytree': 0.7999999999999999}\n",
      "Trace xgbc_random() --- starting new iteration --- time elapsed = 2255.8401415348053 seconds\n",
      "Trace xgbc_random() --- trying hyperparameters = {'n_estimators': 500, 'max_depth': 5, 'learning_rate': 0.5, 'subsample': 1.0, 'min_child_weight': 18, 'nthread': 1, 'gamma': 3.5, 'colsample_bytree': 0.5}\n",
      "Trace xgbc_random() --- starting new iteration --- time elapsed = 2273.335783481598 seconds\n",
      "Trace xgbc_random() --- trying hyperparameters = {'n_estimators': 500, 'max_depth': 2, 'learning_rate': 0.001, 'subsample': 0.15000000000000002, 'min_child_weight': 18, 'nthread': 1, 'gamma': 5.0, 'colsample_bytree': 0.6}\n",
      "Trace xgbc_random() --- starting new iteration --- time elapsed = 2283.1306581497192 seconds\n",
      "Trace xgbc_random() --- trying hyperparameters = {'n_estimators': 500, 'max_depth': 5, 'learning_rate': 1.0, 'subsample': 0.7500000000000001, 'min_child_weight': 2, 'nthread': 1, 'gamma': 4.5, 'colsample_bytree': 0.8999999999999999}\n",
      "Trace xgbc_random() --- starting new iteration --- time elapsed = 2322.064183473587 seconds\n",
      "Trace xgbc_random() --- trying hyperparameters = {'n_estimators': 500, 'max_depth': 10, 'learning_rate': 0.1, 'subsample': 0.45, 'min_child_weight': 16, 'nthread': 1, 'gamma': 2.5, 'colsample_bytree': 0.5}\n",
      "Trace xgbc_random() --- starting new iteration --- time elapsed = 2364.7955417633057 seconds\n",
      "Trace xgbc_random() --- trying hyperparameters = {'n_estimators': 100, 'max_depth': 4, 'learning_rate': 1.0, 'subsample': 0.3, 'min_child_weight': 4, 'nthread': 1, 'gamma': 2.5, 'colsample_bytree': 0.8999999999999999}\n",
      "Trace xgbc_random() --- starting new iteration --- time elapsed = 2370.9662177562714 seconds\n",
      "Trace xgbc_random() --- trying hyperparameters = {'n_estimators': 50, 'max_depth': 8, 'learning_rate': 0.001, 'subsample': 0.2, 'min_child_weight': 11, 'nthread': 1, 'gamma': 4.5, 'colsample_bytree': 0.7999999999999999}\n",
      "Trace xgbc_random() --- starting new iteration --- time elapsed = 2374.699156999588 seconds\n",
      "Trace xgbc_random() --- trying hyperparameters = {'n_estimators': 500, 'max_depth': 7, 'learning_rate': 0.01, 'subsample': 0.55, 'min_child_weight': 12, 'nthread': 1, 'gamma': 3.0, 'colsample_bytree': 0.9999999999999999}\n",
      "Trace xgbc_random() --- starting new iteration --- time elapsed = 2440.777197599411 seconds\n",
      "Trace xgbc_random() --- trying hyperparameters = {'n_estimators': 100, 'max_depth': 10, 'learning_rate': 1.0, 'subsample': 0.7500000000000001, 'min_child_weight': 5, 'nthread': 1, 'gamma': 4.0, 'colsample_bytree': 0.9999999999999999}\n",
      "Trace xgbc_random() --- starting new iteration --- time elapsed = 2459.24876332283 seconds\n",
      "Trace xgbc_random() --- trying hyperparameters = {'n_estimators': 1000, 'max_depth': 10, 'learning_rate': 0.5, 'subsample': 0.9000000000000001, 'min_child_weight': 17, 'nthread': 1, 'gamma': 3.5, 'colsample_bytree': 0.7}\n",
      "Trace xgbc_random() --- starting new iteration --- time elapsed = 2582.621740102768 seconds\n",
      "Trace xgbc_random() --- trying hyperparameters = {'n_estimators': 500, 'max_depth': 3, 'learning_rate': 0.5, 'subsample': 0.2, 'min_child_weight': 10, 'nthread': 1, 'gamma': 0.0, 'colsample_bytree': 0.9999999999999999}\n",
      "Trace xgbc_random() --- starting new iteration --- time elapsed = 2604.7728159427643 seconds\n",
      "Trace xgbc_random() --- trying hyperparameters = {'n_estimators': 50, 'max_depth': 9, 'learning_rate': 0.01, 'subsample': 0.05, 'min_child_weight': 13, 'nthread': 1, 'gamma': 3.5, 'colsample_bytree': 0.7}\n",
      "Trace xgbc_random() --- starting new iteration --- time elapsed = 2606.3463785648346 seconds\n",
      "Trace xgbc_random() --- trying hyperparameters = {'n_estimators': 1000, 'max_depth': 6, 'learning_rate': 1.0, 'subsample': 1.0, 'min_child_weight': 1, 'nthread': 1, 'gamma': 5.0, 'colsample_bytree': 0.6}\n",
      "Trace xgbc_random() --- starting new iteration --- time elapsed = 2659.5469942092896 seconds\n",
      "Trace xgbc_random() --- trying hyperparameters = {'n_estimators': 1000, 'max_depth': 7, 'learning_rate': 0.01, 'subsample': 0.4, 'min_child_weight': 1, 'nthread': 1, 'gamma': 1.0, 'colsample_bytree': 0.7}\n",
      "Trace xgbc_random() --- starting new iteration --- time elapsed = 2760.4526286125183 seconds\n",
      "Trace xgbc_random() --- trying hyperparameters = {'n_estimators': 1000, 'max_depth': 4, 'learning_rate': 0.1, 'subsample': 0.8500000000000001, 'min_child_weight': 14, 'nthread': 1, 'gamma': 4.0, 'colsample_bytree': 0.9999999999999999}\n",
      "Trace xgbc_random() --- starting new iteration --- time elapsed = 2824.662227153778 seconds\n",
      "Trace xgbc_random() --- trying hyperparameters = {'n_estimators': 500, 'max_depth': 5, 'learning_rate': 0.001, 'subsample': 0.6500000000000001, 'min_child_weight': 17, 'nthread': 1, 'gamma': 2.0, 'colsample_bytree': 0.8999999999999999}\n",
      "Trace xgbc_random() --- starting new iteration --- time elapsed = 2866.339028596878 seconds\n",
      "Trace xgbc_random() --- trying hyperparameters = {'n_estimators': 50, 'max_depth': 2, 'learning_rate': 0.1, 'subsample': 0.7000000000000001, 'min_child_weight': 15, 'nthread': 1, 'gamma': 1.5, 'colsample_bytree': 0.7999999999999999}\n",
      "Trace xgbc_random() --- starting new iteration --- time elapsed = 2868.032479286194 seconds\n",
      "Trace xgbc_random() --- trying hyperparameters = {'n_estimators': 50, 'max_depth': 4, 'learning_rate': 0.001, 'subsample': 0.15000000000000002, 'min_child_weight': 10, 'nthread': 1, 'gamma': 2.5, 'colsample_bytree': 0.5}\n",
      "Trace xgbc_random() --- starting new iteration --- time elapsed = 2869.3581812381744 seconds\n",
      "Trace xgbc_random() --- trying hyperparameters = {'n_estimators': 500, 'max_depth': 2, 'learning_rate': 0.1, 'subsample': 0.15000000000000002, 'min_child_weight': 12, 'nthread': 1, 'gamma': 5.0, 'colsample_bytree': 0.7}\n",
      "Trace xgbc_random() --- starting new iteration --- time elapsed = 2879.1521606445312 seconds\n",
      "Trace xgbc_random() --- trying hyperparameters = {'n_estimators': 100, 'max_depth': 2, 'learning_rate': 0.1, 'subsample': 0.15000000000000002, 'min_child_weight': 7, 'nthread': 1, 'gamma': 0.0, 'colsample_bytree': 0.8999999999999999}\n",
      "Trace xgbc_random() --- starting new iteration --- time elapsed = 2881.5903573036194 seconds\n",
      "Trace xgbc_random() --- trying hyperparameters = {'n_estimators': 50, 'max_depth': 6, 'learning_rate': 0.001, 'subsample': 0.4, 'min_child_weight': 2, 'nthread': 1, 'gamma': 1.5, 'colsample_bytree': 0.6}\n",
      "Trace xgbc_random() --- starting new iteration --- time elapsed = 2885.183317422867 seconds\n",
      "Trace xgbc_random() --- trying hyperparameters = {'n_estimators': 500, 'max_depth': 10, 'learning_rate': 0.001, 'subsample': 0.7000000000000001, 'min_child_weight': 18, 'nthread': 1, 'gamma': 2.0, 'colsample_bytree': 0.9999999999999999}\n",
      "Trace xgbc_random() --- starting new iteration --- time elapsed = 2960.001744747162 seconds\n",
      "Trace xgbc_random() --- trying hyperparameters = {'n_estimators': 100, 'max_depth': 8, 'learning_rate': 0.01, 'subsample': 0.15000000000000002, 'min_child_weight': 10, 'nthread': 1, 'gamma': 1.0, 'colsample_bytree': 0.9999999999999999}\n",
      "Trace xgbc_random() --- starting new iteration --- time elapsed = 2968.6047084331512 seconds\n",
      "Trace xgbc_random() --- trying hyperparameters = {'n_estimators': 500, 'max_depth': 8, 'learning_rate': 1.0, 'subsample': 0.1, 'min_child_weight': 8, 'nthread': 1, 'gamma': 4.5, 'colsample_bytree': 0.7999999999999999}\n",
      "Trace xgbc_random() --- starting new iteration --- time elapsed = 2987.876666545868 seconds\n",
      "Trace xgbc_random() --- trying hyperparameters = {'n_estimators': 100, 'max_depth': 10, 'learning_rate': 0.001, 'subsample': 0.9000000000000001, 'min_child_weight': 10, 'nthread': 1, 'gamma': 0.5, 'colsample_bytree': 0.7999999999999999}\n",
      "Trace xgbc_random() --- starting new iteration --- time elapsed = 2998.851798057556 seconds\n",
      "Trace xgbc_random() --- trying hyperparameters = {'n_estimators': 100, 'max_depth': 6, 'learning_rate': 1.0, 'subsample': 0.55, 'min_child_weight': 20, 'nthread': 1, 'gamma': 3.5, 'colsample_bytree': 0.6}\n",
      "Trace xgbc_random() --- starting new iteration --- time elapsed = 3006.111170053482 seconds\n",
      "Trace xgbc_random() --- trying hyperparameters = {'n_estimators': 1000, 'max_depth': 8, 'learning_rate': 0.5, 'subsample': 0.45, 'min_child_weight': 14, 'nthread': 1, 'gamma': 5.0, 'colsample_bytree': 0.8999999999999999}\n"
     ]
    },
    {
     "name": "stdout",
     "output_type": "stream",
     "text": [
      "Trace xgbc_random() --- starting new iteration --- time elapsed = 3129.2469596862793 seconds\n",
      "Trace xgbc_random() --- trying hyperparameters = {'n_estimators': 500, 'max_depth': 9, 'learning_rate': 0.01, 'subsample': 0.45, 'min_child_weight': 19, 'nthread': 1, 'gamma': 4.0, 'colsample_bytree': 0.6}\n",
      "Trace xgbc_random() --- starting new iteration --- time elapsed = 3173.8622636795044 seconds\n",
      "Trace xgbc_random() --- trying hyperparameters = {'n_estimators': 1000, 'max_depth': 9, 'learning_rate': 0.5, 'subsample': 0.4, 'min_child_weight': 7, 'nthread': 1, 'gamma': 1.5, 'colsample_bytree': 0.7999999999999999}\n",
      "Trace xgbc_random() --- starting new iteration --- time elapsed = 3277.0296471118927 seconds\n",
      "Trace xgbc_random() --- trying hyperparameters = {'n_estimators': 500, 'max_depth': 1, 'learning_rate': 0.5, 'subsample': 0.55, 'min_child_weight': 16, 'nthread': 1, 'gamma': 5.0, 'colsample_bytree': 0.7999999999999999}\n",
      "Trace xgbc_random() --- starting new iteration --- time elapsed = 3284.975093126297 seconds\n",
      "Trace xgbc_random() --- trying hyperparameters = {'n_estimators': 500, 'max_depth': 1, 'learning_rate': 0.001, 'subsample': 0.3, 'min_child_weight': 5, 'nthread': 1, 'gamma': 2.0, 'colsample_bytree': 0.7999999999999999}\n",
      "Trace xgbc_random() --- starting new iteration --- time elapsed = 3291.699410200119 seconds\n",
      "Trace xgbc_random() --- trying hyperparameters = {'n_estimators': 500, 'max_depth': 9, 'learning_rate': 1.0, 'subsample': 0.7000000000000001, 'min_child_weight': 8, 'nthread': 1, 'gamma': 5.0, 'colsample_bytree': 0.7999999999999999}\n",
      "Trace xgbc_random() --- starting new iteration --- time elapsed = 3347.154760360718 seconds\n",
      "Trace xgbc_random() --- trying hyperparameters = {'n_estimators': 500, 'max_depth': 1, 'learning_rate': 0.5, 'subsample': 0.6000000000000001, 'min_child_weight': 8, 'nthread': 1, 'gamma': 3.5, 'colsample_bytree': 0.8999999999999999}\n",
      "Trace xgbc_random() --- starting new iteration --- time elapsed = 3355.4174494743347 seconds\n",
      "Trace xgbc_random() --- trying hyperparameters = {'n_estimators': 50, 'max_depth': 4, 'learning_rate': 1.0, 'subsample': 0.25, 'min_child_weight': 2, 'nthread': 1, 'gamma': 3.0, 'colsample_bytree': 0.8999999999999999}\n",
      "Trace xgbc_random() --- starting new iteration --- time elapsed = 3357.530511856079 seconds\n",
      "Trace xgbc_random() --- trying hyperparameters = {'n_estimators': 1000, 'max_depth': 10, 'learning_rate': 1.0, 'subsample': 0.45, 'min_child_weight': 6, 'nthread': 1, 'gamma': 2.5, 'colsample_bytree': 0.6}\n",
      "Trace xgbc_random() --- starting new iteration --- time elapsed = 3438.704253435135 seconds\n",
      "Trace xgbc_random() --- trying hyperparameters = {'n_estimators': 500, 'max_depth': 6, 'learning_rate': 0.1, 'subsample': 0.9000000000000001, 'min_child_weight': 18, 'nthread': 1, 'gamma': 1.5, 'colsample_bytree': 0.9999999999999999}\n",
      "Trace xgbc_random() --- starting new iteration --- time elapsed = 3480.2609374523163 seconds\n",
      "Trace xgbc_random() --- trying hyperparameters = {'n_estimators': 1000, 'max_depth': 1, 'learning_rate': 0.1, 'subsample': 0.25, 'min_child_weight': 12, 'nthread': 1, 'gamma': 5.0, 'colsample_bytree': 0.7}\n",
      "Trace xgbc_random() --- starting new iteration --- time elapsed = 3491.5149228572845 seconds\n",
      "Trace xgbc_random() --- trying hyperparameters = {'n_estimators': 1000, 'max_depth': 7, 'learning_rate': 0.5, 'subsample': 1.0, 'min_child_weight': 17, 'nthread': 1, 'gamma': 0.5, 'colsample_bytree': 0.5}\n",
      "Trace xgbc_random() --- starting new iteration --- time elapsed = 3532.8765733242035 seconds\n",
      "Trace xgbc_random() --- trying hyperparameters = {'n_estimators': 500, 'max_depth': 6, 'learning_rate': 0.5, 'subsample': 0.6500000000000001, 'min_child_weight': 4, 'nthread': 1, 'gamma': 4.5, 'colsample_bytree': 0.6}\n",
      "Trace xgbc_random() --- starting new iteration --- time elapsed = 3561.083599805832 seconds\n",
      "Trace xgbc_random() --- trying hyperparameters = {'n_estimators': 50, 'max_depth': 1, 'learning_rate': 0.5, 'subsample': 0.3, 'min_child_weight': 12, 'nthread': 1, 'gamma': 1.5, 'colsample_bytree': 0.7}\n",
      "Trace xgbc_random() --- starting new iteration --- time elapsed = 3561.7590725421906 seconds\n",
      "Trace xgbc_random() --- trying hyperparameters = {'n_estimators': 1000, 'max_depth': 2, 'learning_rate': 1.0, 'subsample': 0.5, 'min_child_weight': 10, 'nthread': 1, 'gamma': 1.0, 'colsample_bytree': 0.5}\n",
      "Trace xgbc_random() --- starting new iteration --- time elapsed = 3581.549152135849 seconds\n",
      "Trace xgbc_random() --- trying hyperparameters = {'n_estimators': 1000, 'max_depth': 2, 'learning_rate': 0.001, 'subsample': 0.55, 'min_child_weight': 1, 'nthread': 1, 'gamma': 1.0, 'colsample_bytree': 0.5}\n",
      "Trace xgbc_random() --- duration exceeded --- process quitting with best_score = 0.9180343789453239\n"
     ]
    },
    {
     "data": {
      "text/plain": [
       "({'n_estimators': 50,\n",
       "  'max_depth': 9,\n",
       "  'learning_rate': 0.01,\n",
       "  'subsample': 0.25,\n",
       "  'min_child_weight': 6,\n",
       "  'nthread': 1,\n",
       "  'gamma': 2.5,\n",
       "  'colsample_bytree': 0.9999999999999999},\n",
       " 0.9180343789453239)"
      ]
     },
     "execution_count": 29,
     "metadata": {},
     "output_type": "execute_result"
    }
   ],
   "source": [
    "xgbc_random(\n",
    "    config_dict, \n",
    "    3600, \n",
    "    marketing_new[training_indices], \n",
    "    marketing_class[training_indices], \n",
    "    marketing_new[validation_indices], \n",
    "    Marketing.loc[validation_indices, 'class'].values)"
   ]
  },
  {
   "cell_type": "code",
   "execution_count": null,
   "metadata": {},
   "outputs": [],
   "source": []
  },
  {
   "cell_type": "code",
   "execution_count": null,
   "metadata": {},
   "outputs": [],
   "source": []
  }
 ],
 "metadata": {
  "kernelspec": {
   "display_name": "Python 3",
   "language": "python",
   "name": "python3"
  },
  "language_info": {
   "codemirror_mode": {
    "name": "ipython",
    "version": 3
   },
   "file_extension": ".py",
   "mimetype": "text/x-python",
   "name": "python",
   "nbconvert_exporter": "python",
   "pygments_lexer": "ipython3",
   "version": "3.6.5"
  }
 },
 "nbformat": 4,
 "nbformat_minor": 1
}
