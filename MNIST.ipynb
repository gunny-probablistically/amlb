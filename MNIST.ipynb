{
 "cells": [
  {
   "cell_type": "code",
   "execution_count": 1,
   "metadata": {},
   "outputs": [],
   "source": [
    "from tpot import TPOTClassifier\n",
    "from sklearn.datasets import load_digits\n",
    "from sklearn.model_selection import train_test_split"
   ]
  },
  {
   "cell_type": "code",
   "execution_count": 2,
   "metadata": {},
   "outputs": [
    {
     "data": {
      "text/plain": [
       "((1347, 64), (450, 64), (1347,), (450,))"
      ]
     },
     "execution_count": 2,
     "metadata": {},
     "output_type": "execute_result"
    }
   ],
   "source": [
    "digits = load_digits()\n",
    "X_train, X_test, y_train, y_test = train_test_split(digits.data, digits.target,\n",
    "                                                    train_size=0.75, test_size=0.25)\n",
    "X_train.shape, X_test.shape, y_train.shape, y_test.shape"
   ]
  },
  {
   "cell_type": "code",
   "execution_count": 3,
   "metadata": {},
   "outputs": [],
   "source": [
    "from config.classifier_models_only import classifier_config_dict\n",
    "time_allocated = 60"
   ]
  },
  {
   "cell_type": "code",
   "execution_count": 4,
   "metadata": {},
   "outputs": [
    {
     "name": "stdout",
     "output_type": "stream",
     "text": [
      "11 operators have been imported by TPOT.\n"
     ]
    },
    {
     "name": "stderr",
     "output_type": "stream",
     "text": [
      "Optimization Progress: 100%|██████████| 100/100 [05:32<00:00,  5.35s/pipeline]"
     ]
    },
    {
     "name": "stdout",
     "output_type": "stream",
     "text": [
      "_pre_test decorator: _random_mutation_operator: num_test=0 Unsupported set of arguments: The combination of penalty='l1' and loss='hinge' is not supported, Parameters: penalty='l1', loss='hinge', dual=True\n",
      "_pre_test decorator: _random_mutation_operator: num_test=1 Unsupported set of arguments: The combination of penalty='l1' and loss='logistic_regression' are not supported when dual=True, Parameters: penalty='l1', loss='logistic_regression', dual=True\n"
     ]
    },
    {
     "name": "stderr",
     "output_type": "stream",
     "text": [
      "Optimization Progress: 100%|██████████| 100/100 [05:33<00:00,  5.35s/pipeline]"
     ]
    },
    {
     "name": "stdout",
     "output_type": "stream",
     "text": [
      "_pre_test decorator: _random_mutation_operator: num_test=0 Unsupported set of arguments: The combination of penalty='l2' and loss='hinge' are not supported when dual=False, Parameters: penalty='l2', loss='hinge', dual=False\n",
      "_pre_test decorator: _random_mutation_operator: num_test=0 Input X must be non-negative\n",
      "_pre_test decorator: _random_mutation_operator: num_test=1 Input X must be non-negative\n",
      "_pre_test decorator: _random_mutation_operator: num_test=0 Input X must be non-negative\n"
     ]
    },
    {
     "name": "stderr",
     "output_type": "stream",
     "text": [
      "Optimization Progress: 100%|██████████| 100/100 [05:33<00:00,  5.35s/pipeline]"
     ]
    },
    {
     "name": "stdout",
     "output_type": "stream",
     "text": [
      "_pre_test decorator: _random_mutation_operator: num_test=0 Input X must be non-negative\n",
      "_pre_test decorator: _random_mutation_operator: num_test=0 Expected n_neighbors <= n_samples,  but n_samples = 50, n_neighbors = 73\n",
      "_pre_test decorator: _random_mutation_operator: num_test=1 Input X must be non-negative\n"
     ]
    },
    {
     "name": "stderr",
     "output_type": "stream",
     "text": [
      "Optimization Progress: 100%|██████████| 100/100 [05:33<00:00,  5.35s/pipeline]"
     ]
    },
    {
     "name": "stdout",
     "output_type": "stream",
     "text": [
      "_pre_test decorator: _random_mutation_operator: num_test=0 Input X must be non-negative\n"
     ]
    },
    {
     "name": "stderr",
     "output_type": "stream",
     "text": [
      "Optimization Progress: 100%|██████████| 100/100 [05:34<00:00,  5.35s/pipeline]"
     ]
    },
    {
     "name": "stdout",
     "output_type": "stream",
     "text": [
      "_pre_test decorator: _random_mutation_operator: num_test=0 Unsupported set of arguments: The combination of penalty='l2' and loss='hinge' are not supported when dual=False, Parameters: penalty='l2', loss='hinge', dual=False\n",
      "_pre_test decorator: _random_mutation_operator: num_test=0 Unsupported set of arguments: The combination of penalty='l1' and loss='hinge' is not supported, Parameters: penalty='l1', loss='hinge', dual=True\n"
     ]
    },
    {
     "name": "stderr",
     "output_type": "stream",
     "text": [
      "Optimization Progress: 100%|██████████| 100/100 [05:34<00:00,  5.35s/pipeline]"
     ]
    },
    {
     "name": "stdout",
     "output_type": "stream",
     "text": [
      "_pre_test decorator: _random_mutation_operator: num_test=0 Unsupported set of arguments: The combination of penalty='l2' and loss='hinge' are not supported when dual=False, Parameters: penalty='l2', loss='hinge', dual=False\n"
     ]
    },
    {
     "name": "stderr",
     "output_type": "stream",
     "text": [
      "Optimization Progress: 100%|██████████| 100/100 [05:35<00:00,  5.35s/pipeline]"
     ]
    },
    {
     "name": "stdout",
     "output_type": "stream",
     "text": [
      "_pre_test decorator: _random_mutation_operator: num_test=0 Unsupported set of arguments: The combination of penalty='l1' and loss='squared_hinge' are not supported when dual=True, Parameters: penalty='l1', loss='squared_hinge', dual=True\n"
     ]
    },
    {
     "name": "stderr",
     "output_type": "stream",
     "text": [
      "Optimization Progress: 100%|██████████| 100/100 [05:35<00:00,  5.35s/pipeline]"
     ]
    },
    {
     "name": "stdout",
     "output_type": "stream",
     "text": [
      "_pre_test decorator: _random_mutation_operator: num_test=0 Unsupported set of arguments: The combination of penalty='l1' and loss='logistic_regression' are not supported when dual=True, Parameters: penalty='l1', loss='logistic_regression', dual=True\n",
      "_pre_test decorator: _random_mutation_operator: num_test=0 Input X must be non-negative\n"
     ]
    },
    {
     "name": "stderr",
     "output_type": "stream",
     "text": [
      "Optimization Progress: 100%|██████████| 100/100 [05:36<00:00,  5.35s/pipeline]"
     ]
    },
    {
     "name": "stdout",
     "output_type": "stream",
     "text": [
      "_pre_test decorator: _random_mutation_operator: num_test=0 Input X must be non-negative\n",
      "_pre_test decorator: _random_mutation_operator: num_test=0 Input X must be non-negative\n"
     ]
    },
    {
     "name": "stderr",
     "output_type": "stream",
     "text": [
      "Optimization Progress:  50%|█████     | 101/200 [05:36<08:45,  5.31s/pipeline]"
     ]
    },
    {
     "name": "stdout",
     "output_type": "stream",
     "text": [
      "_pre_test decorator: _random_mutation_operator: num_test=0 Input X must be non-negative\n"
     ]
    },
    {
     "name": "stderr",
     "output_type": "stream",
     "text": [
      "Optimization Progress: 100%|██████████| 200/200 [12:29<00:00,  2.84s/pipeline]"
     ]
    },
    {
     "name": "stdout",
     "output_type": "stream",
     "text": [
      "Generation 1 - Current Pareto front scores:\n",
      "-1\t0.9740430406933644\tExtraTreesClassifier(input_matrix, ExtraTreesClassifier__bootstrap=True, ExtraTreesClassifier__criterion=gini, ExtraTreesClassifier__max_features=0.3, ExtraTreesClassifier__min_samples_leaf=3, ExtraTreesClassifier__min_samples_split=3, ExtraTreesClassifier__n_estimators=100)\n",
      "-2\t0.9784939672485746\tKNeighborsClassifier(DecisionTreeClassifier(input_matrix, DecisionTreeClassifier__criterion=entropy, DecisionTreeClassifier__max_depth=5, DecisionTreeClassifier__min_samples_leaf=14, DecisionTreeClassifier__min_samples_split=14), KNeighborsClassifier__n_neighbors=5, KNeighborsClassifier__p=2, KNeighborsClassifier__weights=distance)\n",
      "\n"
     ]
    },
    {
     "name": "stderr",
     "output_type": "stream",
     "text": [
      "Optimization Progress: 100%|██████████| 200/200 [12:31<00:00,  2.84s/pipeline]"
     ]
    },
    {
     "name": "stdout",
     "output_type": "stream",
     "text": [
      "_pre_test decorator: _random_mutation_operator: num_test=0 Unsupported set of arguments: The combination of penalty='l1' and loss='logistic_regression' are not supported when dual=True, Parameters: penalty='l1', loss='logistic_regression', dual=True\n"
     ]
    },
    {
     "name": "stderr",
     "output_type": "stream",
     "text": [
      "Optimization Progress: 100%|██████████| 200/200 [12:31<00:00,  2.84s/pipeline]"
     ]
    },
    {
     "name": "stdout",
     "output_type": "stream",
     "text": [
      "_pre_test decorator: _random_mutation_operator: num_test=0 Input X must be non-negative\n"
     ]
    },
    {
     "name": "stderr",
     "output_type": "stream",
     "text": [
      "Optimization Progress: 100%|██████████| 200/200 [12:33<00:00,  2.84s/pipeline]"
     ]
    },
    {
     "name": "stdout",
     "output_type": "stream",
     "text": [
      "_pre_test decorator: _random_mutation_operator: num_test=0 Unsupported set of arguments: The combination of penalty='l1' and loss='squared_hinge' are not supported when dual=True, Parameters: penalty='l1', loss='squared_hinge', dual=True\n",
      "_pre_test decorator: _random_mutation_operator: num_test=1 Input X must be non-negative\n"
     ]
    },
    {
     "name": "stderr",
     "output_type": "stream",
     "text": [
      "Optimization Progress: 100%|██████████| 200/200 [12:34<00:00,  2.84s/pipeline]"
     ]
    },
    {
     "name": "stdout",
     "output_type": "stream",
     "text": [
      "_pre_test decorator: _random_mutation_operator: num_test=0 Unsupported set of arguments: The combination of penalty='l1' and loss='squared_hinge' are not supported when dual=True, Parameters: penalty='l1', loss='squared_hinge', dual=True\n",
      "_pre_test decorator: _random_mutation_operator: num_test=0 Input X must be non-negative\n"
     ]
    },
    {
     "name": "stderr",
     "output_type": "stream",
     "text": [
      "Optimization Progress: 100%|██████████| 200/200 [12:36<00:00,  2.84s/pipeline]"
     ]
    },
    {
     "name": "stdout",
     "output_type": "stream",
     "text": [
      "_pre_test decorator: _random_mutation_operator: num_test=0 Expected n_neighbors <= n_samples,  but n_samples = 50, n_neighbors = 88\n"
     ]
    },
    {
     "name": "stderr",
     "output_type": "stream",
     "text": [
      "Optimization Progress: 100%|██████████| 200/200 [12:36<00:00,  2.84s/pipeline]"
     ]
    },
    {
     "name": "stdout",
     "output_type": "stream",
     "text": [
      "_pre_test decorator: _random_mutation_operator: num_test=0 Expected n_neighbors <= n_samples,  but n_samples = 50, n_neighbors = 69\n"
     ]
    },
    {
     "name": "stderr",
     "output_type": "stream",
     "text": [
      "Optimization Progress: 100%|██████████| 300/300 [20:13<00:00,  1.75s/pipeline]"
     ]
    },
    {
     "name": "stdout",
     "output_type": "stream",
     "text": [
      "Generation 2 - Current Pareto front scores:\n",
      "-1\t0.9777340893794543\tKNeighborsClassifier(input_matrix, KNeighborsClassifier__n_neighbors=5, KNeighborsClassifier__p=1, KNeighborsClassifier__weights=uniform)\n",
      "-2\t0.979223894255874\tKNeighborsClassifier(DecisionTreeClassifier(input_matrix, DecisionTreeClassifier__criterion=entropy, DecisionTreeClassifier__max_depth=7, DecisionTreeClassifier__min_samples_leaf=14, DecisionTreeClassifier__min_samples_split=14), KNeighborsClassifier__n_neighbors=5, KNeighborsClassifier__p=2, KNeighborsClassifier__weights=distance)\n",
      "\n"
     ]
    },
    {
     "name": "stderr",
     "output_type": "stream",
     "text": [
      "Optimization Progress: 100%|██████████| 300/300 [20:16<00:00,  1.75s/pipeline]"
     ]
    },
    {
     "name": "stdout",
     "output_type": "stream",
     "text": [
      "_pre_test decorator: _random_mutation_operator: num_test=0 Expected n_neighbors <= n_samples,  but n_samples = 50, n_neighbors = 72\n",
      "_pre_test decorator: _random_mutation_operator: num_test=0 Expected n_neighbors <= n_samples,  but n_samples = 50, n_neighbors = 96\n",
      "_pre_test decorator: _random_mutation_operator: num_test=1 Expected n_neighbors <= n_samples,  but n_samples = 50, n_neighbors = 72\n"
     ]
    },
    {
     "name": "stderr",
     "output_type": "stream",
     "text": [
      "Optimization Progress: 100%|██████████| 300/300 [20:17<00:00,  1.75s/pipeline]"
     ]
    },
    {
     "name": "stdout",
     "output_type": "stream",
     "text": [
      "_pre_test decorator: _random_mutation_operator: num_test=0 Input X must be non-negative\n"
     ]
    },
    {
     "name": "stderr",
     "output_type": "stream",
     "text": [
      "Optimization Progress: 100%|██████████| 300/300 [20:20<00:00,  1.75s/pipeline]"
     ]
    },
    {
     "name": "stdout",
     "output_type": "stream",
     "text": [
      "_pre_test decorator: _random_mutation_operator: num_test=0 Expected n_neighbors <= n_samples,  but n_samples = 50, n_neighbors = 71\n"
     ]
    },
    {
     "name": "stderr",
     "output_type": "stream",
     "text": [
      "Optimization Progress: 100%|██████████| 300/300 [20:20<00:00,  1.75s/pipeline]"
     ]
    },
    {
     "name": "stdout",
     "output_type": "stream",
     "text": [
      "_pre_test decorator: _random_mutation_operator: num_test=0 Input X must be non-negative\n"
     ]
    },
    {
     "name": "stderr",
     "output_type": "stream",
     "text": [
      "Optimization Progress: 100%|██████████| 300/300 [20:21<00:00,  1.75s/pipeline]"
     ]
    },
    {
     "name": "stdout",
     "output_type": "stream",
     "text": [
      "_pre_test decorator: _random_mutation_operator: num_test=0 Unsupported set of arguments: The combination of penalty='l1' and loss='hinge' is not supported, Parameters: penalty='l1', loss='hinge', dual=False\n"
     ]
    },
    {
     "name": "stderr",
     "output_type": "stream",
     "text": [
      "Optimization Progress: 100%|██████████| 300/300 [20:21<00:00,  1.75s/pipeline]"
     ]
    },
    {
     "name": "stdout",
     "output_type": "stream",
     "text": [
      "_pre_test decorator: _random_mutation_operator: num_test=0 Input X must be non-negative\n",
      "_pre_test decorator: _random_mutation_operator: num_test=0 Input X must be non-negative\n",
      "_pre_test decorator: _random_mutation_operator: num_test=1 Expected n_neighbors <= n_samples,  but n_samples = 50, n_neighbors = 81\n"
     ]
    },
    {
     "name": "stderr",
     "output_type": "stream",
     "text": [
      "Optimization Progress:  76%|███████▌  | 302/400 [20:21<03:53,  2.39s/pipeline]"
     ]
    },
    {
     "name": "stdout",
     "output_type": "stream",
     "text": [
      "Pipeline encountered that has previously been evaluated during the optimization process. Using the score from the previous evaluation.\n"
     ]
    },
    {
     "name": "stderr",
     "output_type": "stream",
     "text": [
      "Optimization Progress: 100%|██████████| 400/400 [27:58<00:00,  3.01s/pipeline]"
     ]
    },
    {
     "name": "stdout",
     "output_type": "stream",
     "text": [
      "Generation 3 - Current Pareto front scores:\n",
      "-1\t0.9777420875493267\tKNeighborsClassifier(input_matrix, KNeighborsClassifier__n_neighbors=5, KNeighborsClassifier__p=2, KNeighborsClassifier__weights=distance)\n",
      "-2\t0.980691828643247\tKNeighborsClassifier(RandomForestClassifier(input_matrix, RandomForestClassifier__bootstrap=True, RandomForestClassifier__criterion=entropy, RandomForestClassifier__max_features=0.2, RandomForestClassifier__min_samples_leaf=17, RandomForestClassifier__min_samples_split=4, RandomForestClassifier__n_estimators=100), KNeighborsClassifier__n_neighbors=5, KNeighborsClassifier__p=2, KNeighborsClassifier__weights=distance)\n",
      "\n"
     ]
    },
    {
     "name": "stderr",
     "output_type": "stream",
     "text": [
      "Optimization Progress: 100%|██████████| 400/400 [27:59<00:00,  3.01s/pipeline]"
     ]
    },
    {
     "name": "stdout",
     "output_type": "stream",
     "text": [
      "_pre_test decorator: _random_mutation_operator: num_test=0 Input X must be non-negative\n"
     ]
    },
    {
     "name": "stderr",
     "output_type": "stream",
     "text": [
      "Optimization Progress: 100%|██████████| 400/400 [27:59<00:00,  3.01s/pipeline]"
     ]
    },
    {
     "name": "stdout",
     "output_type": "stream",
     "text": [
      "_pre_test decorator: _random_mutation_operator: num_test=0 Unsupported set of arguments: The combination of penalty='l2' and loss='hinge' are not supported when dual=False, Parameters: penalty='l2', loss='hinge', dual=False\n"
     ]
    },
    {
     "name": "stderr",
     "output_type": "stream",
     "text": [
      "Optimization Progress: 100%|██████████| 400/400 [28:00<00:00,  3.01s/pipeline]"
     ]
    },
    {
     "name": "stdout",
     "output_type": "stream",
     "text": [
      "_pre_test decorator: _random_mutation_operator: num_test=0 Input X must be non-negative\n"
     ]
    },
    {
     "name": "stderr",
     "output_type": "stream",
     "text": [
      "Optimization Progress: 100%|██████████| 400/400 [28:00<00:00,  3.01s/pipeline]"
     ]
    },
    {
     "name": "stdout",
     "output_type": "stream",
     "text": [
      "_pre_test decorator: _random_mutation_operator: num_test=0 Input X must be non-negative\n",
      "_pre_test decorator: _random_mutation_operator: num_test=0 Input X must be non-negative\n",
      "_pre_test decorator: _random_mutation_operator: num_test=0 Input X must be non-negative\n"
     ]
    },
    {
     "name": "stderr",
     "output_type": "stream",
     "text": [
      "Optimization Progress: 100%|██████████| 400/400 [28:01<00:00,  3.01s/pipeline]"
     ]
    },
    {
     "name": "stdout",
     "output_type": "stream",
     "text": [
      "_pre_test decorator: _random_mutation_operator: num_test=0 Unsupported set of arguments: The combination of penalty='l1' and loss='hinge' is not supported, Parameters: penalty='l1', loss='hinge', dual=True\n"
     ]
    },
    {
     "name": "stderr",
     "output_type": "stream",
     "text": [
      "Optimization Progress: 100%|██████████| 400/400 [28:02<00:00,  3.01s/pipeline]"
     ]
    },
    {
     "name": "stdout",
     "output_type": "stream",
     "text": [
      "_pre_test decorator: _random_mutation_operator: num_test=0 Unsupported set of arguments: The combination of penalty='l1' and loss='hinge' is not supported, Parameters: penalty='l1', loss='hinge', dual=False\n",
      "_pre_test decorator: _random_mutation_operator: num_test=0 Input X must be non-negative\n"
     ]
    },
    {
     "name": "stderr",
     "output_type": "stream",
     "text": [
      "Optimization Progress: 100%|██████████| 400/400 [28:02<00:00,  3.01s/pipeline]"
     ]
    },
    {
     "name": "stdout",
     "output_type": "stream",
     "text": [
      "_pre_test decorator: _random_mutation_operator: num_test=0 Input X must be non-negative\n",
      "_pre_test decorator: _random_mutation_operator: num_test=1 Expected n_neighbors <= n_samples,  but n_samples = 50, n_neighbors = 97\n"
     ]
    },
    {
     "name": "stderr",
     "output_type": "stream",
     "text": [
      "Optimization Progress: 100%|██████████| 400/400 [28:03<00:00,  3.01s/pipeline]"
     ]
    },
    {
     "name": "stdout",
     "output_type": "stream",
     "text": [
      "_pre_test decorator: _random_mutation_operator: num_test=0 Expected n_neighbors <= n_samples,  but n_samples = 50, n_neighbors = 79\n"
     ]
    },
    {
     "name": "stderr",
     "output_type": "stream",
     "text": [
      "Optimization Progress: 100%|██████████| 400/400 [28:04<00:00,  3.01s/pipeline]"
     ]
    },
    {
     "name": "stdout",
     "output_type": "stream",
     "text": [
      "_pre_test decorator: _random_mutation_operator: num_test=0 Input X must be non-negative\n"
     ]
    },
    {
     "name": "stderr",
     "output_type": "stream",
     "text": [
      "Optimization Progress: 100%|██████████| 400/400 [28:05<00:00,  3.01s/pipeline]"
     ]
    },
    {
     "name": "stdout",
     "output_type": "stream",
     "text": [
      "_pre_test decorator: _random_mutation_operator: num_test=0 Unsupported set of arguments: The combination of penalty='l1' and loss='logistic_regression' are not supported when dual=True, Parameters: penalty='l1', loss='logistic_regression', dual=True\n",
      "_pre_test decorator: _random_mutation_operator: num_test=0 Unsupported set of arguments: The combination of penalty='l1' and loss='logistic_regression' are not supported when dual=True, Parameters: penalty='l1', loss='logistic_regression', dual=True\n"
     ]
    },
    {
     "name": "stderr",
     "output_type": "stream",
     "text": [
      "Optimization Progress:  81%|████████  | 403/500 [28:05<04:41,  2.90s/pipeline]"
     ]
    },
    {
     "name": "stdout",
     "output_type": "stream",
     "text": [
      "_pre_test decorator: _random_mutation_operator: num_test=0 Input X must be non-negative\n",
      "_pre_test decorator: _random_mutation_operator: num_test=1 Unsupported set of arguments: The combination of penalty='l1' and loss='logistic_regression' are not supported when dual=True, Parameters: penalty='l1', loss='logistic_regression', dual=True\n",
      "Pipeline encountered that has previously been evaluated during the optimization process. Using the score from the previous evaluation.\n"
     ]
    },
    {
     "name": "stderr",
     "output_type": "stream",
     "text": [
      "Optimization Progress: 100%|██████████| 500/500 [35:47<00:00,  3.04s/pipeline]"
     ]
    },
    {
     "name": "stdout",
     "output_type": "stream",
     "text": [
      "Generation 4 - Current Pareto front scores:\n",
      "-1\t0.9777420875493267\tKNeighborsClassifier(input_matrix, KNeighborsClassifier__n_neighbors=5, KNeighborsClassifier__p=2, KNeighborsClassifier__weights=distance)\n",
      "-2\t0.980691828643247\tKNeighborsClassifier(RandomForestClassifier(input_matrix, RandomForestClassifier__bootstrap=True, RandomForestClassifier__criterion=entropy, RandomForestClassifier__max_features=0.2, RandomForestClassifier__min_samples_leaf=17, RandomForestClassifier__min_samples_split=4, RandomForestClassifier__n_estimators=100), KNeighborsClassifier__n_neighbors=5, KNeighborsClassifier__p=2, KNeighborsClassifier__weights=distance)\n",
      "\n"
     ]
    },
    {
     "name": "stderr",
     "output_type": "stream",
     "text": [
      "Optimization Progress: 100%|██████████| 500/500 [35:48<00:00,  3.04s/pipeline]"
     ]
    },
    {
     "name": "stdout",
     "output_type": "stream",
     "text": [
      "_pre_test decorator: _random_mutation_operator: num_test=0 Expected n_neighbors <= n_samples,  but n_samples = 50, n_neighbors = 86\n"
     ]
    },
    {
     "name": "stderr",
     "output_type": "stream",
     "text": [
      "Optimization Progress: 100%|██████████| 500/500 [35:49<00:00,  3.04s/pipeline]"
     ]
    },
    {
     "name": "stdout",
     "output_type": "stream",
     "text": [
      "_pre_test decorator: _random_mutation_operator: num_test=0 Input X must be non-negative\n"
     ]
    },
    {
     "name": "stderr",
     "output_type": "stream",
     "text": [
      "Optimization Progress: 100%|██████████| 500/500 [35:52<00:00,  3.04s/pipeline]"
     ]
    },
    {
     "name": "stdout",
     "output_type": "stream",
     "text": [
      "_pre_test decorator: _random_mutation_operator: num_test=0 Unsupported set of arguments: The combination of penalty='l1' and loss='hinge' is not supported, Parameters: penalty='l1', loss='hinge', dual=True\n"
     ]
    },
    {
     "name": "stderr",
     "output_type": "stream",
     "text": [
      "Optimization Progress: 100%|██████████| 500/500 [35:52<00:00,  3.04s/pipeline]"
     ]
    },
    {
     "name": "stdout",
     "output_type": "stream",
     "text": [
      "_pre_test decorator: _random_mutation_operator: num_test=0 Input X must be non-negative\n"
     ]
    },
    {
     "name": "stderr",
     "output_type": "stream",
     "text": [
      "Optimization Progress: 100%|██████████| 500/500 [35:52<00:00,  3.04s/pipeline]"
     ]
    },
    {
     "name": "stdout",
     "output_type": "stream",
     "text": [
      "_pre_test decorator: _random_mutation_operator: num_test=0 Input X must be non-negative\n"
     ]
    },
    {
     "name": "stderr",
     "output_type": "stream",
     "text": [
      "Optimization Progress: 100%|██████████| 500/500 [35:53<00:00,  3.04s/pipeline]"
     ]
    },
    {
     "name": "stdout",
     "output_type": "stream",
     "text": [
      "_pre_test decorator: _random_mutation_operator: num_test=0 Unsupported set of arguments: The combination of penalty='l1' and loss='squared_hinge' are not supported when dual=True, Parameters: penalty='l1', loss='squared_hinge', dual=True\n"
     ]
    },
    {
     "name": "stderr",
     "output_type": "stream",
     "text": [
      "Optimization Progress: 100%|██████████| 500/500 [35:54<00:00,  3.04s/pipeline]"
     ]
    },
    {
     "name": "stdout",
     "output_type": "stream",
     "text": [
      "_pre_test decorator: _random_mutation_operator: num_test=0 Expected n_neighbors <= n_samples,  but n_samples = 50, n_neighbors = 72\n"
     ]
    },
    {
     "name": "stderr",
     "output_type": "stream",
     "text": [
      "Optimization Progress: 100%|██████████| 500/500 [35:54<00:00,  3.04s/pipeline]"
     ]
    },
    {
     "name": "stdout",
     "output_type": "stream",
     "text": [
      "_pre_test decorator: _random_mutation_operator: num_test=0 Unsupported set of arguments: The combination of penalty='l1' and loss='logistic_regression' are not supported when dual=True, Parameters: penalty='l1', loss='logistic_regression', dual=True\n"
     ]
    },
    {
     "name": "stderr",
     "output_type": "stream",
     "text": [
      "Optimization Progress: 100%|██████████| 600/600 [41:42<00:00,  4.68s/pipeline]"
     ]
    },
    {
     "name": "stdout",
     "output_type": "stream",
     "text": [
      "Generation 5 - Current Pareto front scores:\n",
      "-1\t0.9851668319109766\tKNeighborsClassifier(input_matrix, KNeighborsClassifier__n_neighbors=2, KNeighborsClassifier__p=2, KNeighborsClassifier__weights=distance)\n",
      "\n",
      "_pre_test decorator: _random_mutation_operator: num_test=0 Unsupported set of arguments: The combination of penalty='l1' and loss='squared_hinge' are not supported when dual=True, Parameters: penalty='l1', loss='squared_hinge', dual=True\n"
     ]
    },
    {
     "name": "stderr",
     "output_type": "stream",
     "text": [
      "Optimization Progress: 100%|██████████| 600/600 [41:42<00:00,  4.68s/pipeline]"
     ]
    },
    {
     "name": "stdout",
     "output_type": "stream",
     "text": [
      "_pre_test decorator: _random_mutation_operator: num_test=0 Unsupported set of arguments: The combination of penalty='l1' and loss='logistic_regression' are not supported when dual=True, Parameters: penalty='l1', loss='logistic_regression', dual=True\n"
     ]
    },
    {
     "name": "stderr",
     "output_type": "stream",
     "text": [
      "Optimization Progress: 100%|██████████| 600/600 [41:43<00:00,  4.68s/pipeline]"
     ]
    },
    {
     "name": "stdout",
     "output_type": "stream",
     "text": [
      "_pre_test decorator: _random_mutation_operator: num_test=0 Expected n_neighbors <= n_samples,  but n_samples = 50, n_neighbors = 56\n"
     ]
    },
    {
     "name": "stderr",
     "output_type": "stream",
     "text": [
      "Optimization Progress: 100%|██████████| 600/600 [41:44<00:00,  4.68s/pipeline]"
     ]
    },
    {
     "name": "stdout",
     "output_type": "stream",
     "text": [
      "_pre_test decorator: _random_mutation_operator: num_test=0 Unsupported set of arguments: The combination of penalty='l2' and loss='hinge' are not supported when dual=False, Parameters: penalty='l2', loss='hinge', dual=False\n"
     ]
    },
    {
     "name": "stderr",
     "output_type": "stream",
     "text": [
      "Optimization Progress: 100%|██████████| 600/600 [41:45<00:00,  4.68s/pipeline]"
     ]
    },
    {
     "name": "stdout",
     "output_type": "stream",
     "text": [
      "_pre_test decorator: _random_mutation_operator: num_test=0 Input X must be non-negative\n"
     ]
    },
    {
     "name": "stderr",
     "output_type": "stream",
     "text": [
      "Optimization Progress: 100%|██████████| 600/600 [41:45<00:00,  4.68s/pipeline]"
     ]
    },
    {
     "name": "stdout",
     "output_type": "stream",
     "text": [
      "_pre_test decorator: _random_mutation_operator: num_test=0 Unsupported set of arguments: The combination of penalty='l1' and loss='hinge' is not supported, Parameters: penalty='l1', loss='hinge', dual=True\n"
     ]
    },
    {
     "name": "stderr",
     "output_type": "stream",
     "text": [
      "Optimization Progress: 100%|██████████| 600/600 [41:46<00:00,  4.68s/pipeline]"
     ]
    },
    {
     "name": "stdout",
     "output_type": "stream",
     "text": [
      "_pre_test decorator: _random_mutation_operator: num_test=0 Unsupported set of arguments: The combination of penalty='l2' and loss='hinge' are not supported when dual=False, Parameters: penalty='l2', loss='hinge', dual=False\n"
     ]
    },
    {
     "name": "stderr",
     "output_type": "stream",
     "text": [
      "Optimization Progress: 100%|██████████| 600/600 [41:47<00:00,  4.68s/pipeline]"
     ]
    },
    {
     "name": "stdout",
     "output_type": "stream",
     "text": [
      "_pre_test decorator: _random_mutation_operator: num_test=0 Input X must be non-negative\n"
     ]
    },
    {
     "name": "stderr",
     "output_type": "stream",
     "text": [
      "Optimization Progress: 100%|██████████| 600/600 [41:48<00:00,  4.68s/pipeline]"
     ]
    },
    {
     "name": "stdout",
     "output_type": "stream",
     "text": [
      "_pre_test decorator: _random_mutation_operator: num_test=0 Input X must be non-negative\n"
     ]
    },
    {
     "name": "stderr",
     "output_type": "stream",
     "text": [
      "Optimization Progress: 100%|██████████| 600/600 [41:49<00:00,  4.68s/pipeline]"
     ]
    },
    {
     "name": "stdout",
     "output_type": "stream",
     "text": [
      "_pre_test decorator: _random_mutation_operator: num_test=0 Expected n_neighbors <= n_samples,  but n_samples = 50, n_neighbors = 80\n",
      "_pre_test decorator: _random_mutation_operator: num_test=1 Expected n_neighbors <= n_samples,  but n_samples = 50, n_neighbors = 59\n",
      "_pre_test decorator: _random_mutation_operator: num_test=0 Input X must be non-negative\n"
     ]
    },
    {
     "name": "stderr",
     "output_type": "stream",
     "text": [
      "Optimization Progress: 100%|██████████| 600/600 [41:49<00:00,  4.68s/pipeline]"
     ]
    },
    {
     "name": "stdout",
     "output_type": "stream",
     "text": [
      "_pre_test decorator: _random_mutation_operator: num_test=0 Input X must be non-negative\n",
      "_pre_test decorator: _random_mutation_operator: num_test=1 Unsupported set of arguments: The combination of penalty='l1' and loss='logistic_regression' are not supported when dual=True, Parameters: penalty='l1', loss='logistic_regression', dual=True\n"
     ]
    },
    {
     "name": "stderr",
     "output_type": "stream",
     "text": [
      "Optimization Progress:  86%|████████▌ | 601/700 [41:50<09:18,  5.64s/pipeline]"
     ]
    },
    {
     "name": "stdout",
     "output_type": "stream",
     "text": [
      "Pipeline encountered that has previously been evaluated during the optimization process. Using the score from the previous evaluation.\n"
     ]
    },
    {
     "name": "stderr",
     "output_type": "stream",
     "text": [
      "Optimization Progress: 100%|██████████| 700/700 [47:22<00:00,  2.25s/pipeline]"
     ]
    },
    {
     "name": "stdout",
     "output_type": "stream",
     "text": [
      "Generation 6 - Current Pareto front scores:\n",
      "-1\t0.9851668319109766\tKNeighborsClassifier(input_matrix, KNeighborsClassifier__n_neighbors=2, KNeighborsClassifier__p=2, KNeighborsClassifier__weights=distance)\n",
      "\n",
      "_pre_test decorator: _random_mutation_operator: num_test=0 Input X must be non-negative\n"
     ]
    },
    {
     "name": "stderr",
     "output_type": "stream",
     "text": [
      "Optimization Progress: 100%|██████████| 700/700 [47:23<00:00,  2.25s/pipeline]"
     ]
    },
    {
     "name": "stdout",
     "output_type": "stream",
     "text": [
      "_pre_test decorator: _random_mutation_operator: num_test=0 Input X must be non-negative\n"
     ]
    },
    {
     "name": "stderr",
     "output_type": "stream",
     "text": [
      "Optimization Progress: 100%|██████████| 700/700 [47:24<00:00,  2.25s/pipeline]"
     ]
    },
    {
     "name": "stdout",
     "output_type": "stream",
     "text": [
      "_pre_test decorator: _random_mutation_operator: num_test=0 Input X must be non-negative\n"
     ]
    },
    {
     "name": "stderr",
     "output_type": "stream",
     "text": [
      "Optimization Progress: 100%|██████████| 700/700 [47:24<00:00,  2.25s/pipeline]"
     ]
    },
    {
     "name": "stdout",
     "output_type": "stream",
     "text": [
      "_pre_test decorator: _random_mutation_operator: num_test=0 Input X must be non-negative\n"
     ]
    },
    {
     "name": "stderr",
     "output_type": "stream",
     "text": [
      "Optimization Progress: 100%|██████████| 700/700 [47:25<00:00,  2.25s/pipeline]"
     ]
    },
    {
     "name": "stdout",
     "output_type": "stream",
     "text": [
      "_pre_test decorator: _random_mutation_operator: num_test=0 Input X must be non-negative\n"
     ]
    },
    {
     "name": "stderr",
     "output_type": "stream",
     "text": [
      "Optimization Progress: 100%|██████████| 700/700 [47:25<00:00,  2.25s/pipeline]"
     ]
    },
    {
     "name": "stdout",
     "output_type": "stream",
     "text": [
      "_pre_test decorator: _random_mutation_operator: num_test=0 Input X must be non-negative\n",
      "_pre_test decorator: _random_mutation_operator: num_test=0 Input X must be non-negative\n"
     ]
    },
    {
     "name": "stderr",
     "output_type": "stream",
     "text": [
      "Optimization Progress: 100%|██████████| 700/700 [47:26<00:00,  2.25s/pipeline]"
     ]
    },
    {
     "name": "stdout",
     "output_type": "stream",
     "text": [
      "_pre_test decorator: _random_mutation_operator: num_test=0 Unsupported set of arguments: The combination of penalty='l1' and loss='hinge' is not supported, Parameters: penalty='l1', loss='hinge', dual=False\n"
     ]
    },
    {
     "name": "stderr",
     "output_type": "stream",
     "text": [
      "Optimization Progress: 100%|██████████| 700/700 [47:26<00:00,  2.25s/pipeline]"
     ]
    },
    {
     "name": "stdout",
     "output_type": "stream",
     "text": [
      "_pre_test decorator: _random_mutation_operator: num_test=0 Input X must be non-negative\n"
     ]
    },
    {
     "name": "stderr",
     "output_type": "stream",
     "text": [
      "Optimization Progress: 100%|██████████| 700/700 [47:27<00:00,  2.25s/pipeline]"
     ]
    },
    {
     "name": "stdout",
     "output_type": "stream",
     "text": [
      "_pre_test decorator: _random_mutation_operator: num_test=0 Input X must be non-negative\n"
     ]
    },
    {
     "name": "stderr",
     "output_type": "stream",
     "text": [
      "Optimization Progress: 100%|██████████| 700/700 [47:28<00:00,  2.25s/pipeline]"
     ]
    },
    {
     "name": "stdout",
     "output_type": "stream",
     "text": [
      "_pre_test decorator: _random_mutation_operator: num_test=0 Input X must be non-negative\n"
     ]
    },
    {
     "name": "stderr",
     "output_type": "stream",
     "text": [
      "Optimization Progress: 100%|██████████| 700/700 [47:28<00:00,  2.25s/pipeline]"
     ]
    },
    {
     "name": "stdout",
     "output_type": "stream",
     "text": [
      "_pre_test decorator: _random_mutation_operator: num_test=0 Unsupported set of arguments: The combination of penalty='l1' and loss='hinge' is not supported, Parameters: penalty='l1', loss='hinge', dual=False\n"
     ]
    },
    {
     "name": "stderr",
     "output_type": "stream",
     "text": [
      "Optimization Progress:  88%|████████▊ | 703/800 [47:28<03:34,  2.21s/pipeline]"
     ]
    },
    {
     "name": "stdout",
     "output_type": "stream",
     "text": [
      "_pre_test decorator: _random_mutation_operator: num_test=0 Expected n_neighbors <= n_samples,  but n_samples = 50, n_neighbors = 74\n"
     ]
    },
    {
     "name": "stderr",
     "output_type": "stream",
     "text": [
      "Optimization Progress: 100%|██████████| 800/800 [54:24<00:00,  5.32s/pipeline]"
     ]
    },
    {
     "name": "stdout",
     "output_type": "stream",
     "text": [
      "Generation 7 - Current Pareto front scores:\n",
      "-1\t0.9851668319109766\tKNeighborsClassifier(input_matrix, KNeighborsClassifier__n_neighbors=2, KNeighborsClassifier__p=2, KNeighborsClassifier__weights=distance)\n",
      "\n"
     ]
    },
    {
     "name": "stderr",
     "output_type": "stream",
     "text": [
      "Optimization Progress: 100%|██████████| 800/800 [54:26<00:00,  5.32s/pipeline]"
     ]
    },
    {
     "name": "stdout",
     "output_type": "stream",
     "text": [
      "_pre_test decorator: _random_mutation_operator: num_test=0 Input X must be non-negative\n",
      "_pre_test decorator: _random_mutation_operator: num_test=0 Input X must be non-negative\n",
      "_pre_test decorator: _random_mutation_operator: num_test=0 Expected n_neighbors <= n_samples,  but n_samples = 50, n_neighbors = 95\n"
     ]
    },
    {
     "name": "stderr",
     "output_type": "stream",
     "text": [
      "Optimization Progress: 100%|██████████| 800/800 [54:27<00:00,  5.32s/pipeline]"
     ]
    },
    {
     "name": "stdout",
     "output_type": "stream",
     "text": [
      "_pre_test decorator: _random_mutation_operator: num_test=0 Expected n_neighbors <= n_samples,  but n_samples = 50, n_neighbors = 90\n",
      "_pre_test decorator: _random_mutation_operator: num_test=0 Unsupported set of arguments: The combination of penalty='l1' and loss='logistic_regression' are not supported when dual=True, Parameters: penalty='l1', loss='logistic_regression', dual=True\n"
     ]
    },
    {
     "name": "stderr",
     "output_type": "stream",
     "text": [
      "Optimization Progress: 100%|██████████| 800/800 [54:28<00:00,  5.32s/pipeline]"
     ]
    },
    {
     "name": "stdout",
     "output_type": "stream",
     "text": [
      "_pre_test decorator: _random_mutation_operator: num_test=0 Expected n_neighbors <= n_samples,  but n_samples = 50, n_neighbors = 59\n",
      "_pre_test decorator: _random_mutation_operator: num_test=1 Expected n_neighbors <= n_samples,  but n_samples = 50, n_neighbors = 86\n"
     ]
    },
    {
     "name": "stderr",
     "output_type": "stream",
     "text": [
      "Optimization Progress: 100%|██████████| 800/800 [54:29<00:00,  5.32s/pipeline]"
     ]
    },
    {
     "name": "stdout",
     "output_type": "stream",
     "text": [
      "_pre_test decorator: _random_mutation_operator: num_test=0 Unsupported set of arguments: The combination of penalty='l1' and loss='logistic_regression' are not supported when dual=True, Parameters: penalty='l1', loss='logistic_regression', dual=True\n"
     ]
    },
    {
     "name": "stderr",
     "output_type": "stream",
     "text": [
      "Optimization Progress: 100%|██████████| 800/800 [54:30<00:00,  5.32s/pipeline]"
     ]
    },
    {
     "name": "stdout",
     "output_type": "stream",
     "text": [
      "_pre_test decorator: _random_mutation_operator: num_test=0 Unsupported set of arguments: The combination of penalty='l2' and loss='hinge' are not supported when dual=False, Parameters: penalty='l2', loss='hinge', dual=False\n"
     ]
    },
    {
     "name": "stderr",
     "output_type": "stream",
     "text": [
      "Optimization Progress: 100%|██████████| 800/800 [54:31<00:00,  5.32s/pipeline]"
     ]
    },
    {
     "name": "stdout",
     "output_type": "stream",
     "text": [
      "_pre_test decorator: _random_mutation_operator: num_test=0 Expected n_neighbors <= n_samples,  but n_samples = 50, n_neighbors = 57\n"
     ]
    },
    {
     "name": "stderr",
     "output_type": "stream",
     "text": [
      "Optimization Progress: 100%|██████████| 800/800 [54:32<00:00,  5.32s/pipeline]"
     ]
    },
    {
     "name": "stdout",
     "output_type": "stream",
     "text": [
      "_pre_test decorator: _random_mutation_operator: num_test=0 Expected n_neighbors <= n_samples,  but n_samples = 50, n_neighbors = 82\n"
     ]
    },
    {
     "name": "stderr",
     "output_type": "stream",
     "text": [
      "                                                                              "
     ]
    },
    {
     "name": "stdout",
     "output_type": "stream",
     "text": [
      "\n",
      "60.051356866666666 minutes have elapsed. TPOT will close down.\n",
      "TPOT closed prematurely. Will use the current best pipeline.\n",
      "0.9866666666666667\n"
     ]
    },
    {
     "name": "stderr",
     "output_type": "stream",
     "text": [
      "\r"
     ]
    }
   ],
   "source": [
    "tpot = TPOTClassifier(max_time_mins=time_allocated, config_dict=classifier_config_dict, verbosity=3)\n",
    "tpot.fit(X_train, y_train)\n",
    "print(tpot.score(X_test, y_test))"
   ]
  },
  {
   "cell_type": "code",
   "execution_count": 4,
   "metadata": {},
   "outputs": [],
   "source": [
    "tpot.export('tpot_mnist_pipeline.py')"
   ]
  },
  {
   "cell_type": "code",
   "execution_count": null,
   "metadata": {
    "collapsed": true
   },
   "outputs": [],
   "source": [
    "# %load tpot_mnist_pipeline.py\n",
    "import numpy as np\n",
    "\n",
    "from sklearn.model_selection import train_test_split\n",
    "from sklearn.neighbors import KNeighborsClassifier\n",
    "\n",
    "# NOTE: Make sure that the class is labeled 'class' in the data file\n",
    "tpot_data = np.recfromcsv('PATH/TO/DATA/FILE', delimiter='COLUMN_SEPARATOR', dtype=np.float64)\n",
    "features = np.delete(tpot_data.view(np.float64).reshape(tpot_data.size, -1), tpot_data.dtype.names.index('class'), axis=1)\n",
    "training_features, testing_features, training_classes, testing_classes = \\\n",
    "    train_test_split(features, tpot_data['class'], random_state=42)\n",
    "\n",
    "exported_pipeline = KNeighborsClassifier(n_neighbors=4, p=2, weights=\"distance\")\n",
    "\n",
    "exported_pipeline.fit(training_features, training_classes)\n",
    "results = exported_pipeline.predict(testing_features)\n"
   ]
  },
  {
   "cell_type": "markdown",
   "metadata": {
    "collapsed": true
   },
   "source": [
    "# XGBOOST Experiment"
   ]
  },
  {
   "cell_type": "code",
   "execution_count": 5,
   "metadata": {},
   "outputs": [],
   "source": [
    "import warnings\n",
    "warnings.filterwarnings('ignore')\n",
    "\n",
    "from sklearn.model_selection import train_test_split\n",
    "\n",
    "from src.hypersearch import xgbc_random\n",
    "from config.xgboost import config_dict"
   ]
  },
  {
   "cell_type": "code",
   "execution_count": 6,
   "metadata": {},
   "outputs": [
    {
     "name": "stdout",
     "output_type": "stream",
     "text": [
      "Trace xgbc_random() --- starting new iteration --- time elapsed = 8.58306884765625e-06 seconds\n",
      "Trace xgbc_random() --- trying hyperparameters = {'n_estimators': 50, 'max_depth': 8, 'learning_rate': 0.1, 'subsample': 0.7500000000000001, 'min_child_weight': 12, 'nthread': 1, 'gamma': 4.5, 'colsample_bytree': 0.9999999999999999}\n",
      "Trace xgbc_random() --- best_score updated to 0.92\n",
      "Trace xgbc_random() --- best_kwargs updated to {'n_estimators': 50, 'max_depth': 8, 'learning_rate': 0.1, 'subsample': 0.7500000000000001, 'min_child_weight': 12, 'nthread': 1, 'gamma': 4.5, 'colsample_bytree': 0.9999999999999999}\n",
      "Trace xgbc_random() --- starting new iteration --- time elapsed = 2.6822142601013184 seconds\n",
      "Trace xgbc_random() --- trying hyperparameters = {'n_estimators': 100, 'max_depth': 6, 'learning_rate': 0.001, 'subsample': 0.7500000000000001, 'min_child_weight': 11, 'nthread': 1, 'gamma': 1.0, 'colsample_bytree': 0.9999999999999999}\n",
      "Trace xgbc_random() --- starting new iteration --- time elapsed = 8.694540023803711 seconds\n",
      "Trace xgbc_random() --- trying hyperparameters = {'n_estimators': 50, 'max_depth': 7, 'learning_rate': 0.5, 'subsample': 0.9000000000000001, 'min_child_weight': 13, 'nthread': 1, 'gamma': 2.0, 'colsample_bytree': 0.5}\n",
      "Trace xgbc_random() --- best_score updated to 0.9355555555555556\n",
      "Trace xgbc_random() --- best_kwargs updated to {'n_estimators': 50, 'max_depth': 7, 'learning_rate': 0.5, 'subsample': 0.9000000000000001, 'min_child_weight': 13, 'nthread': 1, 'gamma': 2.0, 'colsample_bytree': 0.5}\n",
      "Trace xgbc_random() --- starting new iteration --- time elapsed = 9.605513572692871 seconds\n",
      "Trace xgbc_random() --- trying hyperparameters = {'n_estimators': 500, 'max_depth': 3, 'learning_rate': 0.1, 'subsample': 0.4, 'min_child_weight': 5, 'nthread': 1, 'gamma': 2.5, 'colsample_bytree': 0.9999999999999999}\n",
      "Trace xgbc_random() --- starting new iteration --- time elapsed = 26.325667142868042 seconds\n",
      "Trace xgbc_random() --- trying hyperparameters = {'n_estimators': 100, 'max_depth': 7, 'learning_rate': 0.5, 'subsample': 0.8, 'min_child_weight': 4, 'nthread': 1, 'gamma': 4.5, 'colsample_bytree': 0.8999999999999999}\n",
      "Trace xgbc_random() --- starting new iteration --- time elapsed = 30.773496627807617 seconds\n",
      "Trace xgbc_random() --- trying hyperparameters = {'n_estimators': 50, 'max_depth': 4, 'learning_rate': 0.001, 'subsample': 0.6000000000000001, 'min_child_weight': 17, 'nthread': 1, 'gamma': 2.5, 'colsample_bytree': 0.7999999999999999}\n",
      "Trace xgbc_random() --- starting new iteration --- time elapsed = 32.19296193122864 seconds\n",
      "Trace xgbc_random() --- trying hyperparameters = {'n_estimators': 500, 'max_depth': 8, 'learning_rate': 0.5, 'subsample': 1.0, 'min_child_weight': 7, 'nthread': 1, 'gamma': 0.0, 'colsample_bytree': 0.6}\n",
      "Trace xgbc_random() --- best_score updated to 0.9555555555555556\n",
      "Trace xgbc_random() --- best_kwargs updated to {'n_estimators': 500, 'max_depth': 8, 'learning_rate': 0.5, 'subsample': 1.0, 'min_child_weight': 7, 'nthread': 1, 'gamma': 0.0, 'colsample_bytree': 0.6}\n",
      "Trace xgbc_random() --- starting new iteration --- time elapsed = 36.45447492599487 seconds\n",
      "Trace xgbc_random() --- trying hyperparameters = {'n_estimators': 500, 'max_depth': 3, 'learning_rate': 1.0, 'subsample': 0.8, 'min_child_weight': 9, 'nthread': 1, 'gamma': 4.0, 'colsample_bytree': 0.5}\n",
      "Trace xgbc_random() --- starting new iteration --- time elapsed = 43.36770844459534 seconds\n",
      "Trace xgbc_random() --- trying hyperparameters = {'n_estimators': 1000, 'max_depth': 1, 'learning_rate': 1.0, 'subsample': 0.45, 'min_child_weight': 11, 'nthread': 1, 'gamma': 2.0, 'colsample_bytree': 0.6}\n",
      "Trace xgbc_random() --- starting new iteration --- time elapsed = 52.29396986961365 seconds\n",
      "Trace xgbc_random() --- trying hyperparameters = {'n_estimators': 100, 'max_depth': 7, 'learning_rate': 0.1, 'subsample': 0.15000000000000002, 'min_child_weight': 8, 'nthread': 1, 'gamma': 0.0, 'colsample_bytree': 0.5}\n",
      "Trace xgbc_random() --- starting new iteration --- time elapsed = 53.32281184196472 seconds\n",
      "Trace xgbc_random() --- trying hyperparameters = {'n_estimators': 100, 'max_depth': 7, 'learning_rate': 0.001, 'subsample': 0.8500000000000001, 'min_child_weight': 9, 'nthread': 1, 'gamma': 2.0, 'colsample_bytree': 0.5}\n",
      "Trace xgbc_random() --- starting new iteration --- time elapsed = 56.022501945495605 seconds\n",
      "Trace xgbc_random() --- trying hyperparameters = {'n_estimators': 50, 'max_depth': 4, 'learning_rate': 1.0, 'subsample': 0.35000000000000003, 'min_child_weight': 14, 'nthread': 1, 'gamma': 2.5, 'colsample_bytree': 0.7999999999999999}\n",
      "Trace xgbc_random() --- starting new iteration --- time elapsed = 56.682650089263916 seconds\n",
      "Trace xgbc_random() --- trying hyperparameters = {'n_estimators': 1000, 'max_depth': 4, 'learning_rate': 1.0, 'subsample': 0.9500000000000001, 'min_child_weight': 7, 'nthread': 1, 'gamma': 3.0, 'colsample_bytree': 0.8999999999999999}\n",
      "Trace xgbc_random() --- starting new iteration --- time elapsed = 83.36390256881714 seconds\n",
      "Trace xgbc_random() --- trying hyperparameters = {'n_estimators': 1000, 'max_depth': 7, 'learning_rate': 1.0, 'subsample': 0.8, 'min_child_weight': 17, 'nthread': 1, 'gamma': 5.0, 'colsample_bytree': 0.6}\n",
      "Trace xgbc_random() --- starting new iteration --- time elapsed = 96.48826718330383 seconds\n",
      "Trace xgbc_random() --- trying hyperparameters = {'n_estimators': 50, 'max_depth': 5, 'learning_rate': 0.1, 'subsample': 0.2, 'min_child_weight': 2, 'nthread': 1, 'gamma': 2.0, 'colsample_bytree': 0.7999999999999999}\n",
      "Trace xgbc_random() --- starting new iteration --- time elapsed = 97.6117148399353 seconds\n",
      "Trace xgbc_random() --- trying hyperparameters = {'n_estimators': 1000, 'max_depth': 2, 'learning_rate': 0.01, 'subsample': 0.15000000000000002, 'min_child_weight': 16, 'nthread': 1, 'gamma': 4.0, 'colsample_bytree': 0.6}\n",
      "Trace xgbc_random() --- starting new iteration --- time elapsed = 105.90874338150024 seconds\n",
      "Trace xgbc_random() --- trying hyperparameters = {'n_estimators': 100, 'max_depth': 3, 'learning_rate': 0.01, 'subsample': 0.25, 'min_child_weight': 6, 'nthread': 1, 'gamma': 2.5, 'colsample_bytree': 0.6}\n",
      "Trace xgbc_random() --- starting new iteration --- time elapsed = 107.86802554130554 seconds\n",
      "Trace xgbc_random() --- trying hyperparameters = {'n_estimators': 100, 'max_depth': 4, 'learning_rate': 0.5, 'subsample': 0.5, 'min_child_weight': 7, 'nthread': 1, 'gamma': 4.5, 'colsample_bytree': 0.7}\n",
      "Trace xgbc_random() --- starting new iteration --- time elapsed = 110.17461156845093 seconds\n",
      "Trace xgbc_random() --- trying hyperparameters = {'n_estimators': 50, 'max_depth': 4, 'learning_rate': 0.1, 'subsample': 0.6500000000000001, 'min_child_weight': 15, 'nthread': 1, 'gamma': 3.5, 'colsample_bytree': 0.5}\n",
      "Trace xgbc_random() --- starting new iteration --- time elapsed = 111.14137649536133 seconds\n",
      "Trace xgbc_random() --- trying hyperparameters = {'n_estimators': 100, 'max_depth': 5, 'learning_rate': 0.001, 'subsample': 0.05, 'min_child_weight': 15, 'nthread': 1, 'gamma': 4.0, 'colsample_bytree': 0.9999999999999999}\n",
      "Trace xgbc_random() --- starting new iteration --- time elapsed = 111.76006722450256 seconds\n",
      "Trace xgbc_random() --- trying hyperparameters = {'n_estimators': 500, 'max_depth': 8, 'learning_rate': 0.01, 'subsample': 0.7000000000000001, 'min_child_weight': 19, 'nthread': 1, 'gamma': 1.5, 'colsample_bytree': 0.9999999999999999}\n",
      "Trace xgbc_random() --- starting new iteration --- time elapsed = 129.73174452781677 seconds\n",
      "Trace xgbc_random() --- trying hyperparameters = {'n_estimators': 50, 'max_depth': 8, 'learning_rate': 0.001, 'subsample': 0.7500000000000001, 'min_child_weight': 17, 'nthread': 1, 'gamma': 3.5, 'colsample_bytree': 0.6}\n",
      "Trace xgbc_random() --- starting new iteration --- time elapsed = 131.10532903671265 seconds\n",
      "Trace xgbc_random() --- trying hyperparameters = {'n_estimators': 50, 'max_depth': 8, 'learning_rate': 0.001, 'subsample': 0.55, 'min_child_weight': 2, 'nthread': 1, 'gamma': 2.5, 'colsample_bytree': 0.7}\n",
      "Trace xgbc_random() --- starting new iteration --- time elapsed = 133.17006087303162 seconds\n",
      "Trace xgbc_random() --- trying hyperparameters = {'n_estimators': 1000, 'max_depth': 3, 'learning_rate': 1.0, 'subsample': 0.55, 'min_child_weight': 4, 'nthread': 1, 'gamma': 2.5, 'colsample_bytree': 0.7999999999999999}\n"
     ]
    },
    {
     "name": "stdout",
     "output_type": "stream",
     "text": [
      "Trace xgbc_random() --- starting new iteration --- time elapsed = 159.77343368530273 seconds\n",
      "Trace xgbc_random() --- trying hyperparameters = {'n_estimators': 50, 'max_depth': 8, 'learning_rate': 0.01, 'subsample': 0.55, 'min_child_weight': 3, 'nthread': 1, 'gamma': 2.5, 'colsample_bytree': 0.7999999999999999}\n",
      "Trace xgbc_random() --- starting new iteration --- time elapsed = 161.78151559829712 seconds\n",
      "Trace xgbc_random() --- trying hyperparameters = {'n_estimators': 50, 'max_depth': 2, 'learning_rate': 0.1, 'subsample': 0.35000000000000003, 'min_child_weight': 4, 'nthread': 1, 'gamma': 4.0, 'colsample_bytree': 0.5}\n",
      "Trace xgbc_random() --- starting new iteration --- time elapsed = 162.46154618263245 seconds\n",
      "Trace xgbc_random() --- trying hyperparameters = {'n_estimators': 100, 'max_depth': 4, 'learning_rate': 0.5, 'subsample': 0.55, 'min_child_weight': 9, 'nthread': 1, 'gamma': 3.5, 'colsample_bytree': 0.9999999999999999}\n",
      "Trace xgbc_random() --- starting new iteration --- time elapsed = 165.9574146270752 seconds\n",
      "Trace xgbc_random() --- trying hyperparameters = {'n_estimators': 50, 'max_depth': 9, 'learning_rate': 1.0, 'subsample': 0.55, 'min_child_weight': 16, 'nthread': 1, 'gamma': 3.5, 'colsample_bytree': 0.7}\n",
      "Trace xgbc_random() --- starting new iteration --- time elapsed = 166.6568717956543 seconds\n",
      "Trace xgbc_random() --- trying hyperparameters = {'n_estimators': 50, 'max_depth': 8, 'learning_rate': 0.01, 'subsample': 0.55, 'min_child_weight': 14, 'nthread': 1, 'gamma': 5.0, 'colsample_bytree': 0.7}\n",
      "Trace xgbc_random() --- starting new iteration --- time elapsed = 168.0249319076538 seconds\n",
      "Trace xgbc_random() --- trying hyperparameters = {'n_estimators': 100, 'max_depth': 8, 'learning_rate': 0.1, 'subsample': 0.8, 'min_child_weight': 2, 'nthread': 1, 'gamma': 1.5, 'colsample_bytree': 0.7999999999999999}\n",
      "Trace xgbc_random() --- starting new iteration --- time elapsed = 172.29586362838745 seconds\n",
      "Trace xgbc_random() --- trying hyperparameters = {'n_estimators': 500, 'max_depth': 9, 'learning_rate': 0.001, 'subsample': 0.8, 'min_child_weight': 1, 'nthread': 1, 'gamma': 2.0, 'colsample_bytree': 0.8999999999999999}\n",
      "Trace xgbc_random() --- starting new iteration --- time elapsed = 203.08186984062195 seconds\n",
      "Trace xgbc_random() --- trying hyperparameters = {'n_estimators': 500, 'max_depth': 10, 'learning_rate': 0.01, 'subsample': 0.45, 'min_child_weight': 15, 'nthread': 1, 'gamma': 1.0, 'colsample_bytree': 0.7}\n",
      "Trace xgbc_random() --- starting new iteration --- time elapsed = 215.56040048599243 seconds\n",
      "Trace xgbc_random() --- trying hyperparameters = {'n_estimators': 1000, 'max_depth': 6, 'learning_rate': 0.5, 'subsample': 0.25, 'min_child_weight': 9, 'nthread': 1, 'gamma': 2.0, 'colsample_bytree': 0.7}\n",
      "Trace xgbc_random() --- starting new iteration --- time elapsed = 224.30442237854004 seconds\n",
      "Trace xgbc_random() --- trying hyperparameters = {'n_estimators': 100, 'max_depth': 8, 'learning_rate': 0.001, 'subsample': 0.1, 'min_child_weight': 7, 'nthread': 1, 'gamma': 3.5, 'colsample_bytree': 0.7999999999999999}\n",
      "Trace xgbc_random() --- starting new iteration --- time elapsed = 225.36059093475342 seconds\n",
      "Trace xgbc_random() --- trying hyperparameters = {'n_estimators': 100, 'max_depth': 4, 'learning_rate': 0.1, 'subsample': 0.3, 'min_child_weight': 6, 'nthread': 1, 'gamma': 4.5, 'colsample_bytree': 0.8999999999999999}\n",
      "Trace xgbc_random() --- starting new iteration --- time elapsed = 227.97074222564697 seconds\n",
      "Trace xgbc_random() --- trying hyperparameters = {'n_estimators': 100, 'max_depth': 7, 'learning_rate': 0.5, 'subsample': 0.2, 'min_child_weight': 17, 'nthread': 1, 'gamma': 2.5, 'colsample_bytree': 0.6}\n",
      "Trace xgbc_random() --- starting new iteration --- time elapsed = 228.6752986907959 seconds\n",
      "Trace xgbc_random() --- trying hyperparameters = {'n_estimators': 100, 'max_depth': 8, 'learning_rate': 0.1, 'subsample': 0.6500000000000001, 'min_child_weight': 15, 'nthread': 1, 'gamma': 4.0, 'colsample_bytree': 0.6}\n",
      "Trace xgbc_random() --- starting new iteration --- time elapsed = 230.5851912498474 seconds\n",
      "Trace xgbc_random() --- trying hyperparameters = {'n_estimators': 500, 'max_depth': 2, 'learning_rate': 1.0, 'subsample': 0.1, 'min_child_weight': 3, 'nthread': 1, 'gamma': 3.0, 'colsample_bytree': 0.5}\n",
      "Trace xgbc_random() --- starting new iteration --- time elapsed = 233.77478194236755 seconds\n",
      "Trace xgbc_random() --- trying hyperparameters = {'n_estimators': 50, 'max_depth': 4, 'learning_rate': 1.0, 'subsample': 0.2, 'min_child_weight': 13, 'nthread': 1, 'gamma': 1.5, 'colsample_bytree': 0.8999999999999999}\n",
      "Trace xgbc_random() --- starting new iteration --- time elapsed = 234.23265886306763 seconds\n",
      "Trace xgbc_random() --- trying hyperparameters = {'n_estimators': 100, 'max_depth': 2, 'learning_rate': 0.001, 'subsample': 0.55, 'min_child_weight': 14, 'nthread': 1, 'gamma': 0.5, 'colsample_bytree': 0.6}\n",
      "Trace xgbc_random() --- starting new iteration --- time elapsed = 235.70997190475464 seconds\n",
      "Trace xgbc_random() --- trying hyperparameters = {'n_estimators': 100, 'max_depth': 10, 'learning_rate': 1.0, 'subsample': 0.9000000000000001, 'min_child_weight': 16, 'nthread': 1, 'gamma': 0.5, 'colsample_bytree': 0.7}\n",
      "Trace xgbc_random() --- starting new iteration --- time elapsed = 237.17108964920044 seconds\n",
      "Trace xgbc_random() --- trying hyperparameters = {'n_estimators': 50, 'max_depth': 3, 'learning_rate': 0.1, 'subsample': 0.9500000000000001, 'min_child_weight': 10, 'nthread': 1, 'gamma': 4.5, 'colsample_bytree': 0.8999999999999999}\n",
      "Trace xgbc_random() --- starting new iteration --- time elapsed = 238.39339017868042 seconds\n",
      "Trace xgbc_random() --- trying hyperparameters = {'n_estimators': 500, 'max_depth': 4, 'learning_rate': 1.0, 'subsample': 0.9500000000000001, 'min_child_weight': 16, 'nthread': 1, 'gamma': 3.0, 'colsample_bytree': 0.7}\n",
      "Trace xgbc_random() --- starting new iteration --- time elapsed = 244.82002210617065 seconds\n",
      "Trace xgbc_random() --- trying hyperparameters = {'n_estimators': 100, 'max_depth': 3, 'learning_rate': 0.5, 'subsample': 0.8, 'min_child_weight': 19, 'nthread': 1, 'gamma': 1.5, 'colsample_bytree': 0.5}\n",
      "Trace xgbc_random() --- starting new iteration --- time elapsed = 246.03290152549744 seconds\n",
      "Trace xgbc_random() --- trying hyperparameters = {'n_estimators': 50, 'max_depth': 4, 'learning_rate': 0.5, 'subsample': 0.9500000000000001, 'min_child_weight': 10, 'nthread': 1, 'gamma': 0.5, 'colsample_bytree': 0.7}\n",
      "Trace xgbc_random() --- starting new iteration --- time elapsed = 246.86664271354675 seconds\n",
      "Trace xgbc_random() --- trying hyperparameters = {'n_estimators': 500, 'max_depth': 3, 'learning_rate': 0.001, 'subsample': 0.7500000000000001, 'min_child_weight': 12, 'nthread': 1, 'gamma': 2.0, 'colsample_bytree': 0.9999999999999999}\n",
      "Trace xgbc_random() --- starting new iteration --- time elapsed = 262.7784197330475 seconds\n",
      "Trace xgbc_random() --- trying hyperparameters = {'n_estimators': 50, 'max_depth': 5, 'learning_rate': 0.01, 'subsample': 0.45, 'min_child_weight': 17, 'nthread': 1, 'gamma': 3.5, 'colsample_bytree': 0.9999999999999999}\n",
      "Trace xgbc_random() --- starting new iteration --- time elapsed = 264.5632972717285 seconds\n",
      "Trace xgbc_random() --- trying hyperparameters = {'n_estimators': 500, 'max_depth': 9, 'learning_rate': 0.01, 'subsample': 0.35000000000000003, 'min_child_weight': 11, 'nthread': 1, 'gamma': 4.0, 'colsample_bytree': 0.8999999999999999}\n",
      "Trace xgbc_random() --- starting new iteration --- time elapsed = 278.2574987411499 seconds\n",
      "Trace xgbc_random() --- trying hyperparameters = {'n_estimators': 1000, 'max_depth': 7, 'learning_rate': 0.01, 'subsample': 0.35000000000000003, 'min_child_weight': 7, 'nthread': 1, 'gamma': 3.0, 'colsample_bytree': 0.7999999999999999}\n",
      "Trace xgbc_random() --- starting new iteration --- time elapsed = 303.78268480300903 seconds\n",
      "Trace xgbc_random() --- trying hyperparameters = {'n_estimators': 50, 'max_depth': 7, 'learning_rate': 0.1, 'subsample': 0.15000000000000002, 'min_child_weight': 12, 'nthread': 1, 'gamma': 5.0, 'colsample_bytree': 0.7999999999999999}\n",
      "Trace xgbc_random() --- starting new iteration --- time elapsed = 304.34910702705383 seconds\n",
      "Trace xgbc_random() --- trying hyperparameters = {'n_estimators': 100, 'max_depth': 5, 'learning_rate': 0.01, 'subsample': 0.25, 'min_child_weight': 3, 'nthread': 1, 'gamma': 4.0, 'colsample_bytree': 0.7}\n"
     ]
    },
    {
     "name": "stdout",
     "output_type": "stream",
     "text": [
      "Trace xgbc_random() --- starting new iteration --- time elapsed = 306.5701656341553 seconds\n",
      "Trace xgbc_random() --- trying hyperparameters = {'n_estimators': 50, 'max_depth': 10, 'learning_rate': 1.0, 'subsample': 0.55, 'min_child_weight': 9, 'nthread': 1, 'gamma': 2.0, 'colsample_bytree': 0.9999999999999999}\n",
      "Trace xgbc_random() --- starting new iteration --- time elapsed = 307.5953748226166 seconds\n",
      "Trace xgbc_random() --- trying hyperparameters = {'n_estimators': 1000, 'max_depth': 6, 'learning_rate': 0.5, 'subsample': 0.2, 'min_child_weight': 1, 'nthread': 1, 'gamma': 4.5, 'colsample_bytree': 0.6}\n",
      "Trace xgbc_random() --- starting new iteration --- time elapsed = 328.6066949367523 seconds\n",
      "Trace xgbc_random() --- trying hyperparameters = {'n_estimators': 500, 'max_depth': 3, 'learning_rate': 0.5, 'subsample': 0.8500000000000001, 'min_child_weight': 11, 'nthread': 1, 'gamma': 2.5, 'colsample_bytree': 0.9999999999999999}\n",
      "Trace xgbc_random() --- starting new iteration --- time elapsed = 342.12913393974304 seconds\n",
      "Trace xgbc_random() --- trying hyperparameters = {'n_estimators': 100, 'max_depth': 5, 'learning_rate': 1.0, 'subsample': 0.7000000000000001, 'min_child_weight': 2, 'nthread': 1, 'gamma': 1.0, 'colsample_bytree': 0.8999999999999999}\n",
      "Trace xgbc_random() --- starting new iteration --- time elapsed = 345.721204996109 seconds\n",
      "Trace xgbc_random() --- trying hyperparameters = {'n_estimators': 100, 'max_depth': 6, 'learning_rate': 0.01, 'subsample': 0.6000000000000001, 'min_child_weight': 15, 'nthread': 1, 'gamma': 4.5, 'colsample_bytree': 0.8999999999999999}\n",
      "Trace xgbc_random() --- starting new iteration --- time elapsed = 349.5351519584656 seconds\n",
      "Trace xgbc_random() --- trying hyperparameters = {'n_estimators': 1000, 'max_depth': 8, 'learning_rate': 0.1, 'subsample': 0.25, 'min_child_weight': 18, 'nthread': 1, 'gamma': 0.0, 'colsample_bytree': 0.8999999999999999}\n",
      "Trace xgbc_random() --- starting new iteration --- time elapsed = 362.37971353530884 seconds\n",
      "Trace xgbc_random() --- trying hyperparameters = {'n_estimators': 1000, 'max_depth': 2, 'learning_rate': 1.0, 'subsample': 0.4, 'min_child_weight': 11, 'nthread': 1, 'gamma': 3.0, 'colsample_bytree': 0.5}\n",
      "Trace xgbc_random() --- starting new iteration --- time elapsed = 373.4353802204132 seconds\n",
      "Trace xgbc_random() --- trying hyperparameters = {'n_estimators': 100, 'max_depth': 3, 'learning_rate': 0.1, 'subsample': 0.6000000000000001, 'min_child_weight': 17, 'nthread': 1, 'gamma': 4.0, 'colsample_bytree': 0.6}\n",
      "Trace xgbc_random() --- starting new iteration --- time elapsed = 375.51350498199463 seconds\n",
      "Trace xgbc_random() --- trying hyperparameters = {'n_estimators': 50, 'max_depth': 6, 'learning_rate': 0.5, 'subsample': 0.6000000000000001, 'min_child_weight': 18, 'nthread': 1, 'gamma': 4.5, 'colsample_bytree': 0.5}\n",
      "Trace xgbc_random() --- starting new iteration --- time elapsed = 376.45781087875366 seconds\n",
      "Trace xgbc_random() --- trying hyperparameters = {'n_estimators': 100, 'max_depth': 5, 'learning_rate': 0.01, 'subsample': 0.5, 'min_child_weight': 16, 'nthread': 1, 'gamma': 1.5, 'colsample_bytree': 0.8999999999999999}\n",
      "Trace xgbc_random() --- starting new iteration --- time elapsed = 380.1023316383362 seconds\n",
      "Trace xgbc_random() --- trying hyperparameters = {'n_estimators': 50, 'max_depth': 9, 'learning_rate': 0.1, 'subsample': 0.6000000000000001, 'min_child_weight': 5, 'nthread': 1, 'gamma': 1.0, 'colsample_bytree': 0.8999999999999999}\n",
      "Trace xgbc_random() --- starting new iteration --- time elapsed = 382.5777406692505 seconds\n",
      "Trace xgbc_random() --- trying hyperparameters = {'n_estimators': 500, 'max_depth': 5, 'learning_rate': 0.01, 'subsample': 0.7500000000000001, 'min_child_weight': 6, 'nthread': 1, 'gamma': 2.0, 'colsample_bytree': 0.7999999999999999}\n",
      "Trace xgbc_random() --- starting new iteration --- time elapsed = 402.2646210193634 seconds\n",
      "Trace xgbc_random() --- trying hyperparameters = {'n_estimators': 500, 'max_depth': 8, 'learning_rate': 0.1, 'subsample': 0.4, 'min_child_weight': 9, 'nthread': 1, 'gamma': 0.0, 'colsample_bytree': 0.6}\n",
      "Trace xgbc_random() --- starting new iteration --- time elapsed = 408.87707018852234 seconds\n",
      "Trace xgbc_random() --- trying hyperparameters = {'n_estimators': 100, 'max_depth': 3, 'learning_rate': 0.5, 'subsample': 0.55, 'min_child_weight': 2, 'nthread': 1, 'gamma': 1.0, 'colsample_bytree': 0.7999999999999999}\n",
      "Trace xgbc_random() --- starting new iteration --- time elapsed = 412.02153515815735 seconds\n",
      "Trace xgbc_random() --- trying hyperparameters = {'n_estimators': 100, 'max_depth': 5, 'learning_rate': 0.1, 'subsample': 0.6000000000000001, 'min_child_weight': 10, 'nthread': 1, 'gamma': 1.0, 'colsample_bytree': 0.5}\n",
      "Trace xgbc_random() --- starting new iteration --- time elapsed = 414.3458867073059 seconds\n",
      "Trace xgbc_random() --- trying hyperparameters = {'n_estimators': 50, 'max_depth': 7, 'learning_rate': 0.5, 'subsample': 0.1, 'min_child_weight': 12, 'nthread': 1, 'gamma': 3.0, 'colsample_bytree': 0.8999999999999999}\n",
      "Trace xgbc_random() --- starting new iteration --- time elapsed = 414.80899238586426 seconds\n",
      "Trace xgbc_random() --- trying hyperparameters = {'n_estimators': 500, 'max_depth': 9, 'learning_rate': 1.0, 'subsample': 0.1, 'min_child_weight': 20, 'nthread': 1, 'gamma': 3.5, 'colsample_bytree': 0.8999999999999999}\n",
      "Trace xgbc_random() --- starting new iteration --- time elapsed = 418.9334397315979 seconds\n",
      "Trace xgbc_random() --- trying hyperparameters = {'n_estimators': 500, 'max_depth': 3, 'learning_rate': 1.0, 'subsample': 0.7500000000000001, 'min_child_weight': 9, 'nthread': 1, 'gamma': 0.5, 'colsample_bytree': 0.7999999999999999}\n",
      "Trace xgbc_random() --- starting new iteration --- time elapsed = 425.12459659576416 seconds\n",
      "Trace xgbc_random() --- trying hyperparameters = {'n_estimators': 500, 'max_depth': 3, 'learning_rate': 1.0, 'subsample': 0.25, 'min_child_weight': 9, 'nthread': 1, 'gamma': 4.0, 'colsample_bytree': 0.5}\n",
      "Trace xgbc_random() --- starting new iteration --- time elapsed = 430.70711278915405 seconds\n",
      "Trace xgbc_random() --- trying hyperparameters = {'n_estimators': 500, 'max_depth': 6, 'learning_rate': 0.001, 'subsample': 0.35000000000000003, 'min_child_weight': 19, 'nthread': 1, 'gamma': 2.0, 'colsample_bytree': 0.9999999999999999}\n",
      "Trace xgbc_random() --- starting new iteration --- time elapsed = 446.1546537876129 seconds\n",
      "Trace xgbc_random() --- trying hyperparameters = {'n_estimators': 1000, 'max_depth': 2, 'learning_rate': 1.0, 'subsample': 0.45, 'min_child_weight': 17, 'nthread': 1, 'gamma': 5.0, 'colsample_bytree': 0.6}\n",
      "Trace xgbc_random() --- starting new iteration --- time elapsed = 457.87960839271545 seconds\n",
      "Trace xgbc_random() --- trying hyperparameters = {'n_estimators': 100, 'max_depth': 2, 'learning_rate': 0.1, 'subsample': 0.1, 'min_child_weight': 20, 'nthread': 1, 'gamma': 1.0, 'colsample_bytree': 0.7}\n",
      "Trace xgbc_random() --- starting new iteration --- time elapsed = 458.5959737300873 seconds\n",
      "Trace xgbc_random() --- trying hyperparameters = {'n_estimators': 50, 'max_depth': 8, 'learning_rate': 0.001, 'subsample': 0.3, 'min_child_weight': 1, 'nthread': 1, 'gamma': 2.5, 'colsample_bytree': 0.9999999999999999}\n",
      "Trace xgbc_random() --- starting new iteration --- time elapsed = 460.91326379776 seconds\n",
      "Trace xgbc_random() --- trying hyperparameters = {'n_estimators': 100, 'max_depth': 9, 'learning_rate': 0.001, 'subsample': 0.9500000000000001, 'min_child_weight': 1, 'nthread': 1, 'gamma': 4.0, 'colsample_bytree': 0.7}\n",
      "Trace xgbc_random() --- starting new iteration --- time elapsed = 465.5479130744934 seconds\n",
      "Trace xgbc_random() --- trying hyperparameters = {'n_estimators': 500, 'max_depth': 8, 'learning_rate': 0.01, 'subsample': 0.15000000000000002, 'min_child_weight': 17, 'nthread': 1, 'gamma': 2.5, 'colsample_bytree': 0.8999999999999999}\n",
      "Trace xgbc_random() --- starting new iteration --- time elapsed = 471.60621190071106 seconds\n",
      "Trace xgbc_random() --- trying hyperparameters = {'n_estimators': 100, 'max_depth': 2, 'learning_rate': 0.1, 'subsample': 1.0, 'min_child_weight': 8, 'nthread': 1, 'gamma': 1.5, 'colsample_bytree': 0.8999999999999999}\n",
      "Trace xgbc_random() --- starting new iteration --- time elapsed = 473.53209376335144 seconds\n",
      "Trace xgbc_random() --- trying hyperparameters = {'n_estimators': 100, 'max_depth': 8, 'learning_rate': 1.0, 'subsample': 0.15000000000000002, 'min_child_weight': 11, 'nthread': 1, 'gamma': 2.5, 'colsample_bytree': 0.7}\n"
     ]
    },
    {
     "name": "stdout",
     "output_type": "stream",
     "text": [
      "Trace xgbc_random() --- starting new iteration --- time elapsed = 474.26778650283813 seconds\n",
      "Trace xgbc_random() --- trying hyperparameters = {'n_estimators': 50, 'max_depth': 6, 'learning_rate': 0.1, 'subsample': 0.15000000000000002, 'min_child_weight': 8, 'nthread': 1, 'gamma': 1.5, 'colsample_bytree': 0.5}\n",
      "Trace xgbc_random() --- starting new iteration --- time elapsed = 474.77707839012146 seconds\n",
      "Trace xgbc_random() --- trying hyperparameters = {'n_estimators': 100, 'max_depth': 7, 'learning_rate': 0.1, 'subsample': 0.5, 'min_child_weight': 15, 'nthread': 1, 'gamma': 5.0, 'colsample_bytree': 0.7}\n",
      "Trace xgbc_random() --- starting new iteration --- time elapsed = 477.09124994277954 seconds\n",
      "Trace xgbc_random() --- trying hyperparameters = {'n_estimators': 100, 'max_depth': 1, 'learning_rate': 1.0, 'subsample': 0.35000000000000003, 'min_child_weight': 13, 'nthread': 1, 'gamma': 3.0, 'colsample_bytree': 0.7999999999999999}\n",
      "Trace xgbc_random() --- starting new iteration --- time elapsed = 478.19667530059814 seconds\n",
      "Trace xgbc_random() --- trying hyperparameters = {'n_estimators': 500, 'max_depth': 9, 'learning_rate': 0.1, 'subsample': 0.8, 'min_child_weight': 8, 'nthread': 1, 'gamma': 1.0, 'colsample_bytree': 0.6}\n",
      "Trace xgbc_random() --- starting new iteration --- time elapsed = 487.1514995098114 seconds\n",
      "Trace xgbc_random() --- trying hyperparameters = {'n_estimators': 100, 'max_depth': 2, 'learning_rate': 0.5, 'subsample': 0.9000000000000001, 'min_child_weight': 2, 'nthread': 1, 'gamma': 0.5, 'colsample_bytree': 0.6}\n",
      "Trace xgbc_random() --- starting new iteration --- time elapsed = 488.3462471961975 seconds\n",
      "Trace xgbc_random() --- trying hyperparameters = {'n_estimators': 50, 'max_depth': 10, 'learning_rate': 0.5, 'subsample': 0.8500000000000001, 'min_child_weight': 13, 'nthread': 1, 'gamma': 3.0, 'colsample_bytree': 0.5}\n",
      "Trace xgbc_random() --- starting new iteration --- time elapsed = 489.16520166397095 seconds\n",
      "Trace xgbc_random() --- trying hyperparameters = {'n_estimators': 1000, 'max_depth': 3, 'learning_rate': 0.01, 'subsample': 0.35000000000000003, 'min_child_weight': 5, 'nthread': 1, 'gamma': 2.5, 'colsample_bytree': 0.8999999999999999}\n",
      "Trace xgbc_random() --- starting new iteration --- time elapsed = 517.6783576011658 seconds\n",
      "Trace xgbc_random() --- trying hyperparameters = {'n_estimators': 500, 'max_depth': 4, 'learning_rate': 1.0, 'subsample': 0.3, 'min_child_weight': 1, 'nthread': 1, 'gamma': 4.5, 'colsample_bytree': 0.5}\n",
      "Trace xgbc_random() --- starting new iteration --- time elapsed = 527.4284424781799 seconds\n",
      "Trace xgbc_random() --- trying hyperparameters = {'n_estimators': 50, 'max_depth': 1, 'learning_rate': 1.0, 'subsample': 0.25, 'min_child_weight': 16, 'nthread': 1, 'gamma': 2.5, 'colsample_bytree': 0.7999999999999999}\n",
      "Trace xgbc_random() --- starting new iteration --- time elapsed = 527.9790785312653 seconds\n",
      "Trace xgbc_random() --- trying hyperparameters = {'n_estimators': 1000, 'max_depth': 1, 'learning_rate': 0.01, 'subsample': 0.9000000000000001, 'min_child_weight': 5, 'nthread': 1, 'gamma': 4.0, 'colsample_bytree': 0.7999999999999999}\n",
      "Trace xgbc_random() --- starting new iteration --- time elapsed = 538.2698276042938 seconds\n",
      "Trace xgbc_random() --- trying hyperparameters = {'n_estimators': 500, 'max_depth': 6, 'learning_rate': 0.1, 'subsample': 0.6500000000000001, 'min_child_weight': 15, 'nthread': 1, 'gamma': 2.0, 'colsample_bytree': 0.7999999999999999}\n",
      "Trace xgbc_random() --- starting new iteration --- time elapsed = 548.5640077590942 seconds\n",
      "Trace xgbc_random() --- trying hyperparameters = {'n_estimators': 50, 'max_depth': 6, 'learning_rate': 0.5, 'subsample': 0.05, 'min_child_weight': 18, 'nthread': 1, 'gamma': 3.0, 'colsample_bytree': 0.7}\n",
      "Trace xgbc_random() --- starting new iteration --- time elapsed = 548.8978600502014 seconds\n",
      "Trace xgbc_random() --- trying hyperparameters = {'n_estimators': 1000, 'max_depth': 1, 'learning_rate': 1.0, 'subsample': 0.25, 'min_child_weight': 2, 'nthread': 1, 'gamma': 1.0, 'colsample_bytree': 0.5}\n",
      "Trace xgbc_random() --- starting new iteration --- time elapsed = 556.1577069759369 seconds\n",
      "Trace xgbc_random() --- trying hyperparameters = {'n_estimators': 500, 'max_depth': 1, 'learning_rate': 0.01, 'subsample': 0.1, 'min_child_weight': 11, 'nthread': 1, 'gamma': 4.0, 'colsample_bytree': 0.9999999999999999}\n",
      "Trace xgbc_random() --- starting new iteration --- time elapsed = 560.8298904895782 seconds\n",
      "Trace xgbc_random() --- trying hyperparameters = {'n_estimators': 1000, 'max_depth': 5, 'learning_rate': 0.1, 'subsample': 0.6000000000000001, 'min_child_weight': 6, 'nthread': 1, 'gamma': 5.0, 'colsample_bytree': 0.7999999999999999}\n",
      "Trace xgbc_random() --- starting new iteration --- time elapsed = 599.3806524276733 seconds\n",
      "Trace xgbc_random() --- trying hyperparameters = {'n_estimators': 100, 'max_depth': 1, 'learning_rate': 1.0, 'subsample': 0.4, 'min_child_weight': 13, 'nthread': 1, 'gamma': 3.0, 'colsample_bytree': 0.9999999999999999}\n",
      "Trace xgbc_random() --- starting new iteration --- time elapsed = 600.8173871040344 seconds\n",
      "Trace xgbc_random() --- trying hyperparameters = {'n_estimators': 500, 'max_depth': 6, 'learning_rate': 0.1, 'subsample': 0.9000000000000001, 'min_child_weight': 20, 'nthread': 1, 'gamma': 0.5, 'colsample_bytree': 0.7999999999999999}\n",
      "Trace xgbc_random() --- starting new iteration --- time elapsed = 608.746401309967 seconds\n",
      "Trace xgbc_random() --- trying hyperparameters = {'n_estimators': 100, 'max_depth': 6, 'learning_rate': 0.001, 'subsample': 0.6000000000000001, 'min_child_weight': 17, 'nthread': 1, 'gamma': 0.5, 'colsample_bytree': 0.9999999999999999}\n",
      "Trace xgbc_random() --- starting new iteration --- time elapsed = 612.6001834869385 seconds\n",
      "Trace xgbc_random() --- trying hyperparameters = {'n_estimators': 1000, 'max_depth': 5, 'learning_rate': 0.1, 'subsample': 0.15000000000000002, 'min_child_weight': 6, 'nthread': 1, 'gamma': 3.0, 'colsample_bytree': 0.7}\n",
      "Trace xgbc_random() --- starting new iteration --- time elapsed = 624.4907674789429 seconds\n",
      "Trace xgbc_random() --- trying hyperparameters = {'n_estimators': 1000, 'max_depth': 10, 'learning_rate': 0.5, 'subsample': 0.8500000000000001, 'min_child_weight': 6, 'nthread': 1, 'gamma': 5.0, 'colsample_bytree': 0.8999999999999999}\n",
      "Trace xgbc_random() --- starting new iteration --- time elapsed = 663.0289061069489 seconds\n",
      "Trace xgbc_random() --- trying hyperparameters = {'n_estimators': 1000, 'max_depth': 7, 'learning_rate': 1.0, 'subsample': 0.8, 'min_child_weight': 5, 'nthread': 1, 'gamma': 4.5, 'colsample_bytree': 0.7999999999999999}\n",
      "Trace xgbc_random() --- starting new iteration --- time elapsed = 690.8721215724945 seconds\n",
      "Trace xgbc_random() --- trying hyperparameters = {'n_estimators': 500, 'max_depth': 7, 'learning_rate': 0.1, 'subsample': 0.8500000000000001, 'min_child_weight': 18, 'nthread': 1, 'gamma': 1.0, 'colsample_bytree': 0.7}\n",
      "Trace xgbc_random() --- starting new iteration --- time elapsed = 697.260258436203 seconds\n",
      "Trace xgbc_random() --- trying hyperparameters = {'n_estimators': 100, 'max_depth': 5, 'learning_rate': 0.1, 'subsample': 0.3, 'min_child_weight': 3, 'nthread': 1, 'gamma': 0.5, 'colsample_bytree': 0.6}\n",
      "Trace xgbc_random() --- starting new iteration --- time elapsed = 699.3527209758759 seconds\n",
      "Trace xgbc_random() --- trying hyperparameters = {'n_estimators': 1000, 'max_depth': 7, 'learning_rate': 0.5, 'subsample': 0.8, 'min_child_weight': 15, 'nthread': 1, 'gamma': 2.5, 'colsample_bytree': 0.7999999999999999}\n",
      "Trace xgbc_random() --- starting new iteration --- time elapsed = 715.4484460353851 seconds\n",
      "Trace xgbc_random() --- trying hyperparameters = {'n_estimators': 500, 'max_depth': 7, 'learning_rate': 0.5, 'subsample': 1.0, 'min_child_weight': 11, 'nthread': 1, 'gamma': 1.5, 'colsample_bytree': 0.6}\n",
      "Trace xgbc_random() --- starting new iteration --- time elapsed = 722.6745498180389 seconds\n",
      "Trace xgbc_random() --- trying hyperparameters = {'n_estimators': 50, 'max_depth': 1, 'learning_rate': 0.01, 'subsample': 0.5, 'min_child_weight': 6, 'nthread': 1, 'gamma': 4.5, 'colsample_bytree': 0.7999999999999999}\n",
      "Trace xgbc_random() --- starting new iteration --- time elapsed = 723.4178228378296 seconds\n",
      "Trace xgbc_random() --- trying hyperparameters = {'n_estimators': 50, 'max_depth': 3, 'learning_rate': 0.1, 'subsample': 0.9500000000000001, 'min_child_weight': 10, 'nthread': 1, 'gamma': 5.0, 'colsample_bytree': 0.6}\n"
     ]
    },
    {
     "name": "stdout",
     "output_type": "stream",
     "text": [
      "Trace xgbc_random() --- starting new iteration --- time elapsed = 724.3625566959381 seconds\n",
      "Trace xgbc_random() --- trying hyperparameters = {'n_estimators': 500, 'max_depth': 4, 'learning_rate': 0.1, 'subsample': 0.45, 'min_child_weight': 1, 'nthread': 1, 'gamma': 0.5, 'colsample_bytree': 0.5}\n",
      "Trace xgbc_random() --- starting new iteration --- time elapsed = 735.4109783172607 seconds\n",
      "Trace xgbc_random() --- trying hyperparameters = {'n_estimators': 1000, 'max_depth': 6, 'learning_rate': 1.0, 'subsample': 0.6500000000000001, 'min_child_weight': 8, 'nthread': 1, 'gamma': 4.5, 'colsample_bytree': 0.6}\n",
      "Trace xgbc_random() --- starting new iteration --- time elapsed = 751.5144329071045 seconds\n",
      "Trace xgbc_random() --- trying hyperparameters = {'n_estimators': 100, 'max_depth': 6, 'learning_rate': 1.0, 'subsample': 0.5, 'min_child_weight': 8, 'nthread': 1, 'gamma': 4.0, 'colsample_bytree': 0.7999999999999999}\n",
      "Trace xgbc_random() --- starting new iteration --- time elapsed = 753.9242806434631 seconds\n",
      "Trace xgbc_random() --- trying hyperparameters = {'n_estimators': 1000, 'max_depth': 4, 'learning_rate': 0.5, 'subsample': 0.8, 'min_child_weight': 13, 'nthread': 1, 'gamma': 1.0, 'colsample_bytree': 0.6}\n",
      "Trace xgbc_random() --- starting new iteration --- time elapsed = 763.8550937175751 seconds\n",
      "Trace xgbc_random() --- trying hyperparameters = {'n_estimators': 500, 'max_depth': 2, 'learning_rate': 1.0, 'subsample': 0.6500000000000001, 'min_child_weight': 20, 'nthread': 1, 'gamma': 2.0, 'colsample_bytree': 0.7}\n",
      "Trace xgbc_random() --- starting new iteration --- time elapsed = 769.3487119674683 seconds\n",
      "Trace xgbc_random() --- trying hyperparameters = {'n_estimators': 50, 'max_depth': 5, 'learning_rate': 0.01, 'subsample': 0.05, 'min_child_weight': 20, 'nthread': 1, 'gamma': 1.0, 'colsample_bytree': 0.8999999999999999}\n",
      "Trace xgbc_random() --- starting new iteration --- time elapsed = 769.6585872173309 seconds\n",
      "Trace xgbc_random() --- trying hyperparameters = {'n_estimators': 1000, 'max_depth': 4, 'learning_rate': 1.0, 'subsample': 0.4, 'min_child_weight': 11, 'nthread': 1, 'gamma': 4.0, 'colsample_bytree': 0.7}\n",
      "Trace xgbc_random() --- starting new iteration --- time elapsed = 781.526172876358 seconds\n",
      "Trace xgbc_random() --- trying hyperparameters = {'n_estimators': 50, 'max_depth': 3, 'learning_rate': 0.5, 'subsample': 1.0, 'min_child_weight': 15, 'nthread': 1, 'gamma': 1.5, 'colsample_bytree': 0.9999999999999999}\n",
      "Trace xgbc_random() --- starting new iteration --- time elapsed = 782.64479637146 seconds\n",
      "Trace xgbc_random() --- trying hyperparameters = {'n_estimators': 1000, 'max_depth': 9, 'learning_rate': 0.5, 'subsample': 0.35000000000000003, 'min_child_weight': 5, 'nthread': 1, 'gamma': 5.0, 'colsample_bytree': 0.8999999999999999}\n",
      "Trace xgbc_random() --- starting new iteration --- time elapsed = 812.2834768295288 seconds\n",
      "Trace xgbc_random() --- trying hyperparameters = {'n_estimators': 1000, 'max_depth': 10, 'learning_rate': 1.0, 'subsample': 0.45, 'min_child_weight': 14, 'nthread': 1, 'gamma': 4.0, 'colsample_bytree': 0.7999999999999999}\n",
      "Trace xgbc_random() --- starting new iteration --- time elapsed = 826.2159752845764 seconds\n",
      "Trace xgbc_random() --- trying hyperparameters = {'n_estimators': 100, 'max_depth': 5, 'learning_rate': 1.0, 'subsample': 0.35000000000000003, 'min_child_weight': 13, 'nthread': 1, 'gamma': 1.0, 'colsample_bytree': 0.5}\n",
      "Trace xgbc_random() --- starting new iteration --- time elapsed = 827.0776476860046 seconds\n",
      "Trace xgbc_random() --- trying hyperparameters = {'n_estimators': 100, 'max_depth': 6, 'learning_rate': 0.01, 'subsample': 0.9000000000000001, 'min_child_weight': 17, 'nthread': 1, 'gamma': 3.5, 'colsample_bytree': 0.5}\n",
      "Trace xgbc_random() --- starting new iteration --- time elapsed = 829.330569267273 seconds\n",
      "Trace xgbc_random() --- trying hyperparameters = {'n_estimators': 1000, 'max_depth': 4, 'learning_rate': 0.1, 'subsample': 0.25, 'min_child_weight': 1, 'nthread': 1, 'gamma': 1.0, 'colsample_bytree': 0.6}\n",
      "Trace xgbc_random() --- starting new iteration --- time elapsed = 848.6341450214386 seconds\n",
      "Trace xgbc_random() --- trying hyperparameters = {'n_estimators': 100, 'max_depth': 9, 'learning_rate': 0.5, 'subsample': 0.1, 'min_child_weight': 3, 'nthread': 1, 'gamma': 0.5, 'colsample_bytree': 0.9999999999999999}\n",
      "Trace xgbc_random() --- starting new iteration --- time elapsed = 849.6278033256531 seconds\n",
      "Trace xgbc_random() --- trying hyperparameters = {'n_estimators': 50, 'max_depth': 2, 'learning_rate': 0.001, 'subsample': 0.1, 'min_child_weight': 5, 'nthread': 1, 'gamma': 0.0, 'colsample_bytree': 0.7999999999999999}\n",
      "Trace xgbc_random() --- starting new iteration --- time elapsed = 850.2108256816864 seconds\n",
      "Trace xgbc_random() --- trying hyperparameters = {'n_estimators': 100, 'max_depth': 7, 'learning_rate': 0.01, 'subsample': 0.05, 'min_child_weight': 1, 'nthread': 1, 'gamma': 1.5, 'colsample_bytree': 0.9999999999999999}\n",
      "Trace xgbc_random() --- starting new iteration --- time elapsed = 851.830931186676 seconds\n",
      "Trace xgbc_random() --- trying hyperparameters = {'n_estimators': 500, 'max_depth': 7, 'learning_rate': 0.5, 'subsample': 0.4, 'min_child_weight': 8, 'nthread': 1, 'gamma': 3.5, 'colsample_bytree': 0.9999999999999999}\n",
      "Trace xgbc_random() --- starting new iteration --- time elapsed = 863.6567342281342 seconds\n",
      "Trace xgbc_random() --- trying hyperparameters = {'n_estimators': 50, 'max_depth': 1, 'learning_rate': 1.0, 'subsample': 0.05, 'min_child_weight': 10, 'nthread': 1, 'gamma': 4.5, 'colsample_bytree': 0.7}\n",
      "Trace xgbc_random() --- starting new iteration --- time elapsed = 863.9150636196136 seconds\n",
      "Trace xgbc_random() --- trying hyperparameters = {'n_estimators': 100, 'max_depth': 4, 'learning_rate': 0.5, 'subsample': 0.25, 'min_child_weight': 6, 'nthread': 1, 'gamma': 3.5, 'colsample_bytree': 0.5}\n",
      "Trace xgbc_random() --- starting new iteration --- time elapsed = 865.1006791591644 seconds\n",
      "Trace xgbc_random() --- trying hyperparameters = {'n_estimators': 50, 'max_depth': 9, 'learning_rate': 0.5, 'subsample': 0.6000000000000001, 'min_child_weight': 18, 'nthread': 1, 'gamma': 1.0, 'colsample_bytree': 0.8999999999999999}\n",
      "Trace xgbc_random() --- starting new iteration --- time elapsed = 866.0457143783569 seconds\n",
      "Trace xgbc_random() --- trying hyperparameters = {'n_estimators': 500, 'max_depth': 7, 'learning_rate': 0.01, 'subsample': 0.5, 'min_child_weight': 8, 'nthread': 1, 'gamma': 2.0, 'colsample_bytree': 0.7999999999999999}\n",
      "Trace xgbc_random() --- starting new iteration --- time elapsed = 883.1119339466095 seconds\n",
      "Trace xgbc_random() --- trying hyperparameters = {'n_estimators': 1000, 'max_depth': 1, 'learning_rate': 0.5, 'subsample': 0.2, 'min_child_weight': 2, 'nthread': 1, 'gamma': 1.0, 'colsample_bytree': 0.7999999999999999}\n",
      "Trace xgbc_random() --- starting new iteration --- time elapsed = 891.3860116004944 seconds\n",
      "Trace xgbc_random() --- trying hyperparameters = {'n_estimators': 1000, 'max_depth': 4, 'learning_rate': 0.5, 'subsample': 0.1, 'min_child_weight': 12, 'nthread': 1, 'gamma': 1.0, 'colsample_bytree': 0.5}\n",
      "Trace xgbc_random() --- starting new iteration --- time elapsed = 896.8267059326172 seconds\n",
      "Trace xgbc_random() --- trying hyperparameters = {'n_estimators': 50, 'max_depth': 8, 'learning_rate': 0.01, 'subsample': 0.8, 'min_child_weight': 6, 'nthread': 1, 'gamma': 2.0, 'colsample_bytree': 0.9999999999999999}\n",
      "Trace xgbc_random() --- starting new iteration --- time elapsed = 899.5226192474365 seconds\n",
      "Trace xgbc_random() --- trying hyperparameters = {'n_estimators': 1000, 'max_depth': 3, 'learning_rate': 0.1, 'subsample': 1.0, 'min_child_weight': 14, 'nthread': 1, 'gamma': 1.5, 'colsample_bytree': 0.9999999999999999}\n",
      "Trace xgbc_random() --- starting new iteration --- time elapsed = 923.3686757087708 seconds\n",
      "Trace xgbc_random() --- trying hyperparameters = {'n_estimators': 50, 'max_depth': 7, 'learning_rate': 0.5, 'subsample': 0.5, 'min_child_weight': 6, 'nthread': 1, 'gamma': 2.0, 'colsample_bytree': 0.5}\n",
      "Trace xgbc_random() --- starting new iteration --- time elapsed = 924.4820568561554 seconds\n",
      "Trace xgbc_random() --- trying hyperparameters = {'n_estimators': 1000, 'max_depth': 7, 'learning_rate': 0.01, 'subsample': 0.7500000000000001, 'min_child_weight': 16, 'nthread': 1, 'gamma': 0.5, 'colsample_bytree': 0.7}\n"
     ]
    },
    {
     "name": "stdout",
     "output_type": "stream",
     "text": [
      "Trace xgbc_random() --- starting new iteration --- time elapsed = 948.9203016757965 seconds\n",
      "Trace xgbc_random() --- trying hyperparameters = {'n_estimators': 500, 'max_depth': 10, 'learning_rate': 0.001, 'subsample': 0.8, 'min_child_weight': 20, 'nthread': 1, 'gamma': 0.0, 'colsample_bytree': 0.9999999999999999}\n",
      "Trace xgbc_random() --- starting new iteration --- time elapsed = 969.0593948364258 seconds\n",
      "Trace xgbc_random() --- trying hyperparameters = {'n_estimators': 500, 'max_depth': 7, 'learning_rate': 0.001, 'subsample': 0.7500000000000001, 'min_child_weight': 3, 'nthread': 1, 'gamma': 2.5, 'colsample_bytree': 0.5}\n",
      "Trace xgbc_random() --- starting new iteration --- time elapsed = 987.144305229187 seconds\n",
      "Trace xgbc_random() --- trying hyperparameters = {'n_estimators': 100, 'max_depth': 6, 'learning_rate': 0.001, 'subsample': 0.35000000000000003, 'min_child_weight': 12, 'nthread': 1, 'gamma': 2.5, 'colsample_bytree': 0.8999999999999999}\n",
      "Trace xgbc_random() --- starting new iteration --- time elapsed = 989.9799082279205 seconds\n",
      "Trace xgbc_random() --- trying hyperparameters = {'n_estimators': 50, 'max_depth': 6, 'learning_rate': 0.1, 'subsample': 0.9000000000000001, 'min_child_weight': 6, 'nthread': 1, 'gamma': 1.5, 'colsample_bytree': 0.7}\n",
      "Trace xgbc_random() --- starting new iteration --- time elapsed = 991.5854253768921 seconds\n",
      "Trace xgbc_random() --- trying hyperparameters = {'n_estimators': 1000, 'max_depth': 5, 'learning_rate': 0.5, 'subsample': 0.15000000000000002, 'min_child_weight': 20, 'nthread': 1, 'gamma': 1.0, 'colsample_bytree': 0.7}\n",
      "Trace xgbc_random() --- starting new iteration --- time elapsed = 999.2852356433868 seconds\n",
      "Trace xgbc_random() --- trying hyperparameters = {'n_estimators': 500, 'max_depth': 4, 'learning_rate': 0.1, 'subsample': 0.35000000000000003, 'min_child_weight': 18, 'nthread': 1, 'gamma': 2.5, 'colsample_bytree': 0.7}\n",
      "Trace xgbc_random() --- starting new iteration --- time elapsed = 1006.3788964748383 seconds\n",
      "Trace xgbc_random() --- trying hyperparameters = {'n_estimators': 500, 'max_depth': 1, 'learning_rate': 0.01, 'subsample': 0.45, 'min_child_weight': 17, 'nthread': 1, 'gamma': 0.0, 'colsample_bytree': 0.5}\n",
      "Trace xgbc_random() --- starting new iteration --- time elapsed = 1010.9204041957855 seconds\n",
      "Trace xgbc_random() --- trying hyperparameters = {'n_estimators': 100, 'max_depth': 6, 'learning_rate': 0.5, 'subsample': 0.4, 'min_child_weight': 19, 'nthread': 1, 'gamma': 4.5, 'colsample_bytree': 0.7}\n",
      "Trace xgbc_random() --- starting new iteration --- time elapsed = 1012.5255725383759 seconds\n",
      "Trace xgbc_random() --- trying hyperparameters = {'n_estimators': 1000, 'max_depth': 1, 'learning_rate': 0.5, 'subsample': 0.8, 'min_child_weight': 7, 'nthread': 1, 'gamma': 2.0, 'colsample_bytree': 0.8999999999999999}\n",
      "Trace xgbc_random() --- starting new iteration --- time elapsed = 1025.542231798172 seconds\n",
      "Trace xgbc_random() --- trying hyperparameters = {'n_estimators': 50, 'max_depth': 9, 'learning_rate': 0.5, 'subsample': 0.8, 'min_child_weight': 18, 'nthread': 1, 'gamma': 0.5, 'colsample_bytree': 0.6}\n",
      "Trace xgbc_random() --- starting new iteration --- time elapsed = 1026.3974356651306 seconds\n",
      "Trace xgbc_random() --- trying hyperparameters = {'n_estimators': 500, 'max_depth': 6, 'learning_rate': 0.001, 'subsample': 0.05, 'min_child_weight': 12, 'nthread': 1, 'gamma': 1.5, 'colsample_bytree': 0.7}\n",
      "Trace xgbc_random() --- starting new iteration --- time elapsed = 1029.4938230514526 seconds\n",
      "Trace xgbc_random() --- trying hyperparameters = {'n_estimators': 50, 'max_depth': 1, 'learning_rate': 1.0, 'subsample': 0.2, 'min_child_weight': 11, 'nthread': 1, 'gamma': 4.5, 'colsample_bytree': 0.6}\n",
      "Trace xgbc_random() --- starting new iteration --- time elapsed = 1030.0039975643158 seconds\n",
      "Trace xgbc_random() --- trying hyperparameters = {'n_estimators': 50, 'max_depth': 9, 'learning_rate': 0.5, 'subsample': 0.1, 'min_child_weight': 17, 'nthread': 1, 'gamma': 1.5, 'colsample_bytree': 0.6}\n",
      "Trace xgbc_random() --- starting new iteration --- time elapsed = 1030.3975150585175 seconds\n",
      "Trace xgbc_random() --- trying hyperparameters = {'n_estimators': 50, 'max_depth': 5, 'learning_rate': 0.001, 'subsample': 0.7000000000000001, 'min_child_weight': 13, 'nthread': 1, 'gamma': 1.5, 'colsample_bytree': 0.5}\n",
      "Trace xgbc_random() --- starting new iteration --- time elapsed = 1031.5454943180084 seconds\n",
      "Trace xgbc_random() --- trying hyperparameters = {'n_estimators': 500, 'max_depth': 4, 'learning_rate': 1.0, 'subsample': 0.35000000000000003, 'min_child_weight': 14, 'nthread': 1, 'gamma': 4.0, 'colsample_bytree': 0.8999999999999999}\n",
      "Trace xgbc_random() --- starting new iteration --- time elapsed = 1038.1044611930847 seconds\n",
      "Trace xgbc_random() --- trying hyperparameters = {'n_estimators': 100, 'max_depth': 10, 'learning_rate': 1.0, 'subsample': 0.9500000000000001, 'min_child_weight': 18, 'nthread': 1, 'gamma': 4.0, 'colsample_bytree': 0.8999999999999999}\n",
      "Trace xgbc_random() --- starting new iteration --- time elapsed = 1039.7528240680695 seconds\n",
      "Trace xgbc_random() --- trying hyperparameters = {'n_estimators': 1000, 'max_depth': 3, 'learning_rate': 0.001, 'subsample': 0.25, 'min_child_weight': 13, 'nthread': 1, 'gamma': 3.0, 'colsample_bytree': 0.7}\n",
      "Trace xgbc_random() --- starting new iteration --- time elapsed = 1058.0347108840942 seconds\n",
      "Trace xgbc_random() --- trying hyperparameters = {'n_estimators': 50, 'max_depth': 10, 'learning_rate': 0.1, 'subsample': 0.7000000000000001, 'min_child_weight': 4, 'nthread': 1, 'gamma': 2.0, 'colsample_bytree': 0.9999999999999999}\n",
      "Trace xgbc_random() --- starting new iteration --- time elapsed = 1060.4849195480347 seconds\n",
      "Trace xgbc_random() --- trying hyperparameters = {'n_estimators': 50, 'max_depth': 2, 'learning_rate': 0.5, 'subsample': 0.7000000000000001, 'min_child_weight': 5, 'nthread': 1, 'gamma': 2.0, 'colsample_bytree': 0.5}\n",
      "Trace xgbc_random() --- starting new iteration --- time elapsed = 1061.1925964355469 seconds\n",
      "Trace xgbc_random() --- trying hyperparameters = {'n_estimators': 500, 'max_depth': 4, 'learning_rate': 0.001, 'subsample': 0.5, 'min_child_weight': 20, 'nthread': 1, 'gamma': 4.5, 'colsample_bytree': 0.6}\n",
      "Trace xgbc_random() --- starting new iteration --- time elapsed = 1071.5348410606384 seconds\n",
      "Trace xgbc_random() --- trying hyperparameters = {'n_estimators': 100, 'max_depth': 4, 'learning_rate': 0.01, 'subsample': 0.6500000000000001, 'min_child_weight': 17, 'nthread': 1, 'gamma': 5.0, 'colsample_bytree': 0.6}\n",
      "Trace xgbc_random() --- starting new iteration --- time elapsed = 1073.7853882312775 seconds\n",
      "Trace xgbc_random() --- trying hyperparameters = {'n_estimators': 500, 'max_depth': 9, 'learning_rate': 1.0, 'subsample': 0.7500000000000001, 'min_child_weight': 19, 'nthread': 1, 'gamma': 0.0, 'colsample_bytree': 0.8999999999999999}\n",
      "Trace xgbc_random() --- starting new iteration --- time elapsed = 1079.4736437797546 seconds\n",
      "Trace xgbc_random() --- trying hyperparameters = {'n_estimators': 50, 'max_depth': 6, 'learning_rate': 0.1, 'subsample': 0.4, 'min_child_weight': 13, 'nthread': 1, 'gamma': 0.5, 'colsample_bytree': 0.7}\n",
      "Trace xgbc_random() --- starting new iteration --- time elapsed = 1080.5356347560883 seconds\n",
      "Trace xgbc_random() --- trying hyperparameters = {'n_estimators': 1000, 'max_depth': 4, 'learning_rate': 0.001, 'subsample': 0.1, 'min_child_weight': 13, 'nthread': 1, 'gamma': 4.0, 'colsample_bytree': 0.9999999999999999}\n",
      "Trace xgbc_random() --- starting new iteration --- time elapsed = 1089.7728955745697 seconds\n",
      "Trace xgbc_random() --- trying hyperparameters = {'n_estimators': 500, 'max_depth': 4, 'learning_rate': 0.5, 'subsample': 0.05, 'min_child_weight': 6, 'nthread': 1, 'gamma': 3.0, 'colsample_bytree': 0.7999999999999999}\n",
      "Trace xgbc_random() --- starting new iteration --- time elapsed = 1092.9693694114685 seconds\n",
      "Trace xgbc_random() --- trying hyperparameters = {'n_estimators': 50, 'max_depth': 9, 'learning_rate': 0.5, 'subsample': 0.45, 'min_child_weight': 15, 'nthread': 1, 'gamma': 1.5, 'colsample_bytree': 0.7}\n",
      "Trace xgbc_random() --- starting new iteration --- time elapsed = 1093.7143507003784 seconds\n",
      "Trace xgbc_random() --- trying hyperparameters = {'n_estimators': 100, 'max_depth': 4, 'learning_rate': 0.01, 'subsample': 0.3, 'min_child_weight': 20, 'nthread': 1, 'gamma': 2.5, 'colsample_bytree': 0.7}\n"
     ]
    },
    {
     "name": "stdout",
     "output_type": "stream",
     "text": [
      "Trace xgbc_random() --- starting new iteration --- time elapsed = 1095.4224774837494 seconds\n",
      "Trace xgbc_random() --- trying hyperparameters = {'n_estimators': 100, 'max_depth': 2, 'learning_rate': 0.001, 'subsample': 0.05, 'min_child_weight': 11, 'nthread': 1, 'gamma': 4.0, 'colsample_bytree': 0.7}\n",
      "Trace xgbc_random() --- starting new iteration --- time elapsed = 1095.9332897663116 seconds\n",
      "Trace xgbc_random() --- trying hyperparameters = {'n_estimators': 100, 'max_depth': 3, 'learning_rate': 0.001, 'subsample': 0.1, 'min_child_weight': 5, 'nthread': 1, 'gamma': 0.0, 'colsample_bytree': 0.5}\n",
      "Trace xgbc_random() --- starting new iteration --- time elapsed = 1096.795089483261 seconds\n",
      "Trace xgbc_random() --- trying hyperparameters = {'n_estimators': 500, 'max_depth': 3, 'learning_rate': 0.5, 'subsample': 0.1, 'min_child_weight': 3, 'nthread': 1, 'gamma': 2.0, 'colsample_bytree': 0.5}\n",
      "Trace xgbc_random() --- starting new iteration --- time elapsed = 1100.3314020633698 seconds\n",
      "Trace xgbc_random() --- trying hyperparameters = {'n_estimators': 500, 'max_depth': 9, 'learning_rate': 0.001, 'subsample': 0.3, 'min_child_weight': 8, 'nthread': 1, 'gamma': 1.5, 'colsample_bytree': 0.8999999999999999}\n",
      "Trace xgbc_random() --- starting new iteration --- time elapsed = 1114.3999955654144 seconds\n",
      "Trace xgbc_random() --- trying hyperparameters = {'n_estimators': 100, 'max_depth': 5, 'learning_rate': 0.5, 'subsample': 0.8500000000000001, 'min_child_weight': 4, 'nthread': 1, 'gamma': 5.0, 'colsample_bytree': 0.7999999999999999}\n",
      "Trace xgbc_random() --- starting new iteration --- time elapsed = 1117.9920432567596 seconds\n",
      "Trace xgbc_random() --- trying hyperparameters = {'n_estimators': 500, 'max_depth': 8, 'learning_rate': 0.5, 'subsample': 0.45, 'min_child_weight': 20, 'nthread': 1, 'gamma': 4.5, 'colsample_bytree': 0.7}\n",
      "Trace xgbc_random() --- starting new iteration --- time elapsed = 1125.1539468765259 seconds\n",
      "Trace xgbc_random() --- trying hyperparameters = {'n_estimators': 50, 'max_depth': 2, 'learning_rate': 1.0, 'subsample': 0.2, 'min_child_weight': 10, 'nthread': 1, 'gamma': 1.0, 'colsample_bytree': 0.9999999999999999}\n",
      "Trace xgbc_random() --- starting new iteration --- time elapsed = 1125.744526386261 seconds\n",
      "Trace xgbc_random() --- trying hyperparameters = {'n_estimators': 1000, 'max_depth': 7, 'learning_rate': 0.01, 'subsample': 0.55, 'min_child_weight': 2, 'nthread': 1, 'gamma': 3.5, 'colsample_bytree': 0.7}\n",
      "Trace xgbc_random() --- starting new iteration --- time elapsed = 1164.2853984832764 seconds\n",
      "Trace xgbc_random() --- trying hyperparameters = {'n_estimators': 100, 'max_depth': 9, 'learning_rate': 0.1, 'subsample': 0.3, 'min_child_weight': 4, 'nthread': 1, 'gamma': 0.5, 'colsample_bytree': 0.6}\n",
      "Trace xgbc_random() --- starting new iteration --- time elapsed = 1166.4026007652283 seconds\n",
      "Trace xgbc_random() --- trying hyperparameters = {'n_estimators': 100, 'max_depth': 8, 'learning_rate': 1.0, 'subsample': 0.1, 'min_child_weight': 12, 'nthread': 1, 'gamma': 0.0, 'colsample_bytree': 0.8999999999999999}\n",
      "Trace xgbc_random() --- starting new iteration --- time elapsed = 1167.1331515312195 seconds\n",
      "Trace xgbc_random() --- trying hyperparameters = {'n_estimators': 500, 'max_depth': 1, 'learning_rate': 0.1, 'subsample': 0.4, 'min_child_weight': 9, 'nthread': 1, 'gamma': 3.5, 'colsample_bytree': 0.9999999999999999}\n",
      "Trace xgbc_random() --- starting new iteration --- time elapsed = 1173.8034336566925 seconds\n",
      "Trace xgbc_random() --- trying hyperparameters = {'n_estimators': 1000, 'max_depth': 10, 'learning_rate': 0.001, 'subsample': 0.2, 'min_child_weight': 9, 'nthread': 1, 'gamma': 2.0, 'colsample_bytree': 0.7}\n",
      "Trace xgbc_random() --- starting new iteration --- time elapsed = 1190.1000418663025 seconds\n",
      "Trace xgbc_random() --- trying hyperparameters = {'n_estimators': 100, 'max_depth': 6, 'learning_rate': 0.1, 'subsample': 0.6500000000000001, 'min_child_weight': 4, 'nthread': 1, 'gamma': 0.0, 'colsample_bytree': 0.7999999999999999}\n",
      "Trace xgbc_random() --- starting new iteration --- time elapsed = 1193.3103744983673 seconds\n",
      "Trace xgbc_random() --- trying hyperparameters = {'n_estimators': 1000, 'max_depth': 1, 'learning_rate': 0.5, 'subsample': 0.7000000000000001, 'min_child_weight': 15, 'nthread': 1, 'gamma': 3.5, 'colsample_bytree': 0.6}\n",
      "Trace xgbc_random() --- starting new iteration --- time elapsed = 1202.3319067955017 seconds\n",
      "Trace xgbc_random() --- trying hyperparameters = {'n_estimators': 100, 'max_depth': 1, 'learning_rate': 1.0, 'subsample': 0.6000000000000001, 'min_child_weight': 18, 'nthread': 1, 'gamma': 1.0, 'colsample_bytree': 0.7}\n",
      "Trace xgbc_random() --- starting new iteration --- time elapsed = 1203.4220535755157 seconds\n",
      "Trace xgbc_random() --- trying hyperparameters = {'n_estimators': 50, 'max_depth': 5, 'learning_rate': 0.001, 'subsample': 0.1, 'min_child_weight': 7, 'nthread': 1, 'gamma': 1.5, 'colsample_bytree': 0.7}\n",
      "Trace xgbc_random() --- starting new iteration --- time elapsed = 1203.9742827415466 seconds\n",
      "Trace xgbc_random() --- trying hyperparameters = {'n_estimators': 50, 'max_depth': 10, 'learning_rate': 0.01, 'subsample': 0.2, 'min_child_weight': 18, 'nthread': 1, 'gamma': 2.0, 'colsample_bytree': 0.9999999999999999}\n",
      "Trace xgbc_random() --- starting new iteration --- time elapsed = 1204.791743516922 seconds\n",
      "Trace xgbc_random() --- trying hyperparameters = {'n_estimators': 50, 'max_depth': 7, 'learning_rate': 0.5, 'subsample': 0.1, 'min_child_weight': 2, 'nthread': 1, 'gamma': 2.0, 'colsample_bytree': 0.6}\n",
      "Trace xgbc_random() --- starting new iteration --- time elapsed = 1205.3732810020447 seconds\n",
      "Trace xgbc_random() --- trying hyperparameters = {'n_estimators': 1000, 'max_depth': 8, 'learning_rate': 1.0, 'subsample': 0.6000000000000001, 'min_child_weight': 16, 'nthread': 1, 'gamma': 1.5, 'colsample_bytree': 0.9999999999999999}\n",
      "Trace xgbc_random() --- starting new iteration --- time elapsed = 1219.7778635025024 seconds\n",
      "Trace xgbc_random() --- trying hyperparameters = {'n_estimators': 100, 'max_depth': 3, 'learning_rate': 0.001, 'subsample': 0.3, 'min_child_weight': 1, 'nthread': 1, 'gamma': 5.0, 'colsample_bytree': 0.6}\n",
      "Trace xgbc_random() --- starting new iteration --- time elapsed = 1222.00834441185 seconds\n",
      "Trace xgbc_random() --- trying hyperparameters = {'n_estimators': 50, 'max_depth': 6, 'learning_rate': 0.01, 'subsample': 0.05, 'min_child_weight': 4, 'nthread': 1, 'gamma': 5.0, 'colsample_bytree': 0.7999999999999999}\n",
      "Trace xgbc_random() --- starting new iteration --- time elapsed = 1222.6326937675476 seconds\n",
      "Trace xgbc_random() --- trying hyperparameters = {'n_estimators': 1000, 'max_depth': 1, 'learning_rate': 0.01, 'subsample': 0.1, 'min_child_weight': 2, 'nthread': 1, 'gamma': 1.0, 'colsample_bytree': 0.6}\n",
      "Trace xgbc_random() --- starting new iteration --- time elapsed = 1229.30535197258 seconds\n",
      "Trace xgbc_random() --- trying hyperparameters = {'n_estimators': 50, 'max_depth': 10, 'learning_rate': 0.5, 'subsample': 0.15000000000000002, 'min_child_weight': 19, 'nthread': 1, 'gamma': 5.0, 'colsample_bytree': 0.9999999999999999}\n",
      "Trace xgbc_random() --- starting new iteration --- time elapsed = 1229.8612580299377 seconds\n",
      "Trace xgbc_random() --- trying hyperparameters = {'n_estimators': 50, 'max_depth': 10, 'learning_rate': 0.01, 'subsample': 0.7000000000000001, 'min_child_weight': 4, 'nthread': 1, 'gamma': 3.0, 'colsample_bytree': 0.8999999999999999}\n",
      "Trace xgbc_random() --- starting new iteration --- time elapsed = 1232.3273327350616 seconds\n",
      "Trace xgbc_random() --- trying hyperparameters = {'n_estimators': 50, 'max_depth': 6, 'learning_rate': 0.1, 'subsample': 0.3, 'min_child_weight': 9, 'nthread': 1, 'gamma': 3.5, 'colsample_bytree': 0.5}\n",
      "Trace xgbc_random() --- starting new iteration --- time elapsed = 1233.4276175498962 seconds\n",
      "Trace xgbc_random() --- trying hyperparameters = {'n_estimators': 1000, 'max_depth': 6, 'learning_rate': 0.5, 'subsample': 0.35000000000000003, 'min_child_weight': 3, 'nthread': 1, 'gamma': 1.5, 'colsample_bytree': 0.6}\n",
      "Trace xgbc_random() --- starting new iteration --- time elapsed = 1250.1761333942413 seconds\n",
      "Trace xgbc_random() --- trying hyperparameters = {'n_estimators': 1000, 'max_depth': 10, 'learning_rate': 0.001, 'subsample': 0.7000000000000001, 'min_child_weight': 13, 'nthread': 1, 'gamma': 1.5, 'colsample_bytree': 0.6}\n"
     ]
    },
    {
     "name": "stdout",
     "output_type": "stream",
     "text": [
      "Trace xgbc_random() --- starting new iteration --- time elapsed = 1276.982168674469 seconds\n",
      "Trace xgbc_random() --- trying hyperparameters = {'n_estimators': 100, 'max_depth': 6, 'learning_rate': 0.1, 'subsample': 0.1, 'min_child_weight': 20, 'nthread': 1, 'gamma': 2.5, 'colsample_bytree': 0.9999999999999999}\n",
      "Trace xgbc_random() --- starting new iteration --- time elapsed = 1277.7346484661102 seconds\n",
      "Trace xgbc_random() --- trying hyperparameters = {'n_estimators': 100, 'max_depth': 7, 'learning_rate': 0.01, 'subsample': 0.35000000000000003, 'min_child_weight': 7, 'nthread': 1, 'gamma': 3.0, 'colsample_bytree': 0.8999999999999999}\n",
      "Trace xgbc_random() --- starting new iteration --- time elapsed = 1280.9551742076874 seconds\n",
      "Trace xgbc_random() --- trying hyperparameters = {'n_estimators': 50, 'max_depth': 9, 'learning_rate': 0.5, 'subsample': 0.35000000000000003, 'min_child_weight': 10, 'nthread': 1, 'gamma': 0.0, 'colsample_bytree': 0.7}\n",
      "Trace xgbc_random() --- starting new iteration --- time elapsed = 1281.6611614227295 seconds\n",
      "Trace xgbc_random() --- trying hyperparameters = {'n_estimators': 500, 'max_depth': 8, 'learning_rate': 0.001, 'subsample': 0.6000000000000001, 'min_child_weight': 8, 'nthread': 1, 'gamma': 1.5, 'colsample_bytree': 0.6}\n",
      "Trace xgbc_random() --- starting new iteration --- time elapsed = 1297.1383063793182 seconds\n",
      "Trace xgbc_random() --- trying hyperparameters = {'n_estimators': 500, 'max_depth': 4, 'learning_rate': 0.5, 'subsample': 0.05, 'min_child_weight': 16, 'nthread': 1, 'gamma': 5.0, 'colsample_bytree': 0.7}\n",
      "Trace xgbc_random() --- starting new iteration --- time elapsed = 1300.2349507808685 seconds\n",
      "Trace xgbc_random() --- trying hyperparameters = {'n_estimators': 500, 'max_depth': 7, 'learning_rate': 1.0, 'subsample': 0.45, 'min_child_weight': 18, 'nthread': 1, 'gamma': 4.5, 'colsample_bytree': 0.8999999999999999}\n",
      "Trace xgbc_random() --- starting new iteration --- time elapsed = 1307.6071736812592 seconds\n",
      "Trace xgbc_random() --- trying hyperparameters = {'n_estimators': 1000, 'max_depth': 1, 'learning_rate': 0.1, 'subsample': 0.15000000000000002, 'min_child_weight': 18, 'nthread': 1, 'gamma': 2.5, 'colsample_bytree': 0.7999999999999999}\n",
      "Trace xgbc_random() --- starting new iteration --- time elapsed = 1314.8719849586487 seconds\n",
      "Trace xgbc_random() --- trying hyperparameters = {'n_estimators': 500, 'max_depth': 5, 'learning_rate': 0.1, 'subsample': 0.35000000000000003, 'min_child_weight': 9, 'nthread': 1, 'gamma': 2.5, 'colsample_bytree': 0.5}\n",
      "Trace xgbc_random() --- starting new iteration --- time elapsed = 1321.1036112308502 seconds\n",
      "Trace xgbc_random() --- trying hyperparameters = {'n_estimators': 500, 'max_depth': 5, 'learning_rate': 0.1, 'subsample': 0.8, 'min_child_weight': 6, 'nthread': 1, 'gamma': 4.5, 'colsample_bytree': 0.7999999999999999}\n",
      "Trace xgbc_random() --- starting new iteration --- time elapsed = 1338.2077388763428 seconds\n",
      "Trace xgbc_random() --- trying hyperparameters = {'n_estimators': 50, 'max_depth': 1, 'learning_rate': 0.5, 'subsample': 0.2, 'min_child_weight': 1, 'nthread': 1, 'gamma': 0.5, 'colsample_bytree': 0.7}\n",
      "Trace xgbc_random() --- starting new iteration --- time elapsed = 1338.6334879398346 seconds\n",
      "Trace xgbc_random() --- trying hyperparameters = {'n_estimators': 50, 'max_depth': 5, 'learning_rate': 0.001, 'subsample': 0.9000000000000001, 'min_child_weight': 6, 'nthread': 1, 'gamma': 2.5, 'colsample_bytree': 0.8999999999999999}\n",
      "Trace xgbc_random() --- starting new iteration --- time elapsed = 1340.7753896713257 seconds\n",
      "Trace xgbc_random() --- trying hyperparameters = {'n_estimators': 1000, 'max_depth': 3, 'learning_rate': 1.0, 'subsample': 0.15000000000000002, 'min_child_weight': 15, 'nthread': 1, 'gamma': 4.5, 'colsample_bytree': 0.7999999999999999}\n",
      "Trace xgbc_random() --- starting new iteration --- time elapsed = 1348.1528174877167 seconds\n",
      "Trace xgbc_random() --- trying hyperparameters = {'n_estimators': 1000, 'max_depth': 2, 'learning_rate': 0.1, 'subsample': 0.1, 'min_child_weight': 7, 'nthread': 1, 'gamma': 0.5, 'colsample_bytree': 0.7999999999999999}\n",
      "Trace xgbc_random() --- starting new iteration --- time elapsed = 1355.684101819992 seconds\n",
      "Trace xgbc_random() --- trying hyperparameters = {'n_estimators': 100, 'max_depth': 7, 'learning_rate': 0.5, 'subsample': 1.0, 'min_child_weight': 3, 'nthread': 1, 'gamma': 2.5, 'colsample_bytree': 0.9999999999999999}\n",
      "Trace xgbc_random() --- starting new iteration --- time elapsed = 1360.600821018219 seconds\n",
      "Trace xgbc_random() --- trying hyperparameters = {'n_estimators': 1000, 'max_depth': 8, 'learning_rate': 0.1, 'subsample': 0.6500000000000001, 'min_child_weight': 2, 'nthread': 1, 'gamma': 0.0, 'colsample_bytree': 0.7999999999999999}\n",
      "Trace xgbc_random() --- best_score updated to 0.96\n",
      "Trace xgbc_random() --- best_kwargs updated to {'n_estimators': 1000, 'max_depth': 8, 'learning_rate': 0.1, 'subsample': 0.6500000000000001, 'min_child_weight': 2, 'nthread': 1, 'gamma': 0.0, 'colsample_bytree': 0.7999999999999999}\n",
      "Trace xgbc_random() --- starting new iteration --- time elapsed = 1377.8617243766785 seconds\n",
      "Trace xgbc_random() --- trying hyperparameters = {'n_estimators': 100, 'max_depth': 6, 'learning_rate': 0.5, 'subsample': 1.0, 'min_child_weight': 8, 'nthread': 1, 'gamma': 1.0, 'colsample_bytree': 0.6}\n",
      "Trace xgbc_random() --- starting new iteration --- time elapsed = 1379.9338240623474 seconds\n",
      "Trace xgbc_random() --- trying hyperparameters = {'n_estimators': 100, 'max_depth': 10, 'learning_rate': 0.01, 'subsample': 0.6500000000000001, 'min_child_weight': 2, 'nthread': 1, 'gamma': 1.5, 'colsample_bytree': 0.8999999999999999}\n",
      "Trace xgbc_random() --- starting new iteration --- time elapsed = 1386.0557646751404 seconds\n",
      "Trace xgbc_random() --- trying hyperparameters = {'n_estimators': 1000, 'max_depth': 7, 'learning_rate': 1.0, 'subsample': 0.6000000000000001, 'min_child_weight': 9, 'nthread': 1, 'gamma': 0.0, 'colsample_bytree': 0.9999999999999999}\n",
      "Trace xgbc_random() --- starting new iteration --- time elapsed = 1401.8528435230255 seconds\n",
      "Trace xgbc_random() --- trying hyperparameters = {'n_estimators': 50, 'max_depth': 3, 'learning_rate': 1.0, 'subsample': 0.1, 'min_child_weight': 13, 'nthread': 1, 'gamma': 1.0, 'colsample_bytree': 0.9999999999999999}\n",
      "Trace xgbc_random() --- starting new iteration --- time elapsed = 1402.238156080246 seconds\n",
      "Trace xgbc_random() --- trying hyperparameters = {'n_estimators': 50, 'max_depth': 2, 'learning_rate': 0.01, 'subsample': 0.35000000000000003, 'min_child_weight': 19, 'nthread': 1, 'gamma': 4.0, 'colsample_bytree': 0.5}\n",
      "Trace xgbc_random() --- starting new iteration --- time elapsed = 1402.849648475647 seconds\n",
      "Trace xgbc_random() --- trying hyperparameters = {'n_estimators': 50, 'max_depth': 6, 'learning_rate': 0.001, 'subsample': 0.7500000000000001, 'min_child_weight': 16, 'nthread': 1, 'gamma': 0.0, 'colsample_bytree': 0.9999999999999999}\n",
      "Trace xgbc_random() --- starting new iteration --- time elapsed = 1404.7457671165466 seconds\n",
      "Trace xgbc_random() --- trying hyperparameters = {'n_estimators': 50, 'max_depth': 8, 'learning_rate': 0.1, 'subsample': 0.45, 'min_child_weight': 17, 'nthread': 1, 'gamma': 4.0, 'colsample_bytree': 0.7}\n",
      "Trace xgbc_random() --- starting new iteration --- time elapsed = 1405.9938139915466 seconds\n",
      "Trace xgbc_random() --- trying hyperparameters = {'n_estimators': 50, 'max_depth': 8, 'learning_rate': 0.01, 'subsample': 0.7000000000000001, 'min_child_weight': 9, 'nthread': 1, 'gamma': 2.0, 'colsample_bytree': 0.8999999999999999}\n",
      "Trace xgbc_random() --- starting new iteration --- time elapsed = 1408.0547008514404 seconds\n",
      "Trace xgbc_random() --- trying hyperparameters = {'n_estimators': 1000, 'max_depth': 1, 'learning_rate': 1.0, 'subsample': 0.6500000000000001, 'min_child_weight': 1, 'nthread': 1, 'gamma': 2.0, 'colsample_bytree': 0.7999999999999999}\n",
      "Trace xgbc_random() --- starting new iteration --- time elapsed = 1420.6873333454132 seconds\n",
      "Trace xgbc_random() --- trying hyperparameters = {'n_estimators': 1000, 'max_depth': 10, 'learning_rate': 0.1, 'subsample': 0.5, 'min_child_weight': 17, 'nthread': 1, 'gamma': 1.5, 'colsample_bytree': 0.9999999999999999}\n",
      "Trace xgbc_random() --- starting new iteration --- time elapsed = 1437.6873526573181 seconds\n",
      "Trace xgbc_random() --- trying hyperparameters = {'n_estimators': 100, 'max_depth': 2, 'learning_rate': 1.0, 'subsample': 1.0, 'min_child_weight': 15, 'nthread': 1, 'gamma': 3.5, 'colsample_bytree': 0.7999999999999999}\n"
     ]
    },
    {
     "name": "stdout",
     "output_type": "stream",
     "text": [
      "Trace xgbc_random() --- starting new iteration --- time elapsed = 1438.8920454978943 seconds\n",
      "Trace xgbc_random() --- trying hyperparameters = {'n_estimators': 100, 'max_depth': 9, 'learning_rate': 0.1, 'subsample': 0.7000000000000001, 'min_child_weight': 12, 'nthread': 1, 'gamma': 2.0, 'colsample_bytree': 0.6}\n",
      "Trace xgbc_random() --- starting new iteration --- time elapsed = 1440.9807150363922 seconds\n",
      "Trace xgbc_random() --- trying hyperparameters = {'n_estimators': 50, 'max_depth': 7, 'learning_rate': 0.5, 'subsample': 0.7500000000000001, 'min_child_weight': 12, 'nthread': 1, 'gamma': 1.5, 'colsample_bytree': 0.7999999999999999}\n",
      "Trace xgbc_random() --- starting new iteration --- time elapsed = 1441.9218521118164 seconds\n",
      "Trace xgbc_random() --- trying hyperparameters = {'n_estimators': 1000, 'max_depth': 1, 'learning_rate': 0.001, 'subsample': 0.1, 'min_child_weight': 3, 'nthread': 1, 'gamma': 0.5, 'colsample_bytree': 0.8999999999999999}\n",
      "Trace xgbc_random() --- starting new iteration --- time elapsed = 1449.9888350963593 seconds\n",
      "Trace xgbc_random() --- trying hyperparameters = {'n_estimators': 100, 'max_depth': 9, 'learning_rate': 0.001, 'subsample': 0.7000000000000001, 'min_child_weight': 1, 'nthread': 1, 'gamma': 4.0, 'colsample_bytree': 0.7}\n",
      "Trace xgbc_random() --- starting new iteration --- time elapsed = 1454.2363634109497 seconds\n",
      "Trace xgbc_random() --- trying hyperparameters = {'n_estimators': 1000, 'max_depth': 10, 'learning_rate': 0.1, 'subsample': 0.6000000000000001, 'min_child_weight': 11, 'nthread': 1, 'gamma': 0.0, 'colsample_bytree': 0.8999999999999999}\n",
      "Trace xgbc_random() --- starting new iteration --- time elapsed = 1468.5182938575745 seconds\n",
      "Trace xgbc_random() --- trying hyperparameters = {'n_estimators': 500, 'max_depth': 8, 'learning_rate': 0.1, 'subsample': 0.3, 'min_child_weight': 20, 'nthread': 1, 'gamma': 0.5, 'colsample_bytree': 0.5}\n",
      "Trace xgbc_random() --- starting new iteration --- time elapsed = 1472.5063936710358 seconds\n",
      "Trace xgbc_random() --- trying hyperparameters = {'n_estimators': 1000, 'max_depth': 1, 'learning_rate': 0.5, 'subsample': 0.25, 'min_child_weight': 17, 'nthread': 1, 'gamma': 2.0, 'colsample_bytree': 0.7999999999999999}\n",
      "Trace xgbc_random() --- starting new iteration --- time elapsed = 1481.5214049816132 seconds\n",
      "Trace xgbc_random() --- trying hyperparameters = {'n_estimators': 500, 'max_depth': 5, 'learning_rate': 0.01, 'subsample': 0.35000000000000003, 'min_child_weight': 5, 'nthread': 1, 'gamma': 1.0, 'colsample_bytree': 0.5}\n",
      "Trace xgbc_random() --- starting new iteration --- time elapsed = 1491.7548413276672 seconds\n",
      "Trace xgbc_random() --- trying hyperparameters = {'n_estimators': 100, 'max_depth': 3, 'learning_rate': 1.0, 'subsample': 0.25, 'min_child_weight': 16, 'nthread': 1, 'gamma': 5.0, 'colsample_bytree': 0.6}\n",
      "Trace xgbc_random() --- starting new iteration --- time elapsed = 1492.644830942154 seconds\n",
      "Trace xgbc_random() --- trying hyperparameters = {'n_estimators': 500, 'max_depth': 7, 'learning_rate': 0.01, 'subsample': 0.7500000000000001, 'min_child_weight': 3, 'nthread': 1, 'gamma': 2.5, 'colsample_bytree': 0.6}\n",
      "Trace xgbc_random() --- starting new iteration --- time elapsed = 1509.3229780197144 seconds\n",
      "Trace xgbc_random() --- trying hyperparameters = {'n_estimators': 100, 'max_depth': 10, 'learning_rate': 0.5, 'subsample': 0.7000000000000001, 'min_child_weight': 16, 'nthread': 1, 'gamma': 3.0, 'colsample_bytree': 0.5}\n",
      "Trace xgbc_random() --- starting new iteration --- time elapsed = 1510.679780960083 seconds\n",
      "Trace xgbc_random() --- trying hyperparameters = {'n_estimators': 1000, 'max_depth': 5, 'learning_rate': 0.01, 'subsample': 0.45, 'min_child_weight': 10, 'nthread': 1, 'gamma': 2.0, 'colsample_bytree': 0.8999999999999999}\n",
      "Trace xgbc_random() --- starting new iteration --- time elapsed = 1537.1768355369568 seconds\n",
      "Trace xgbc_random() --- trying hyperparameters = {'n_estimators': 50, 'max_depth': 3, 'learning_rate': 1.0, 'subsample': 0.7000000000000001, 'min_child_weight': 6, 'nthread': 1, 'gamma': 3.5, 'colsample_bytree': 0.7999999999999999}\n",
      "Trace xgbc_random() --- starting new iteration --- time elapsed = 1538.359537601471 seconds\n",
      "Trace xgbc_random() --- trying hyperparameters = {'n_estimators': 50, 'max_depth': 2, 'learning_rate': 0.001, 'subsample': 0.3, 'min_child_weight': 14, 'nthread': 1, 'gamma': 2.5, 'colsample_bytree': 0.6}\n",
      "Trace xgbc_random() --- starting new iteration --- time elapsed = 1539.0852618217468 seconds\n",
      "Trace xgbc_random() --- trying hyperparameters = {'n_estimators': 50, 'max_depth': 3, 'learning_rate': 0.1, 'subsample': 0.1, 'min_child_weight': 8, 'nthread': 1, 'gamma': 3.0, 'colsample_bytree': 0.8999999999999999}\n",
      "Trace xgbc_random() --- starting new iteration --- time elapsed = 1539.6473398208618 seconds\n",
      "Trace xgbc_random() --- trying hyperparameters = {'n_estimators': 100, 'max_depth': 2, 'learning_rate': 1.0, 'subsample': 0.1, 'min_child_weight': 5, 'nthread': 1, 'gamma': 0.5, 'colsample_bytree': 0.7}\n",
      "Trace xgbc_random() --- starting new iteration --- time elapsed = 1540.263557434082 seconds\n",
      "Trace xgbc_random() --- trying hyperparameters = {'n_estimators': 100, 'max_depth': 3, 'learning_rate': 0.5, 'subsample': 1.0, 'min_child_weight': 17, 'nthread': 1, 'gamma': 0.5, 'colsample_bytree': 0.9999999999999999}\n",
      "Trace xgbc_random() --- starting new iteration --- time elapsed = 1541.5470855236053 seconds\n",
      "Trace xgbc_random() --- trying hyperparameters = {'n_estimators': 500, 'max_depth': 10, 'learning_rate': 1.0, 'subsample': 0.35000000000000003, 'min_child_weight': 7, 'nthread': 1, 'gamma': 4.0, 'colsample_bytree': 0.7}\n",
      "Trace xgbc_random() --- starting new iteration --- time elapsed = 1547.9218230247498 seconds\n",
      "Trace xgbc_random() --- trying hyperparameters = {'n_estimators': 50, 'max_depth': 4, 'learning_rate': 1.0, 'subsample': 0.7500000000000001, 'min_child_weight': 1, 'nthread': 1, 'gamma': 1.5, 'colsample_bytree': 0.8999999999999999}\n",
      "Trace xgbc_random() --- starting new iteration --- time elapsed = 1549.5530366897583 seconds\n",
      "Trace xgbc_random() --- trying hyperparameters = {'n_estimators': 500, 'max_depth': 10, 'learning_rate': 0.1, 'subsample': 0.05, 'min_child_weight': 17, 'nthread': 1, 'gamma': 2.5, 'colsample_bytree': 0.6}\n",
      "Trace xgbc_random() --- starting new iteration --- time elapsed = 1552.5385608673096 seconds\n",
      "Trace xgbc_random() --- trying hyperparameters = {'n_estimators': 500, 'max_depth': 3, 'learning_rate': 0.01, 'subsample': 0.7000000000000001, 'min_child_weight': 14, 'nthread': 1, 'gamma': 3.0, 'colsample_bytree': 0.6}\n",
      "Trace xgbc_random() --- starting new iteration --- time elapsed = 1562.7697541713715 seconds\n",
      "Trace xgbc_random() --- trying hyperparameters = {'n_estimators': 500, 'max_depth': 5, 'learning_rate': 0.001, 'subsample': 0.7500000000000001, 'min_child_weight': 2, 'nthread': 1, 'gamma': 1.5, 'colsample_bytree': 0.9999999999999999}\n",
      "Trace xgbc_random() --- starting new iteration --- time elapsed = 1586.7869086265564 seconds\n",
      "Trace xgbc_random() --- trying hyperparameters = {'n_estimators': 100, 'max_depth': 9, 'learning_rate': 0.001, 'subsample': 0.3, 'min_child_weight': 7, 'nthread': 1, 'gamma': 1.0, 'colsample_bytree': 0.5}\n",
      "Trace xgbc_random() --- starting new iteration --- time elapsed = 1588.422286272049 seconds\n",
      "Trace xgbc_random() --- trying hyperparameters = {'n_estimators': 1000, 'max_depth': 6, 'learning_rate': 1.0, 'subsample': 0.6500000000000001, 'min_child_weight': 6, 'nthread': 1, 'gamma': 5.0, 'colsample_bytree': 0.5}\n",
      "Trace xgbc_random() --- starting new iteration --- time elapsed = 1605.9157738685608 seconds\n",
      "Trace xgbc_random() --- trying hyperparameters = {'n_estimators': 100, 'max_depth': 2, 'learning_rate': 0.01, 'subsample': 0.6500000000000001, 'min_child_weight': 10, 'nthread': 1, 'gamma': 5.0, 'colsample_bytree': 0.6}\n",
      "Trace xgbc_random() --- starting new iteration --- time elapsed = 1607.5352363586426 seconds\n",
      "Trace xgbc_random() --- trying hyperparameters = {'n_estimators': 50, 'max_depth': 3, 'learning_rate': 0.1, 'subsample': 0.5, 'min_child_weight': 14, 'nthread': 1, 'gamma': 3.0, 'colsample_bytree': 0.6}\n",
      "Trace xgbc_random() --- starting new iteration --- time elapsed = 1608.6346263885498 seconds\n",
      "Trace xgbc_random() --- trying hyperparameters = {'n_estimators': 1000, 'max_depth': 3, 'learning_rate': 1.0, 'subsample': 0.7500000000000001, 'min_child_weight': 12, 'nthread': 1, 'gamma': 3.5, 'colsample_bytree': 0.6}\n"
     ]
    },
    {
     "name": "stdout",
     "output_type": "stream",
     "text": [
      "Trace xgbc_random() --- starting new iteration --- time elapsed = 1621.7562243938446 seconds\n",
      "Trace xgbc_random() --- trying hyperparameters = {'n_estimators': 50, 'max_depth': 4, 'learning_rate': 1.0, 'subsample': 0.2, 'min_child_weight': 8, 'nthread': 1, 'gamma': 4.0, 'colsample_bytree': 0.8999999999999999}\n",
      "Trace xgbc_random() --- starting new iteration --- time elapsed = 1622.412754535675 seconds\n",
      "Trace xgbc_random() --- trying hyperparameters = {'n_estimators': 1000, 'max_depth': 2, 'learning_rate': 0.01, 'subsample': 0.25, 'min_child_weight': 10, 'nthread': 1, 'gamma': 5.0, 'colsample_bytree': 0.8999999999999999}\n",
      "Trace xgbc_random() --- starting new iteration --- time elapsed = 1639.17982339859 seconds\n",
      "Trace xgbc_random() --- trying hyperparameters = {'n_estimators': 1000, 'max_depth': 10, 'learning_rate': 0.01, 'subsample': 0.45, 'min_child_weight': 11, 'nthread': 1, 'gamma': 4.0, 'colsample_bytree': 0.7999999999999999}\n",
      "Trace xgbc_random() --- starting new iteration --- time elapsed = 1664.53134059906 seconds\n",
      "Trace xgbc_random() --- trying hyperparameters = {'n_estimators': 100, 'max_depth': 5, 'learning_rate': 1.0, 'subsample': 0.6000000000000001, 'min_child_weight': 17, 'nthread': 1, 'gamma': 2.5, 'colsample_bytree': 0.8999999999999999}\n",
      "Trace xgbc_random() --- starting new iteration --- time elapsed = 1666.2015488147736 seconds\n",
      "Trace xgbc_random() --- trying hyperparameters = {'n_estimators': 100, 'max_depth': 10, 'learning_rate': 0.001, 'subsample': 0.45, 'min_child_weight': 19, 'nthread': 1, 'gamma': 1.5, 'colsample_bytree': 0.7999999999999999}\n",
      "Trace xgbc_random() --- starting new iteration --- time elapsed = 1668.9535112380981 seconds\n",
      "Trace xgbc_random() --- trying hyperparameters = {'n_estimators': 50, 'max_depth': 2, 'learning_rate': 0.1, 'subsample': 0.9000000000000001, 'min_child_weight': 1, 'nthread': 1, 'gamma': 3.0, 'colsample_bytree': 0.7999999999999999}\n",
      "Trace xgbc_random() --- starting new iteration --- time elapsed = 1669.747831106186 seconds\n",
      "Trace xgbc_random() --- trying hyperparameters = {'n_estimators': 500, 'max_depth': 8, 'learning_rate': 0.001, 'subsample': 0.9500000000000001, 'min_child_weight': 3, 'nthread': 1, 'gamma': 1.5, 'colsample_bytree': 0.6}\n",
      "Trace xgbc_random() --- starting new iteration --- time elapsed = 1687.290610551834 seconds\n",
      "Trace xgbc_random() --- trying hyperparameters = {'n_estimators': 50, 'max_depth': 10, 'learning_rate': 1.0, 'subsample': 0.5, 'min_child_weight': 15, 'nthread': 1, 'gamma': 4.5, 'colsample_bytree': 0.6}\n",
      "Trace xgbc_random() --- starting new iteration --- time elapsed = 1688.1300210952759 seconds\n",
      "Trace xgbc_random() --- trying hyperparameters = {'n_estimators': 50, 'max_depth': 10, 'learning_rate': 0.5, 'subsample': 0.35000000000000003, 'min_child_weight': 8, 'nthread': 1, 'gamma': 5.0, 'colsample_bytree': 0.9999999999999999}\n",
      "Trace xgbc_random() --- starting new iteration --- time elapsed = 1689.7941691875458 seconds\n",
      "Trace xgbc_random() --- trying hyperparameters = {'n_estimators': 50, 'max_depth': 8, 'learning_rate': 0.5, 'subsample': 0.8500000000000001, 'min_child_weight': 8, 'nthread': 1, 'gamma': 3.0, 'colsample_bytree': 0.8999999999999999}\n",
      "Trace xgbc_random() --- starting new iteration --- time elapsed = 1691.5492496490479 seconds\n",
      "Trace xgbc_random() --- trying hyperparameters = {'n_estimators': 100, 'max_depth': 4, 'learning_rate': 0.01, 'subsample': 0.6500000000000001, 'min_child_weight': 4, 'nthread': 1, 'gamma': 4.0, 'colsample_bytree': 0.7999999999999999}\n",
      "Trace xgbc_random() --- starting new iteration --- time elapsed = 1695.6947705745697 seconds\n",
      "Trace xgbc_random() --- trying hyperparameters = {'n_estimators': 100, 'max_depth': 9, 'learning_rate': 0.01, 'subsample': 0.6000000000000001, 'min_child_weight': 3, 'nthread': 1, 'gamma': 4.0, 'colsample_bytree': 0.6}\n",
      "Trace xgbc_random() --- starting new iteration --- time elapsed = 1699.8685364723206 seconds\n",
      "Trace xgbc_random() --- trying hyperparameters = {'n_estimators': 50, 'max_depth': 3, 'learning_rate': 0.1, 'subsample': 0.25, 'min_child_weight': 20, 'nthread': 1, 'gamma': 3.5, 'colsample_bytree': 0.7}\n",
      "Trace xgbc_random() --- starting new iteration --- time elapsed = 1700.5228688716888 seconds\n",
      "Trace xgbc_random() --- trying hyperparameters = {'n_estimators': 50, 'max_depth': 1, 'learning_rate': 0.5, 'subsample': 0.45, 'min_child_weight': 6, 'nthread': 1, 'gamma': 4.5, 'colsample_bytree': 0.9999999999999999}\n",
      "Trace xgbc_random() --- starting new iteration --- time elapsed = 1701.3574299812317 seconds\n",
      "Trace xgbc_random() --- trying hyperparameters = {'n_estimators': 1000, 'max_depth': 5, 'learning_rate': 0.01, 'subsample': 0.55, 'min_child_weight': 3, 'nthread': 1, 'gamma': 4.5, 'colsample_bytree': 0.7999999999999999}\n",
      "Trace xgbc_random() --- starting new iteration --- time elapsed = 1743.0861644744873 seconds\n",
      "Trace xgbc_random() --- trying hyperparameters = {'n_estimators': 1000, 'max_depth': 4, 'learning_rate': 0.01, 'subsample': 0.5, 'min_child_weight': 19, 'nthread': 1, 'gamma': 4.0, 'colsample_bytree': 0.7}\n",
      "Trace xgbc_random() --- starting new iteration --- time elapsed = 1765.2283380031586 seconds\n",
      "Trace xgbc_random() --- trying hyperparameters = {'n_estimators': 1000, 'max_depth': 9, 'learning_rate': 0.001, 'subsample': 0.45, 'min_child_weight': 16, 'nthread': 1, 'gamma': 3.5, 'colsample_bytree': 0.8999999999999999}\n",
      "Trace xgbc_random() --- starting new iteration --- time elapsed = 1795.3570611476898 seconds\n",
      "Trace xgbc_random() --- trying hyperparameters = {'n_estimators': 1000, 'max_depth': 9, 'learning_rate': 0.5, 'subsample': 0.8, 'min_child_weight': 7, 'nthread': 1, 'gamma': 4.5, 'colsample_bytree': 0.8999999999999999}\n",
      "Trace xgbc_random() --- starting new iteration --- time elapsed = 1832.0836954116821 seconds\n",
      "Trace xgbc_random() --- trying hyperparameters = {'n_estimators': 50, 'max_depth': 1, 'learning_rate': 0.001, 'subsample': 0.05, 'min_child_weight': 19, 'nthread': 1, 'gamma': 2.5, 'colsample_bytree': 0.6}\n",
      "Trace xgbc_random() --- starting new iteration --- time elapsed = 1832.3295001983643 seconds\n",
      "Trace xgbc_random() --- trying hyperparameters = {'n_estimators': 100, 'max_depth': 9, 'learning_rate': 0.1, 'subsample': 0.2, 'min_child_weight': 12, 'nthread': 1, 'gamma': 1.0, 'colsample_bytree': 0.7999999999999999}\n",
      "Trace xgbc_random() --- starting new iteration --- time elapsed = 1833.7714939117432 seconds\n",
      "Trace xgbc_random() --- trying hyperparameters = {'n_estimators': 100, 'max_depth': 4, 'learning_rate': 0.5, 'subsample': 0.4, 'min_child_weight': 6, 'nthread': 1, 'gamma': 3.5, 'colsample_bytree': 0.9999999999999999}\n",
      "Trace xgbc_random() --- starting new iteration --- time elapsed = 1836.9981141090393 seconds\n",
      "Trace xgbc_random() --- trying hyperparameters = {'n_estimators': 50, 'max_depth': 8, 'learning_rate': 1.0, 'subsample': 0.2, 'min_child_weight': 2, 'nthread': 1, 'gamma': 0.0, 'colsample_bytree': 0.9999999999999999}\n",
      "Trace xgbc_random() --- starting new iteration --- time elapsed = 1837.78537774086 seconds\n",
      "Trace xgbc_random() --- trying hyperparameters = {'n_estimators': 500, 'max_depth': 5, 'learning_rate': 0.001, 'subsample': 0.15000000000000002, 'min_child_weight': 6, 'nthread': 1, 'gamma': 1.0, 'colsample_bytree': 0.8999999999999999}\n",
      "Trace xgbc_random() --- starting new iteration --- time elapsed = 1846.1074640750885 seconds\n",
      "Trace xgbc_random() --- trying hyperparameters = {'n_estimators': 50, 'max_depth': 4, 'learning_rate': 0.1, 'subsample': 0.6500000000000001, 'min_child_weight': 12, 'nthread': 1, 'gamma': 1.0, 'colsample_bytree': 0.5}\n",
      "Trace xgbc_random() --- starting new iteration --- time elapsed = 1847.1090133190155 seconds\n",
      "Trace xgbc_random() --- trying hyperparameters = {'n_estimators': 50, 'max_depth': 3, 'learning_rate': 0.5, 'subsample': 0.15000000000000002, 'min_child_weight': 7, 'nthread': 1, 'gamma': 3.0, 'colsample_bytree': 0.7999999999999999}\n",
      "Trace xgbc_random() --- starting new iteration --- time elapsed = 1847.6720299720764 seconds\n",
      "Trace xgbc_random() --- trying hyperparameters = {'n_estimators': 1000, 'max_depth': 6, 'learning_rate': 0.5, 'subsample': 0.9000000000000001, 'min_child_weight': 12, 'nthread': 1, 'gamma': 4.0, 'colsample_bytree': 0.6}\n",
      "Trace xgbc_random() --- starting new iteration --- time elapsed = 1865.627883195877 seconds\n",
      "Trace xgbc_random() --- trying hyperparameters = {'n_estimators': 1000, 'max_depth': 7, 'learning_rate': 0.001, 'subsample': 0.1, 'min_child_weight': 3, 'nthread': 1, 'gamma': 4.5, 'colsample_bytree': 0.6}\n"
     ]
    },
    {
     "name": "stdout",
     "output_type": "stream",
     "text": [
      "Trace xgbc_random() --- starting new iteration --- time elapsed = 1878.5274276733398 seconds\n",
      "Trace xgbc_random() --- trying hyperparameters = {'n_estimators': 50, 'max_depth': 8, 'learning_rate': 0.1, 'subsample': 0.3, 'min_child_weight': 16, 'nthread': 1, 'gamma': 0.5, 'colsample_bytree': 0.5}\n",
      "Trace xgbc_random() --- starting new iteration --- time elapsed = 1879.3929393291473 seconds\n",
      "Trace xgbc_random() --- trying hyperparameters = {'n_estimators': 50, 'max_depth': 10, 'learning_rate': 0.001, 'subsample': 0.9000000000000001, 'min_child_weight': 15, 'nthread': 1, 'gamma': 3.5, 'colsample_bytree': 0.7}\n",
      "Trace xgbc_random() --- starting new iteration --- time elapsed = 1880.8433198928833 seconds\n",
      "Trace xgbc_random() --- trying hyperparameters = {'n_estimators': 100, 'max_depth': 6, 'learning_rate': 0.001, 'subsample': 0.5, 'min_child_weight': 18, 'nthread': 1, 'gamma': 2.5, 'colsample_bytree': 0.9999999999999999}\n",
      "Trace xgbc_random() --- starting new iteration --- time elapsed = 1884.2591354846954 seconds\n",
      "Trace xgbc_random() --- trying hyperparameters = {'n_estimators': 1000, 'max_depth': 1, 'learning_rate': 0.5, 'subsample': 1.0, 'min_child_weight': 17, 'nthread': 1, 'gamma': 1.5, 'colsample_bytree': 0.9999999999999999}\n",
      "Trace xgbc_random() --- starting new iteration --- time elapsed = 1894.307107925415 seconds\n",
      "Trace xgbc_random() --- trying hyperparameters = {'n_estimators': 100, 'max_depth': 3, 'learning_rate': 0.5, 'subsample': 1.0, 'min_child_weight': 15, 'nthread': 1, 'gamma': 0.5, 'colsample_bytree': 0.8999999999999999}\n",
      "Trace xgbc_random() --- starting new iteration --- time elapsed = 1895.6450655460358 seconds\n",
      "Trace xgbc_random() --- trying hyperparameters = {'n_estimators': 1000, 'max_depth': 4, 'learning_rate': 0.01, 'subsample': 0.9500000000000001, 'min_child_weight': 3, 'nthread': 1, 'gamma': 3.0, 'colsample_bytree': 0.7}\n",
      "Trace xgbc_random() --- starting new iteration --- time elapsed = 1922.0835392475128 seconds\n",
      "Trace xgbc_random() --- trying hyperparameters = {'n_estimators': 100, 'max_depth': 6, 'learning_rate': 0.1, 'subsample': 0.25, 'min_child_weight': 9, 'nthread': 1, 'gamma': 4.0, 'colsample_bytree': 0.7999999999999999}\n",
      "Trace xgbc_random() --- starting new iteration --- time elapsed = 1924.232661485672 seconds\n",
      "Trace xgbc_random() --- trying hyperparameters = {'n_estimators': 100, 'max_depth': 6, 'learning_rate': 0.1, 'subsample': 0.8500000000000001, 'min_child_weight': 5, 'nthread': 1, 'gamma': 0.0, 'colsample_bytree': 0.9999999999999999}\n",
      "Trace xgbc_random() --- starting new iteration --- time elapsed = 1928.402714252472 seconds\n",
      "Trace xgbc_random() --- trying hyperparameters = {'n_estimators': 50, 'max_depth': 9, 'learning_rate': 1.0, 'subsample': 1.0, 'min_child_weight': 11, 'nthread': 1, 'gamma': 5.0, 'colsample_bytree': 0.9999999999999999}\n",
      "Trace xgbc_random() --- starting new iteration --- time elapsed = 1929.7480373382568 seconds\n",
      "Trace xgbc_random() --- trying hyperparameters = {'n_estimators': 100, 'max_depth': 3, 'learning_rate': 1.0, 'subsample': 0.2, 'min_child_weight': 14, 'nthread': 1, 'gamma': 4.0, 'colsample_bytree': 0.7999999999999999}\n",
      "Trace xgbc_random() --- starting new iteration --- time elapsed = 1930.7530908584595 seconds\n",
      "Trace xgbc_random() --- trying hyperparameters = {'n_estimators': 1000, 'max_depth': 2, 'learning_rate': 0.1, 'subsample': 0.1, 'min_child_weight': 17, 'nthread': 1, 'gamma': 4.5, 'colsample_bytree': 0.7999999999999999}\n",
      "Trace xgbc_random() --- starting new iteration --- time elapsed = 1937.619797706604 seconds\n",
      "Trace xgbc_random() --- trying hyperparameters = {'n_estimators': 500, 'max_depth': 8, 'learning_rate': 1.0, 'subsample': 0.05, 'min_child_weight': 4, 'nthread': 1, 'gamma': 2.5, 'colsample_bytree': 0.7999999999999999}\n",
      "Trace xgbc_random() --- starting new iteration --- time elapsed = 1940.5962731838226 seconds\n",
      "Trace xgbc_random() --- trying hyperparameters = {'n_estimators': 500, 'max_depth': 9, 'learning_rate': 1.0, 'subsample': 0.4, 'min_child_weight': 2, 'nthread': 1, 'gamma': 2.0, 'colsample_bytree': 0.9999999999999999}\n",
      "Trace xgbc_random() --- starting new iteration --- time elapsed = 1955.875169992447 seconds\n",
      "Trace xgbc_random() --- trying hyperparameters = {'n_estimators': 50, 'max_depth': 4, 'learning_rate': 0.1, 'subsample': 0.45, 'min_child_weight': 13, 'nthread': 1, 'gamma': 4.0, 'colsample_bytree': 0.6}\n",
      "Trace xgbc_random() --- starting new iteration --- time elapsed = 1957.0084812641144 seconds\n",
      "Trace xgbc_random() --- trying hyperparameters = {'n_estimators': 500, 'max_depth': 3, 'learning_rate': 0.1, 'subsample': 0.6000000000000001, 'min_child_weight': 10, 'nthread': 1, 'gamma': 4.0, 'colsample_bytree': 0.5}\n",
      "Trace xgbc_random() --- starting new iteration --- time elapsed = 1965.9784770011902 seconds\n",
      "Trace xgbc_random() --- trying hyperparameters = {'n_estimators': 50, 'max_depth': 8, 'learning_rate': 0.5, 'subsample': 0.25, 'min_child_weight': 15, 'nthread': 1, 'gamma': 0.5, 'colsample_bytree': 0.7}\n",
      "Trace xgbc_random() --- starting new iteration --- time elapsed = 1966.4558274745941 seconds\n",
      "Trace xgbc_random() --- trying hyperparameters = {'n_estimators': 500, 'max_depth': 9, 'learning_rate': 0.1, 'subsample': 0.5, 'min_child_weight': 16, 'nthread': 1, 'gamma': 2.5, 'colsample_bytree': 0.5}\n",
      "Trace xgbc_random() --- starting new iteration --- time elapsed = 1973.3719120025635 seconds\n",
      "Trace xgbc_random() --- trying hyperparameters = {'n_estimators': 100, 'max_depth': 2, 'learning_rate': 0.01, 'subsample': 0.9500000000000001, 'min_child_weight': 8, 'nthread': 1, 'gamma': 3.5, 'colsample_bytree': 0.9999999999999999}\n",
      "Trace xgbc_random() --- starting new iteration --- time elapsed = 1975.3177876472473 seconds\n",
      "Trace xgbc_random() --- trying hyperparameters = {'n_estimators': 1000, 'max_depth': 2, 'learning_rate': 1.0, 'subsample': 0.9500000000000001, 'min_child_weight': 11, 'nthread': 1, 'gamma': 2.5, 'colsample_bytree': 0.8999999999999999}\n",
      "Trace xgbc_random() --- starting new iteration --- time elapsed = 1989.954871892929 seconds\n",
      "Trace xgbc_random() --- trying hyperparameters = {'n_estimators': 100, 'max_depth': 4, 'learning_rate': 0.5, 'subsample': 0.7500000000000001, 'min_child_weight': 8, 'nthread': 1, 'gamma': 2.0, 'colsample_bytree': 0.8999999999999999}\n",
      "Trace xgbc_random() --- starting new iteration --- time elapsed = 1992.7833533287048 seconds\n",
      "Trace xgbc_random() --- trying hyperparameters = {'n_estimators': 50, 'max_depth': 3, 'learning_rate': 0.5, 'subsample': 0.4, 'min_child_weight': 2, 'nthread': 1, 'gamma': 5.0, 'colsample_bytree': 0.9999999999999999}\n",
      "Trace xgbc_random() --- starting new iteration --- time elapsed = 1994.360699892044 seconds\n",
      "Trace xgbc_random() --- trying hyperparameters = {'n_estimators': 50, 'max_depth': 10, 'learning_rate': 0.01, 'subsample': 0.9500000000000001, 'min_child_weight': 2, 'nthread': 1, 'gamma': 1.0, 'colsample_bytree': 0.5}\n",
      "Trace xgbc_random() --- starting new iteration --- time elapsed = 1995.9419708251953 seconds\n",
      "Trace xgbc_random() --- trying hyperparameters = {'n_estimators': 500, 'max_depth': 2, 'learning_rate': 0.1, 'subsample': 0.25, 'min_child_weight': 6, 'nthread': 1, 'gamma': 3.5, 'colsample_bytree': 0.7999999999999999}\n",
      "Trace xgbc_random() --- starting new iteration --- time elapsed = 2004.0245697498322 seconds\n",
      "Trace xgbc_random() --- trying hyperparameters = {'n_estimators': 500, 'max_depth': 6, 'learning_rate': 0.5, 'subsample': 0.05, 'min_child_weight': 17, 'nthread': 1, 'gamma': 3.5, 'colsample_bytree': 0.8999999999999999}\n",
      "Trace xgbc_random() --- starting new iteration --- time elapsed = 2007.3514654636383 seconds\n",
      "Trace xgbc_random() --- trying hyperparameters = {'n_estimators': 50, 'max_depth': 3, 'learning_rate': 0.001, 'subsample': 0.9500000000000001, 'min_child_weight': 16, 'nthread': 1, 'gamma': 5.0, 'colsample_bytree': 0.9999999999999999}\n",
      "Trace xgbc_random() --- starting new iteration --- time elapsed = 2008.9619512557983 seconds\n",
      "Trace xgbc_random() --- trying hyperparameters = {'n_estimators': 500, 'max_depth': 4, 'learning_rate': 0.001, 'subsample': 0.9500000000000001, 'min_child_weight': 13, 'nthread': 1, 'gamma': 2.5, 'colsample_bytree': 0.6}\n",
      "Trace xgbc_random() --- starting new iteration --- time elapsed = 2021.9731862545013 seconds\n",
      "Trace xgbc_random() --- trying hyperparameters = {'n_estimators': 100, 'max_depth': 1, 'learning_rate': 0.5, 'subsample': 1.0, 'min_child_weight': 3, 'nthread': 1, 'gamma': 4.0, 'colsample_bytree': 0.5}\n"
     ]
    },
    {
     "name": "stdout",
     "output_type": "stream",
     "text": [
      "Trace xgbc_random() --- starting new iteration --- time elapsed = 2022.524836063385 seconds\n",
      "Trace xgbc_random() --- trying hyperparameters = {'n_estimators': 500, 'max_depth': 10, 'learning_rate': 0.001, 'subsample': 0.55, 'min_child_weight': 11, 'nthread': 1, 'gamma': 2.5, 'colsample_bytree': 0.9999999999999999}\n",
      "Trace xgbc_random() --- starting new iteration --- time elapsed = 2043.1669154167175 seconds\n",
      "Trace xgbc_random() --- trying hyperparameters = {'n_estimators': 50, 'max_depth': 10, 'learning_rate': 0.5, 'subsample': 0.1, 'min_child_weight': 18, 'nthread': 1, 'gamma': 4.5, 'colsample_bytree': 0.6}\n",
      "Trace xgbc_random() --- starting new iteration --- time elapsed = 2043.519736289978 seconds\n",
      "Trace xgbc_random() --- trying hyperparameters = {'n_estimators': 500, 'max_depth': 9, 'learning_rate': 0.5, 'subsample': 0.6500000000000001, 'min_child_weight': 13, 'nthread': 1, 'gamma': 4.5, 'colsample_bytree': 0.6}\n",
      "Trace xgbc_random() --- starting new iteration --- time elapsed = 2052.186684846878 seconds\n",
      "Trace xgbc_random() --- trying hyperparameters = {'n_estimators': 1000, 'max_depth': 5, 'learning_rate': 0.01, 'subsample': 0.2, 'min_child_weight': 10, 'nthread': 1, 'gamma': 3.5, 'colsample_bytree': 0.8999999999999999}\n",
      "Trace xgbc_random() --- starting new iteration --- time elapsed = 2073.127363920212 seconds\n",
      "Trace xgbc_random() --- trying hyperparameters = {'n_estimators': 50, 'max_depth': 10, 'learning_rate': 0.5, 'subsample': 0.45, 'min_child_weight': 11, 'nthread': 1, 'gamma': 1.0, 'colsample_bytree': 0.9999999999999999}\n",
      "Trace xgbc_random() --- starting new iteration --- time elapsed = 2074.3695418834686 seconds\n",
      "Trace xgbc_random() --- trying hyperparameters = {'n_estimators': 1000, 'max_depth': 7, 'learning_rate': 0.01, 'subsample': 0.1, 'min_child_weight': 5, 'nthread': 1, 'gamma': 3.5, 'colsample_bytree': 0.7999999999999999}\n",
      "Trace xgbc_random() --- starting new iteration --- time elapsed = 2089.6987977027893 seconds\n",
      "Trace xgbc_random() --- trying hyperparameters = {'n_estimators': 100, 'max_depth': 10, 'learning_rate': 0.001, 'subsample': 0.7500000000000001, 'min_child_weight': 11, 'nthread': 1, 'gamma': 0.0, 'colsample_bytree': 0.6}\n",
      "Trace xgbc_random() --- starting new iteration --- time elapsed = 2092.585070371628 seconds\n",
      "Trace xgbc_random() --- trying hyperparameters = {'n_estimators': 1000, 'max_depth': 4, 'learning_rate': 0.01, 'subsample': 0.8500000000000001, 'min_child_weight': 12, 'nthread': 1, 'gamma': 2.0, 'colsample_bytree': 0.7999999999999999}\n",
      "Trace xgbc_random() --- starting new iteration --- time elapsed = 2121.069758415222 seconds\n",
      "Trace xgbc_random() --- trying hyperparameters = {'n_estimators': 500, 'max_depth': 7, 'learning_rate': 0.5, 'subsample': 0.25, 'min_child_weight': 1, 'nthread': 1, 'gamma': 4.0, 'colsample_bytree': 0.7999999999999999}\n",
      "Trace xgbc_random() --- starting new iteration --- time elapsed = 2138.3199405670166 seconds\n",
      "Trace xgbc_random() --- trying hyperparameters = {'n_estimators': 500, 'max_depth': 1, 'learning_rate': 0.01, 'subsample': 0.15000000000000002, 'min_child_weight': 16, 'nthread': 1, 'gamma': 1.5, 'colsample_bytree': 0.8999999999999999}\n",
      "Trace xgbc_random() --- starting new iteration --- time elapsed = 2143.33770608902 seconds\n",
      "Trace xgbc_random() --- trying hyperparameters = {'n_estimators': 50, 'max_depth': 8, 'learning_rate': 0.5, 'subsample': 0.9500000000000001, 'min_child_weight': 5, 'nthread': 1, 'gamma': 0.0, 'colsample_bytree': 0.8999999999999999}\n",
      "Trace xgbc_random() --- starting new iteration --- time elapsed = 2144.554575443268 seconds\n",
      "Trace xgbc_random() --- trying hyperparameters = {'n_estimators': 50, 'max_depth': 1, 'learning_rate': 0.1, 'subsample': 0.8500000000000001, 'min_child_weight': 9, 'nthread': 1, 'gamma': 1.5, 'colsample_bytree': 0.5}\n",
      "Trace xgbc_random() --- starting new iteration --- time elapsed = 2144.9391458034515 seconds\n",
      "Trace xgbc_random() --- trying hyperparameters = {'n_estimators': 50, 'max_depth': 10, 'learning_rate': 0.001, 'subsample': 0.25, 'min_child_weight': 3, 'nthread': 1, 'gamma': 3.5, 'colsample_bytree': 0.5}\n",
      "Trace xgbc_random() --- starting new iteration --- time elapsed = 2145.9152500629425 seconds\n",
      "Trace xgbc_random() --- trying hyperparameters = {'n_estimators': 1000, 'max_depth': 10, 'learning_rate': 0.001, 'subsample': 0.2, 'min_child_weight': 20, 'nthread': 1, 'gamma': 2.0, 'colsample_bytree': 0.7999999999999999}\n",
      "Trace xgbc_random() --- starting new iteration --- time elapsed = 2160.5761544704437 seconds\n",
      "Trace xgbc_random() --- trying hyperparameters = {'n_estimators': 100, 'max_depth': 5, 'learning_rate': 0.1, 'subsample': 0.55, 'min_child_weight': 19, 'nthread': 1, 'gamma': 1.5, 'colsample_bytree': 0.6}\n",
      "Trace xgbc_random() --- starting new iteration --- time elapsed = 2162.6841847896576 seconds\n",
      "Trace xgbc_random() --- trying hyperparameters = {'n_estimators': 100, 'max_depth': 4, 'learning_rate': 0.5, 'subsample': 0.9500000000000001, 'min_child_weight': 15, 'nthread': 1, 'gamma': 1.5, 'colsample_bytree': 0.5}\n",
      "Trace xgbc_random() --- starting new iteration --- time elapsed = 2164.2361359596252 seconds\n",
      "Trace xgbc_random() --- trying hyperparameters = {'n_estimators': 1000, 'max_depth': 8, 'learning_rate': 1.0, 'subsample': 0.9500000000000001, 'min_child_weight': 4, 'nthread': 1, 'gamma': 4.0, 'colsample_bytree': 0.9999999999999999}\n",
      "Trace xgbc_random() --- starting new iteration --- time elapsed = 2209.398498058319 seconds\n",
      "Trace xgbc_random() --- trying hyperparameters = {'n_estimators': 500, 'max_depth': 7, 'learning_rate': 0.01, 'subsample': 0.05, 'min_child_weight': 7, 'nthread': 1, 'gamma': 5.0, 'colsample_bytree': 0.8999999999999999}\n",
      "Trace xgbc_random() --- starting new iteration --- time elapsed = 2213.526161670685 seconds\n",
      "Trace xgbc_random() --- trying hyperparameters = {'n_estimators': 50, 'max_depth': 1, 'learning_rate': 0.1, 'subsample': 0.6500000000000001, 'min_child_weight': 15, 'nthread': 1, 'gamma': 4.5, 'colsample_bytree': 0.9999999999999999}\n",
      "Trace xgbc_random() --- starting new iteration --- time elapsed = 2214.2619614601135 seconds\n",
      "Trace xgbc_random() --- trying hyperparameters = {'n_estimators': 100, 'max_depth': 2, 'learning_rate': 1.0, 'subsample': 0.15000000000000002, 'min_child_weight': 1, 'nthread': 1, 'gamma': 3.5, 'colsample_bytree': 0.8999999999999999}\n",
      "Trace xgbc_random() --- starting new iteration --- time elapsed = 2215.7753462791443 seconds\n",
      "Trace xgbc_random() --- trying hyperparameters = {'n_estimators': 50, 'max_depth': 5, 'learning_rate': 0.5, 'subsample': 1.0, 'min_child_weight': 18, 'nthread': 1, 'gamma': 3.0, 'colsample_bytree': 0.7999999999999999}\n",
      "Trace xgbc_random() --- starting new iteration --- time elapsed = 2216.9069333076477 seconds\n",
      "Trace xgbc_random() --- trying hyperparameters = {'n_estimators': 100, 'max_depth': 8, 'learning_rate': 0.5, 'subsample': 0.45, 'min_child_weight': 10, 'nthread': 1, 'gamma': 4.5, 'colsample_bytree': 0.7}\n",
      "Trace xgbc_random() --- starting new iteration --- time elapsed = 2219.3685970306396 seconds\n",
      "Trace xgbc_random() --- trying hyperparameters = {'n_estimators': 1000, 'max_depth': 7, 'learning_rate': 0.001, 'subsample': 0.4, 'min_child_weight': 11, 'nthread': 1, 'gamma': 2.0, 'colsample_bytree': 0.8999999999999999}\n",
      "Trace xgbc_random() --- starting new iteration --- time elapsed = 2254.063821554184 seconds\n",
      "Trace xgbc_random() --- trying hyperparameters = {'n_estimators': 500, 'max_depth': 6, 'learning_rate': 0.1, 'subsample': 0.3, 'min_child_weight': 20, 'nthread': 1, 'gamma': 1.5, 'colsample_bytree': 0.7999999999999999}\n",
      "Trace xgbc_random() --- starting new iteration --- time elapsed = 2260.7148180007935 seconds\n",
      "Trace xgbc_random() --- trying hyperparameters = {'n_estimators': 500, 'max_depth': 10, 'learning_rate': 0.5, 'subsample': 0.5, 'min_child_weight': 20, 'nthread': 1, 'gamma': 2.0, 'colsample_bytree': 0.7999999999999999}\n",
      "Trace xgbc_random() --- starting new iteration --- time elapsed = 2268.156529903412 seconds\n",
      "Trace xgbc_random() --- trying hyperparameters = {'n_estimators': 500, 'max_depth': 3, 'learning_rate': 0.01, 'subsample': 0.9000000000000001, 'min_child_weight': 2, 'nthread': 1, 'gamma': 3.0, 'colsample_bytree': 0.7999999999999999}\n",
      "Trace xgbc_random() --- starting new iteration --- time elapsed = 2280.8692634105682 seconds\n",
      "Trace xgbc_random() --- trying hyperparameters = {'n_estimators': 100, 'max_depth': 3, 'learning_rate': 0.001, 'subsample': 0.4, 'min_child_weight': 1, 'nthread': 1, 'gamma': 1.0, 'colsample_bytree': 0.7999999999999999}\n"
     ]
    },
    {
     "name": "stdout",
     "output_type": "stream",
     "text": [
      "Trace xgbc_random() --- starting new iteration --- time elapsed = 2284.1233973503113 seconds\n",
      "Trace xgbc_random() --- trying hyperparameters = {'n_estimators': 100, 'max_depth': 5, 'learning_rate': 0.5, 'subsample': 0.9000000000000001, 'min_child_weight': 12, 'nthread': 1, 'gamma': 4.5, 'colsample_bytree': 0.8999999999999999}\n",
      "Trace xgbc_random() --- starting new iteration --- time elapsed = 2287.8800191879272 seconds\n",
      "Trace xgbc_random() --- trying hyperparameters = {'n_estimators': 100, 'max_depth': 7, 'learning_rate': 0.01, 'subsample': 0.55, 'min_child_weight': 19, 'nthread': 1, 'gamma': 0.5, 'colsample_bytree': 0.6}\n",
      "Trace xgbc_random() --- starting new iteration --- time elapsed = 2290.4594373703003 seconds\n",
      "Trace xgbc_random() --- trying hyperparameters = {'n_estimators': 100, 'max_depth': 10, 'learning_rate': 0.1, 'subsample': 1.0, 'min_child_weight': 2, 'nthread': 1, 'gamma': 1.0, 'colsample_bytree': 0.7}\n",
      "Trace xgbc_random() --- starting new iteration --- time elapsed = 2294.3007831573486 seconds\n",
      "Trace xgbc_random() --- trying hyperparameters = {'n_estimators': 500, 'max_depth': 6, 'learning_rate': 0.001, 'subsample': 0.8, 'min_child_weight': 5, 'nthread': 1, 'gamma': 1.0, 'colsample_bytree': 0.7}\n",
      "Trace xgbc_random() --- starting new iteration --- time elapsed = 2314.1311600208282 seconds\n",
      "Trace xgbc_random() --- trying hyperparameters = {'n_estimators': 500, 'max_depth': 6, 'learning_rate': 0.01, 'subsample': 0.35000000000000003, 'min_child_weight': 16, 'nthread': 1, 'gamma': 1.0, 'colsample_bytree': 0.6}\n",
      "Trace xgbc_random() --- starting new iteration --- time elapsed = 2323.721663236618 seconds\n",
      "Trace xgbc_random() --- trying hyperparameters = {'n_estimators': 1000, 'max_depth': 4, 'learning_rate': 0.001, 'subsample': 0.1, 'min_child_weight': 18, 'nthread': 1, 'gamma': 4.5, 'colsample_bytree': 0.7999999999999999}\n",
      "Trace xgbc_random() --- starting new iteration --- time elapsed = 2331.3261864185333 seconds\n",
      "Trace xgbc_random() --- trying hyperparameters = {'n_estimators': 100, 'max_depth': 6, 'learning_rate': 0.01, 'subsample': 0.8500000000000001, 'min_child_weight': 10, 'nthread': 1, 'gamma': 4.5, 'colsample_bytree': 0.6}\n",
      "Trace xgbc_random() --- starting new iteration --- time elapsed = 2334.4289054870605 seconds\n",
      "Trace xgbc_random() --- trying hyperparameters = {'n_estimators': 1000, 'max_depth': 3, 'learning_rate': 0.01, 'subsample': 0.2, 'min_child_weight': 3, 'nthread': 1, 'gamma': 3.5, 'colsample_bytree': 0.5}\n",
      "Trace xgbc_random() --- starting new iteration --- time elapsed = 2350.485802412033 seconds\n",
      "Trace xgbc_random() --- trying hyperparameters = {'n_estimators': 50, 'max_depth': 8, 'learning_rate': 1.0, 'subsample': 0.8, 'min_child_weight': 6, 'nthread': 1, 'gamma': 1.5, 'colsample_bytree': 0.6}\n",
      "Trace xgbc_random() --- starting new iteration --- time elapsed = 2351.335081100464 seconds\n",
      "Trace xgbc_random() --- trying hyperparameters = {'n_estimators': 100, 'max_depth': 3, 'learning_rate': 0.1, 'subsample': 1.0, 'min_child_weight': 6, 'nthread': 1, 'gamma': 4.5, 'colsample_bytree': 0.5}\n",
      "Trace xgbc_random() --- starting new iteration --- time elapsed = 2352.9727067947388 seconds\n",
      "Trace xgbc_random() --- trying hyperparameters = {'n_estimators': 50, 'max_depth': 10, 'learning_rate': 0.01, 'subsample': 0.2, 'min_child_weight': 8, 'nthread': 1, 'gamma': 3.5, 'colsample_bytree': 0.7}\n",
      "Trace xgbc_random() --- starting new iteration --- time elapsed = 2353.8489215373993 seconds\n",
      "Trace xgbc_random() --- trying hyperparameters = {'n_estimators': 50, 'max_depth': 3, 'learning_rate': 0.1, 'subsample': 0.05, 'min_child_weight': 13, 'nthread': 1, 'gamma': 3.0, 'colsample_bytree': 0.8999999999999999}\n",
      "Trace xgbc_random() --- starting new iteration --- time elapsed = 2354.175050497055 seconds\n",
      "Trace xgbc_random() --- trying hyperparameters = {'n_estimators': 100, 'max_depth': 3, 'learning_rate': 0.1, 'subsample': 0.35000000000000003, 'min_child_weight': 16, 'nthread': 1, 'gamma': 1.0, 'colsample_bytree': 0.5}\n",
      "Trace xgbc_random() --- starting new iteration --- time elapsed = 2355.821984052658 seconds\n",
      "Trace xgbc_random() --- trying hyperparameters = {'n_estimators': 100, 'max_depth': 9, 'learning_rate': 0.5, 'subsample': 0.55, 'min_child_weight': 10, 'nthread': 1, 'gamma': 1.5, 'colsample_bytree': 0.8999999999999999}\n",
      "Trace xgbc_random() --- starting new iteration --- time elapsed = 2358.3861191272736 seconds\n",
      "Trace xgbc_random() --- trying hyperparameters = {'n_estimators': 100, 'max_depth': 8, 'learning_rate': 0.5, 'subsample': 0.9500000000000001, 'min_child_weight': 4, 'nthread': 1, 'gamma': 4.0, 'colsample_bytree': 0.7}\n",
      "Trace xgbc_random() --- starting new iteration --- time elapsed = 2362.4787130355835 seconds\n",
      "Trace xgbc_random() --- trying hyperparameters = {'n_estimators': 1000, 'max_depth': 5, 'learning_rate': 0.001, 'subsample': 0.6500000000000001, 'min_child_weight': 3, 'nthread': 1, 'gamma': 3.5, 'colsample_bytree': 0.7999999999999999}\n",
      "Trace xgbc_random() --- starting new iteration --- time elapsed = 2408.649962425232 seconds\n",
      "Trace xgbc_random() --- trying hyperparameters = {'n_estimators': 1000, 'max_depth': 9, 'learning_rate': 1.0, 'subsample': 0.35000000000000003, 'min_child_weight': 20, 'nthread': 1, 'gamma': 2.5, 'colsample_bytree': 0.7}\n",
      "Trace xgbc_random() --- starting new iteration --- time elapsed = 2418.2833094596863 seconds\n",
      "Trace xgbc_random() --- trying hyperparameters = {'n_estimators': 500, 'max_depth': 3, 'learning_rate': 0.1, 'subsample': 0.15000000000000002, 'min_child_weight': 10, 'nthread': 1, 'gamma': 3.5, 'colsample_bytree': 0.7}\n",
      "Trace xgbc_random() --- starting new iteration --- time elapsed = 2423.5495369434357 seconds\n",
      "Trace xgbc_random() --- trying hyperparameters = {'n_estimators': 100, 'max_depth': 3, 'learning_rate': 1.0, 'subsample': 0.1, 'min_child_weight': 6, 'nthread': 1, 'gamma': 5.0, 'colsample_bytree': 0.6}\n",
      "Trace xgbc_random() --- starting new iteration --- time elapsed = 2424.206935405731 seconds\n",
      "Trace xgbc_random() --- trying hyperparameters = {'n_estimators': 50, 'max_depth': 8, 'learning_rate': 0.1, 'subsample': 0.25, 'min_child_weight': 11, 'nthread': 1, 'gamma': 2.0, 'colsample_bytree': 0.8999999999999999}\n",
      "Trace xgbc_random() --- starting new iteration --- time elapsed = 2425.1991193294525 seconds\n",
      "Trace xgbc_random() --- trying hyperparameters = {'n_estimators': 1000, 'max_depth': 1, 'learning_rate': 0.5, 'subsample': 0.5, 'min_child_weight': 17, 'nthread': 1, 'gamma': 2.0, 'colsample_bytree': 0.7}\n",
      "Trace xgbc_random() --- starting new iteration --- time elapsed = 2434.939460992813 seconds\n",
      "Trace xgbc_random() --- trying hyperparameters = {'n_estimators': 100, 'max_depth': 8, 'learning_rate': 0.5, 'subsample': 0.9500000000000001, 'min_child_weight': 14, 'nthread': 1, 'gamma': 4.0, 'colsample_bytree': 0.8999999999999999}\n",
      "Trace xgbc_random() --- starting new iteration --- time elapsed = 2437.6434977054596 seconds\n",
      "Trace xgbc_random() --- trying hyperparameters = {'n_estimators': 500, 'max_depth': 7, 'learning_rate': 0.5, 'subsample': 0.9000000000000001, 'min_child_weight': 8, 'nthread': 1, 'gamma': 3.0, 'colsample_bytree': 0.8999999999999999}\n",
      "Trace xgbc_random() --- starting new iteration --- time elapsed = 2452.262225151062 seconds\n",
      "Trace xgbc_random() --- trying hyperparameters = {'n_estimators': 1000, 'max_depth': 9, 'learning_rate': 0.5, 'subsample': 0.2, 'min_child_weight': 13, 'nthread': 1, 'gamma': 0.5, 'colsample_bytree': 0.7}\n",
      "Trace xgbc_random() --- starting new iteration --- time elapsed = 2460.418454885483 seconds\n",
      "Trace xgbc_random() --- trying hyperparameters = {'n_estimators': 1000, 'max_depth': 2, 'learning_rate': 0.01, 'subsample': 0.25, 'min_child_weight': 4, 'nthread': 1, 'gamma': 4.5, 'colsample_bytree': 0.6}\n",
      "Trace xgbc_random() --- starting new iteration --- time elapsed = 2473.5911808013916 seconds\n",
      "Trace xgbc_random() --- trying hyperparameters = {'n_estimators': 50, 'max_depth': 9, 'learning_rate': 0.01, 'subsample': 0.1, 'min_child_weight': 1, 'nthread': 1, 'gamma': 0.0, 'colsample_bytree': 0.8999999999999999}\n",
      "Trace xgbc_random() --- starting new iteration --- time elapsed = 2474.6148312091827 seconds\n",
      "Trace xgbc_random() --- trying hyperparameters = {'n_estimators': 1000, 'max_depth': 1, 'learning_rate': 0.5, 'subsample': 0.35000000000000003, 'min_child_weight': 1, 'nthread': 1, 'gamma': 3.0, 'colsample_bytree': 0.6}\n"
     ]
    },
    {
     "name": "stdout",
     "output_type": "stream",
     "text": [
      "Trace xgbc_random() --- starting new iteration --- time elapsed = 2483.0657930374146 seconds\n",
      "Trace xgbc_random() --- trying hyperparameters = {'n_estimators': 100, 'max_depth': 7, 'learning_rate': 0.001, 'subsample': 0.55, 'min_child_weight': 7, 'nthread': 1, 'gamma': 0.5, 'colsample_bytree': 0.5}\n",
      "Trace xgbc_random() --- starting new iteration --- time elapsed = 2485.6085443496704 seconds\n",
      "Trace xgbc_random() --- trying hyperparameters = {'n_estimators': 1000, 'max_depth': 8, 'learning_rate': 1.0, 'subsample': 0.6000000000000001, 'min_child_weight': 5, 'nthread': 1, 'gamma': 3.0, 'colsample_bytree': 0.9999999999999999}\n",
      "Trace xgbc_random() --- starting new iteration --- time elapsed = 2513.980680704117 seconds\n",
      "Trace xgbc_random() --- trying hyperparameters = {'n_estimators': 500, 'max_depth': 8, 'learning_rate': 1.0, 'subsample': 0.2, 'min_child_weight': 18, 'nthread': 1, 'gamma': 4.0, 'colsample_bytree': 0.7}\n",
      "Trace xgbc_random() --- starting new iteration --- time elapsed = 2517.705503463745 seconds\n",
      "Trace xgbc_random() --- trying hyperparameters = {'n_estimators': 100, 'max_depth': 8, 'learning_rate': 0.1, 'subsample': 0.05, 'min_child_weight': 14, 'nthread': 1, 'gamma': 4.0, 'colsample_bytree': 0.8999999999999999}\n",
      "Trace xgbc_random() --- starting new iteration --- time elapsed = 2518.3857572078705 seconds\n",
      "Trace xgbc_random() --- trying hyperparameters = {'n_estimators': 1000, 'max_depth': 5, 'learning_rate': 0.001, 'subsample': 0.5, 'min_child_weight': 9, 'nthread': 1, 'gamma': 1.0, 'colsample_bytree': 0.6}\n",
      "Trace xgbc_random() --- starting new iteration --- time elapsed = 2548.0585503578186 seconds\n",
      "Trace xgbc_random() --- trying hyperparameters = {'n_estimators': 500, 'max_depth': 2, 'learning_rate': 0.001, 'subsample': 0.35000000000000003, 'min_child_weight': 5, 'nthread': 1, 'gamma': 1.5, 'colsample_bytree': 0.7999999999999999}\n",
      "Trace xgbc_random() --- starting new iteration --- time elapsed = 2557.6792209148407 seconds\n",
      "Trace xgbc_random() --- trying hyperparameters = {'n_estimators': 1000, 'max_depth': 1, 'learning_rate': 0.01, 'subsample': 0.15000000000000002, 'min_child_weight': 1, 'nthread': 1, 'gamma': 0.0, 'colsample_bytree': 0.9999999999999999}\n",
      "Trace xgbc_random() --- starting new iteration --- time elapsed = 2566.3159618377686 seconds\n",
      "Trace xgbc_random() --- trying hyperparameters = {'n_estimators': 100, 'max_depth': 8, 'learning_rate': 0.01, 'subsample': 0.15000000000000002, 'min_child_weight': 3, 'nthread': 1, 'gamma': 0.0, 'colsample_bytree': 0.5}\n",
      "Trace xgbc_random() --- starting new iteration --- time elapsed = 2567.7441794872284 seconds\n",
      "Trace xgbc_random() --- trying hyperparameters = {'n_estimators': 1000, 'max_depth': 10, 'learning_rate': 0.1, 'subsample': 0.7500000000000001, 'min_child_weight': 7, 'nthread': 1, 'gamma': 5.0, 'colsample_bytree': 0.8999999999999999}\n",
      "Trace xgbc_random() --- starting new iteration --- time elapsed = 2608.405956029892 seconds\n",
      "Trace xgbc_random() --- trying hyperparameters = {'n_estimators': 1000, 'max_depth': 8, 'learning_rate': 0.001, 'subsample': 0.7500000000000001, 'min_child_weight': 20, 'nthread': 1, 'gamma': 5.0, 'colsample_bytree': 0.9999999999999999}\n",
      "Trace xgbc_random() --- starting new iteration --- time elapsed = 2646.571082353592 seconds\n",
      "Trace xgbc_random() --- trying hyperparameters = {'n_estimators': 50, 'max_depth': 3, 'learning_rate': 0.1, 'subsample': 0.25, 'min_child_weight': 6, 'nthread': 1, 'gamma': 3.5, 'colsample_bytree': 0.9999999999999999}\n",
      "Trace xgbc_random() --- starting new iteration --- time elapsed = 2648.072908639908 seconds\n",
      "Trace xgbc_random() --- trying hyperparameters = {'n_estimators': 1000, 'max_depth': 7, 'learning_rate': 0.5, 'subsample': 0.5, 'min_child_weight': 2, 'nthread': 1, 'gamma': 3.5, 'colsample_bytree': 0.7999999999999999}\n",
      "Trace xgbc_random() --- starting new iteration --- time elapsed = 2687.7398562431335 seconds\n",
      "Trace xgbc_random() --- trying hyperparameters = {'n_estimators': 50, 'max_depth': 2, 'learning_rate': 0.001, 'subsample': 0.15000000000000002, 'min_child_weight': 16, 'nthread': 1, 'gamma': 4.0, 'colsample_bytree': 0.8999999999999999}\n",
      "Trace xgbc_random() --- starting new iteration --- time elapsed = 2688.431264400482 seconds\n",
      "Trace xgbc_random() --- trying hyperparameters = {'n_estimators': 50, 'max_depth': 2, 'learning_rate': 0.001, 'subsample': 0.25, 'min_child_weight': 20, 'nthread': 1, 'gamma': 0.0, 'colsample_bytree': 0.6}\n",
      "Trace xgbc_random() --- starting new iteration --- time elapsed = 2688.985816001892 seconds\n",
      "Trace xgbc_random() --- trying hyperparameters = {'n_estimators': 500, 'max_depth': 1, 'learning_rate': 0.1, 'subsample': 0.6500000000000001, 'min_child_weight': 8, 'nthread': 1, 'gamma': 3.5, 'colsample_bytree': 0.7999999999999999}\n",
      "Trace xgbc_random() --- starting new iteration --- time elapsed = 2694.6508634090424 seconds\n",
      "Trace xgbc_random() --- trying hyperparameters = {'n_estimators': 50, 'max_depth': 4, 'learning_rate': 0.01, 'subsample': 0.45, 'min_child_weight': 5, 'nthread': 1, 'gamma': 0.5, 'colsample_bytree': 0.8999999999999999}\n",
      "Trace xgbc_random() --- starting new iteration --- time elapsed = 2696.615557193756 seconds\n",
      "Trace xgbc_random() --- trying hyperparameters = {'n_estimators': 1000, 'max_depth': 1, 'learning_rate': 0.01, 'subsample': 0.15000000000000002, 'min_child_weight': 19, 'nthread': 1, 'gamma': 1.5, 'colsample_bytree': 0.9999999999999999}\n",
      "Trace xgbc_random() --- starting new iteration --- time elapsed = 2705.663775205612 seconds\n",
      "Trace xgbc_random() --- trying hyperparameters = {'n_estimators': 1000, 'max_depth': 8, 'learning_rate': 0.1, 'subsample': 0.25, 'min_child_weight': 8, 'nthread': 1, 'gamma': 4.0, 'colsample_bytree': 0.8999999999999999}\n",
      "Trace xgbc_random() --- starting new iteration --- time elapsed = 2724.826096057892 seconds\n",
      "Trace xgbc_random() --- trying hyperparameters = {'n_estimators': 1000, 'max_depth': 4, 'learning_rate': 0.01, 'subsample': 0.35000000000000003, 'min_child_weight': 14, 'nthread': 1, 'gamma': 4.5, 'colsample_bytree': 0.8999999999999999}\n",
      "Trace xgbc_random() --- starting new iteration --- time elapsed = 2748.4421389102936 seconds\n",
      "Trace xgbc_random() --- trying hyperparameters = {'n_estimators': 100, 'max_depth': 10, 'learning_rate': 0.01, 'subsample': 0.9000000000000001, 'min_child_weight': 19, 'nthread': 1, 'gamma': 1.5, 'colsample_bytree': 0.5}\n",
      "Trace xgbc_random() --- starting new iteration --- time elapsed = 2750.3935465812683 seconds\n",
      "Trace xgbc_random() --- trying hyperparameters = {'n_estimators': 500, 'max_depth': 3, 'learning_rate': 0.001, 'subsample': 0.7000000000000001, 'min_child_weight': 11, 'nthread': 1, 'gamma': 5.0, 'colsample_bytree': 0.8999999999999999}\n",
      "Trace xgbc_random() --- starting new iteration --- time elapsed = 2766.6102046966553 seconds\n",
      "Trace xgbc_random() --- trying hyperparameters = {'n_estimators': 1000, 'max_depth': 3, 'learning_rate': 0.001, 'subsample': 0.7500000000000001, 'min_child_weight': 20, 'nthread': 1, 'gamma': 0.5, 'colsample_bytree': 0.9999999999999999}\n",
      "Trace xgbc_random() --- starting new iteration --- time elapsed = 2795.860057115555 seconds\n",
      "Trace xgbc_random() --- trying hyperparameters = {'n_estimators': 1000, 'max_depth': 4, 'learning_rate': 0.5, 'subsample': 0.1, 'min_child_weight': 6, 'nthread': 1, 'gamma': 3.0, 'colsample_bytree': 0.8999999999999999}\n",
      "Trace xgbc_random() --- starting new iteration --- time elapsed = 2803.2361006736755 seconds\n",
      "Trace xgbc_random() --- trying hyperparameters = {'n_estimators': 500, 'max_depth': 6, 'learning_rate': 0.001, 'subsample': 0.2, 'min_child_weight': 1, 'nthread': 1, 'gamma': 0.5, 'colsample_bytree': 0.9999999999999999}\n",
      "Trace xgbc_random() --- starting new iteration --- time elapsed = 2816.50012755394 seconds\n",
      "Trace xgbc_random() --- trying hyperparameters = {'n_estimators': 50, 'max_depth': 2, 'learning_rate': 0.5, 'subsample': 0.55, 'min_child_weight': 14, 'nthread': 1, 'gamma': 4.5, 'colsample_bytree': 0.7999999999999999}\n",
      "Trace xgbc_random() --- starting new iteration --- time elapsed = 2817.261655807495 seconds\n",
      "Trace xgbc_random() --- trying hyperparameters = {'n_estimators': 50, 'max_depth': 10, 'learning_rate': 1.0, 'subsample': 1.0, 'min_child_weight': 2, 'nthread': 1, 'gamma': 3.5, 'colsample_bytree': 0.6}\n"
     ]
    },
    {
     "name": "stdout",
     "output_type": "stream",
     "text": [
      "Trace xgbc_random() --- starting new iteration --- time elapsed = 2818.4987490177155 seconds\n",
      "Trace xgbc_random() --- trying hyperparameters = {'n_estimators': 1000, 'max_depth': 10, 'learning_rate': 0.5, 'subsample': 0.25, 'min_child_weight': 8, 'nthread': 1, 'gamma': 0.5, 'colsample_bytree': 0.5}\n",
      "Trace xgbc_random() --- starting new iteration --- time elapsed = 2824.8644795417786 seconds\n",
      "Trace xgbc_random() --- trying hyperparameters = {'n_estimators': 1000, 'max_depth': 2, 'learning_rate': 1.0, 'subsample': 0.6000000000000001, 'min_child_weight': 11, 'nthread': 1, 'gamma': 3.5, 'colsample_bytree': 0.7}\n",
      "Trace xgbc_random() --- starting new iteration --- time elapsed = 2836.3754091262817 seconds\n",
      "Trace xgbc_random() --- trying hyperparameters = {'n_estimators': 1000, 'max_depth': 7, 'learning_rate': 0.1, 'subsample': 0.1, 'min_child_weight': 13, 'nthread': 1, 'gamma': 4.0, 'colsample_bytree': 0.9999999999999999}\n",
      "Trace xgbc_random() --- starting new iteration --- time elapsed = 2842.550484418869 seconds\n",
      "Trace xgbc_random() --- trying hyperparameters = {'n_estimators': 1000, 'max_depth': 8, 'learning_rate': 0.1, 'subsample': 0.8, 'min_child_weight': 10, 'nthread': 1, 'gamma': 3.5, 'colsample_bytree': 0.6}\n",
      "Trace xgbc_random() --- starting new iteration --- time elapsed = 2859.160075187683 seconds\n",
      "Trace xgbc_random() --- trying hyperparameters = {'n_estimators': 500, 'max_depth': 8, 'learning_rate': 0.01, 'subsample': 0.4, 'min_child_weight': 9, 'nthread': 1, 'gamma': 1.5, 'colsample_bytree': 0.9999999999999999}\n",
      "Trace xgbc_random() --- starting new iteration --- time elapsed = 2872.7851400375366 seconds\n",
      "Trace xgbc_random() --- trying hyperparameters = {'n_estimators': 500, 'max_depth': 2, 'learning_rate': 1.0, 'subsample': 0.55, 'min_child_weight': 2, 'nthread': 1, 'gamma': 1.0, 'colsample_bytree': 0.7}\n",
      "Trace xgbc_random() --- starting new iteration --- time elapsed = 2880.458649158478 seconds\n",
      "Trace xgbc_random() --- trying hyperparameters = {'n_estimators': 1000, 'max_depth': 3, 'learning_rate': 0.1, 'subsample': 1.0, 'min_child_weight': 10, 'nthread': 1, 'gamma': 1.0, 'colsample_bytree': 0.7999999999999999}\n",
      "Trace xgbc_random() --- starting new iteration --- time elapsed = 2895.3973598480225 seconds\n",
      "Trace xgbc_random() --- trying hyperparameters = {'n_estimators': 100, 'max_depth': 2, 'learning_rate': 1.0, 'subsample': 0.8, 'min_child_weight': 6, 'nthread': 1, 'gamma': 2.5, 'colsample_bytree': 0.7999999999999999}\n",
      "Trace xgbc_random() --- starting new iteration --- time elapsed = 2896.7298007011414 seconds\n",
      "Trace xgbc_random() --- trying hyperparameters = {'n_estimators': 50, 'max_depth': 10, 'learning_rate': 0.1, 'subsample': 0.8, 'min_child_weight': 4, 'nthread': 1, 'gamma': 5.0, 'colsample_bytree': 0.8999999999999999}\n",
      "Trace xgbc_random() --- starting new iteration --- time elapsed = 2898.550448656082 seconds\n",
      "Trace xgbc_random() --- trying hyperparameters = {'n_estimators': 1000, 'max_depth': 1, 'learning_rate': 0.1, 'subsample': 0.7000000000000001, 'min_child_weight': 19, 'nthread': 1, 'gamma': 2.5, 'colsample_bytree': 0.9999999999999999}\n",
      "Trace xgbc_random() --- starting new iteration --- time elapsed = 2909.1853160858154 seconds\n",
      "Trace xgbc_random() --- trying hyperparameters = {'n_estimators': 1000, 'max_depth': 5, 'learning_rate': 0.5, 'subsample': 0.15000000000000002, 'min_child_weight': 17, 'nthread': 1, 'gamma': 3.0, 'colsample_bytree': 0.6}\n",
      "Trace xgbc_random() --- starting new iteration --- time elapsed = 2914.490339040756 seconds\n",
      "Trace xgbc_random() --- trying hyperparameters = {'n_estimators': 1000, 'max_depth': 8, 'learning_rate': 0.01, 'subsample': 0.45, 'min_child_weight': 2, 'nthread': 1, 'gamma': 4.5, 'colsample_bytree': 0.6}\n",
      "Trace xgbc_random() --- starting new iteration --- time elapsed = 2943.395847797394 seconds\n",
      "Trace xgbc_random() --- trying hyperparameters = {'n_estimators': 500, 'max_depth': 1, 'learning_rate': 0.001, 'subsample': 0.6500000000000001, 'min_child_weight': 19, 'nthread': 1, 'gamma': 2.0, 'colsample_bytree': 0.7999999999999999}\n",
      "Trace xgbc_random() --- starting new iteration --- time elapsed = 2947.761988401413 seconds\n",
      "Trace xgbc_random() --- trying hyperparameters = {'n_estimators': 50, 'max_depth': 7, 'learning_rate': 1.0, 'subsample': 0.8, 'min_child_weight': 1, 'nthread': 1, 'gamma': 5.0, 'colsample_bytree': 0.8999999999999999}\n",
      "Trace xgbc_random() --- starting new iteration --- time elapsed = 2950.291865825653 seconds\n",
      "Trace xgbc_random() --- trying hyperparameters = {'n_estimators': 100, 'max_depth': 3, 'learning_rate': 0.1, 'subsample': 0.7500000000000001, 'min_child_weight': 14, 'nthread': 1, 'gamma': 0.5, 'colsample_bytree': 0.7}\n",
      "Trace xgbc_random() --- starting new iteration --- time elapsed = 2951.8155767917633 seconds\n",
      "Trace xgbc_random() --- trying hyperparameters = {'n_estimators': 50, 'max_depth': 3, 'learning_rate': 0.001, 'subsample': 0.5, 'min_child_weight': 18, 'nthread': 1, 'gamma': 4.5, 'colsample_bytree': 0.7}\n",
      "Trace xgbc_random() --- starting new iteration --- time elapsed = 2952.753648996353 seconds\n",
      "Trace xgbc_random() --- trying hyperparameters = {'n_estimators': 1000, 'max_depth': 8, 'learning_rate': 0.01, 'subsample': 0.5, 'min_child_weight': 15, 'nthread': 1, 'gamma': 5.0, 'colsample_bytree': 0.7}\n",
      "Trace xgbc_random() --- starting new iteration --- time elapsed = 2972.3340442180634 seconds\n",
      "Trace xgbc_random() --- trying hyperparameters = {'n_estimators': 1000, 'max_depth': 4, 'learning_rate': 0.001, 'subsample': 0.25, 'min_child_weight': 5, 'nthread': 1, 'gamma': 2.5, 'colsample_bytree': 0.8999999999999999}\n",
      "Trace xgbc_random() --- starting new iteration --- time elapsed = 2995.221344470978 seconds\n",
      "Trace xgbc_random() --- trying hyperparameters = {'n_estimators': 50, 'max_depth': 5, 'learning_rate': 1.0, 'subsample': 0.8500000000000001, 'min_child_weight': 9, 'nthread': 1, 'gamma': 3.0, 'colsample_bytree': 0.8999999999999999}\n",
      "Trace xgbc_random() --- starting new iteration --- time elapsed = 2996.1072664260864 seconds\n",
      "Trace xgbc_random() --- trying hyperparameters = {'n_estimators': 100, 'max_depth': 8, 'learning_rate': 0.5, 'subsample': 0.05, 'min_child_weight': 15, 'nthread': 1, 'gamma': 1.0, 'colsample_bytree': 0.7999999999999999}\n",
      "Trace xgbc_random() --- starting new iteration --- time elapsed = 2996.5470950603485 seconds\n",
      "Trace xgbc_random() --- trying hyperparameters = {'n_estimators': 50, 'max_depth': 4, 'learning_rate': 0.5, 'subsample': 0.8500000000000001, 'min_child_weight': 4, 'nthread': 1, 'gamma': 2.0, 'colsample_bytree': 0.6}\n",
      "Trace xgbc_random() --- starting new iteration --- time elapsed = 2997.445934534073 seconds\n",
      "Trace xgbc_random() --- trying hyperparameters = {'n_estimators': 1000, 'max_depth': 8, 'learning_rate': 1.0, 'subsample': 0.3, 'min_child_weight': 3, 'nthread': 1, 'gamma': 4.5, 'colsample_bytree': 0.5}\n",
      "Trace xgbc_random() --- starting new iteration --- time elapsed = 3010.0603744983673 seconds\n",
      "Trace xgbc_random() --- trying hyperparameters = {'n_estimators': 1000, 'max_depth': 1, 'learning_rate': 0.1, 'subsample': 0.6500000000000001, 'min_child_weight': 2, 'nthread': 1, 'gamma': 3.5, 'colsample_bytree': 0.8999999999999999}\n",
      "Trace xgbc_random() --- starting new iteration --- time elapsed = 3019.514664173126 seconds\n",
      "Trace xgbc_random() --- trying hyperparameters = {'n_estimators': 500, 'max_depth': 3, 'learning_rate': 0.01, 'subsample': 0.7500000000000001, 'min_child_weight': 10, 'nthread': 1, 'gamma': 5.0, 'colsample_bytree': 0.7999999999999999}\n",
      "Trace xgbc_random() --- starting new iteration --- time elapsed = 3029.3819229602814 seconds\n",
      "Trace xgbc_random() --- trying hyperparameters = {'n_estimators': 50, 'max_depth': 10, 'learning_rate': 1.0, 'subsample': 0.6000000000000001, 'min_child_weight': 19, 'nthread': 1, 'gamma': 2.0, 'colsample_bytree': 0.7999999999999999}\n",
      "Trace xgbc_random() --- starting new iteration --- time elapsed = 3029.9821531772614 seconds\n",
      "Trace xgbc_random() --- trying hyperparameters = {'n_estimators': 50, 'max_depth': 6, 'learning_rate': 1.0, 'subsample': 0.9500000000000001, 'min_child_weight': 7, 'nthread': 1, 'gamma': 2.5, 'colsample_bytree': 0.8999999999999999}\n",
      "Trace xgbc_random() --- starting new iteration --- time elapsed = 3031.323840856552 seconds\n",
      "Trace xgbc_random() --- trying hyperparameters = {'n_estimators': 500, 'max_depth': 6, 'learning_rate': 0.5, 'subsample': 0.8, 'min_child_weight': 15, 'nthread': 1, 'gamma': 0.5, 'colsample_bytree': 0.5}\n"
     ]
    },
    {
     "name": "stdout",
     "output_type": "stream",
     "text": [
      "Trace xgbc_random() --- starting new iteration --- time elapsed = 3034.5897703170776 seconds\n",
      "Trace xgbc_random() --- trying hyperparameters = {'n_estimators': 50, 'max_depth': 7, 'learning_rate': 0.01, 'subsample': 0.8, 'min_child_weight': 1, 'nthread': 1, 'gamma': 2.0, 'colsample_bytree': 0.8999999999999999}\n",
      "Trace xgbc_random() --- starting new iteration --- time elapsed = 3036.651280403137 seconds\n",
      "Trace xgbc_random() --- trying hyperparameters = {'n_estimators': 1000, 'max_depth': 7, 'learning_rate': 0.01, 'subsample': 0.3, 'min_child_weight': 8, 'nthread': 1, 'gamma': 4.0, 'colsample_bytree': 0.9999999999999999}\n",
      "Trace xgbc_random() --- starting new iteration --- time elapsed = 3060.38374710083 seconds\n",
      "Trace xgbc_random() --- trying hyperparameters = {'n_estimators': 1000, 'max_depth': 2, 'learning_rate': 0.01, 'subsample': 0.6500000000000001, 'min_child_weight': 10, 'nthread': 1, 'gamma': 4.5, 'colsample_bytree': 0.7999999999999999}\n",
      "Trace xgbc_random() --- starting new iteration --- time elapsed = 3076.6629400253296 seconds\n",
      "Trace xgbc_random() --- trying hyperparameters = {'n_estimators': 50, 'max_depth': 4, 'learning_rate': 0.5, 'subsample': 0.9500000000000001, 'min_child_weight': 1, 'nthread': 1, 'gamma': 2.0, 'colsample_bytree': 0.9999999999999999}\n",
      "Trace xgbc_random() --- starting new iteration --- time elapsed = 3078.0987203121185 seconds\n",
      "Trace xgbc_random() --- trying hyperparameters = {'n_estimators': 50, 'max_depth': 7, 'learning_rate': 0.001, 'subsample': 0.8500000000000001, 'min_child_weight': 19, 'nthread': 1, 'gamma': 4.0, 'colsample_bytree': 0.6}\n",
      "Trace xgbc_random() --- starting new iteration --- time elapsed = 3079.181882619858 seconds\n",
      "Trace xgbc_random() --- trying hyperparameters = {'n_estimators': 500, 'max_depth': 7, 'learning_rate': 1.0, 'subsample': 0.9500000000000001, 'min_child_weight': 14, 'nthread': 1, 'gamma': 3.5, 'colsample_bytree': 0.7}\n",
      "Trace xgbc_random() --- starting new iteration --- time elapsed = 3084.7384836673737 seconds\n",
      "Trace xgbc_random() --- trying hyperparameters = {'n_estimators': 1000, 'max_depth': 4, 'learning_rate': 0.001, 'subsample': 0.8, 'min_child_weight': 1, 'nthread': 1, 'gamma': 0.0, 'colsample_bytree': 0.7}\n",
      "Trace xgbc_random() --- starting new iteration --- time elapsed = 3109.827199935913 seconds\n",
      "Trace xgbc_random() --- trying hyperparameters = {'n_estimators': 100, 'max_depth': 6, 'learning_rate': 0.1, 'subsample': 0.4, 'min_child_weight': 16, 'nthread': 1, 'gamma': 0.0, 'colsample_bytree': 0.9999999999999999}\n",
      "Trace xgbc_random() --- starting new iteration --- time elapsed = 3111.804943561554 seconds\n",
      "Trace xgbc_random() --- trying hyperparameters = {'n_estimators': 1000, 'max_depth': 2, 'learning_rate': 0.01, 'subsample': 0.9500000000000001, 'min_child_weight': 20, 'nthread': 1, 'gamma': 0.0, 'colsample_bytree': 0.8999999999999999}\n",
      "Trace xgbc_random() --- starting new iteration --- time elapsed = 3126.1220378875732 seconds\n",
      "Trace xgbc_random() --- trying hyperparameters = {'n_estimators': 500, 'max_depth': 5, 'learning_rate': 0.1, 'subsample': 0.15000000000000002, 'min_child_weight': 17, 'nthread': 1, 'gamma': 5.0, 'colsample_bytree': 0.7999999999999999}\n",
      "Trace xgbc_random() --- starting new iteration --- time elapsed = 3129.485908508301 seconds\n",
      "Trace xgbc_random() --- trying hyperparameters = {'n_estimators': 1000, 'max_depth': 9, 'learning_rate': 0.1, 'subsample': 0.1, 'min_child_weight': 9, 'nthread': 1, 'gamma': 0.5, 'colsample_bytree': 0.6}\n",
      "Trace xgbc_random() --- starting new iteration --- time elapsed = 3134.724909543991 seconds\n",
      "Trace xgbc_random() --- trying hyperparameters = {'n_estimators': 500, 'max_depth': 5, 'learning_rate': 0.01, 'subsample': 0.8500000000000001, 'min_child_weight': 14, 'nthread': 1, 'gamma': 4.0, 'colsample_bytree': 0.9999999999999999}\n",
      "Trace xgbc_random() --- starting new iteration --- time elapsed = 3149.952454328537 seconds\n",
      "Trace xgbc_random() --- trying hyperparameters = {'n_estimators': 50, 'max_depth': 4, 'learning_rate': 0.1, 'subsample': 0.05, 'min_child_weight': 11, 'nthread': 1, 'gamma': 1.5, 'colsample_bytree': 0.7999999999999999}\n",
      "Trace xgbc_random() --- starting new iteration --- time elapsed = 3150.1799030303955 seconds\n",
      "Trace xgbc_random() --- trying hyperparameters = {'n_estimators': 50, 'max_depth': 7, 'learning_rate': 0.001, 'subsample': 0.3, 'min_child_weight': 3, 'nthread': 1, 'gamma': 4.0, 'colsample_bytree': 0.9999999999999999}\n",
      "Trace xgbc_random() --- starting new iteration --- time elapsed = 3151.625849723816 seconds\n",
      "Trace xgbc_random() --- trying hyperparameters = {'n_estimators': 100, 'max_depth': 2, 'learning_rate': 0.1, 'subsample': 0.45, 'min_child_weight': 9, 'nthread': 1, 'gamma': 4.0, 'colsample_bytree': 0.7999999999999999}\n",
      "Trace xgbc_random() --- starting new iteration --- time elapsed = 3153.1826741695404 seconds\n",
      "Trace xgbc_random() --- trying hyperparameters = {'n_estimators': 1000, 'max_depth': 6, 'learning_rate': 0.01, 'subsample': 0.05, 'min_child_weight': 8, 'nthread': 1, 'gamma': 3.5, 'colsample_bytree': 0.9999999999999999}\n",
      "Trace xgbc_random() --- starting new iteration --- time elapsed = 3158.3069899082184 seconds\n",
      "Trace xgbc_random() --- trying hyperparameters = {'n_estimators': 50, 'max_depth': 10, 'learning_rate': 0.01, 'subsample': 0.6000000000000001, 'min_child_weight': 8, 'nthread': 1, 'gamma': 4.0, 'colsample_bytree': 0.5}\n",
      "Trace xgbc_random() --- starting new iteration --- time elapsed = 3159.384071826935 seconds\n",
      "Trace xgbc_random() --- trying hyperparameters = {'n_estimators': 500, 'max_depth': 5, 'learning_rate': 0.5, 'subsample': 1.0, 'min_child_weight': 16, 'nthread': 1, 'gamma': 0.5, 'colsample_bytree': 0.5}\n",
      "Trace xgbc_random() --- starting new iteration --- time elapsed = 3162.708523273468 seconds\n",
      "Trace xgbc_random() --- trying hyperparameters = {'n_estimators': 1000, 'max_depth': 2, 'learning_rate': 0.1, 'subsample': 0.4, 'min_child_weight': 2, 'nthread': 1, 'gamma': 4.0, 'colsample_bytree': 0.7}\n",
      "Trace xgbc_random() --- starting new iteration --- time elapsed = 3175.657676935196 seconds\n",
      "Trace xgbc_random() --- trying hyperparameters = {'n_estimators': 100, 'max_depth': 9, 'learning_rate': 0.001, 'subsample': 0.25, 'min_child_weight': 6, 'nthread': 1, 'gamma': 5.0, 'colsample_bytree': 0.9999999999999999}\n",
      "Trace xgbc_random() --- starting new iteration --- time elapsed = 3177.665691614151 seconds\n",
      "Trace xgbc_random() --- trying hyperparameters = {'n_estimators': 1000, 'max_depth': 9, 'learning_rate': 1.0, 'subsample': 0.7500000000000001, 'min_child_weight': 3, 'nthread': 1, 'gamma': 5.0, 'colsample_bytree': 0.7}\n",
      "Trace xgbc_random() --- starting new iteration --- time elapsed = 3202.0909979343414 seconds\n",
      "Trace xgbc_random() --- trying hyperparameters = {'n_estimators': 50, 'max_depth': 3, 'learning_rate': 0.001, 'subsample': 0.45, 'min_child_weight': 19, 'nthread': 1, 'gamma': 0.0, 'colsample_bytree': 0.7}\n",
      "Trace xgbc_random() --- starting new iteration --- time elapsed = 3202.969979286194 seconds\n",
      "Trace xgbc_random() --- trying hyperparameters = {'n_estimators': 50, 'max_depth': 5, 'learning_rate': 1.0, 'subsample': 0.05, 'min_child_weight': 13, 'nthread': 1, 'gamma': 4.0, 'colsample_bytree': 0.9999999999999999}\n",
      "Trace xgbc_random() --- starting new iteration --- time elapsed = 3203.213094472885 seconds\n",
      "Trace xgbc_random() --- trying hyperparameters = {'n_estimators': 500, 'max_depth': 3, 'learning_rate': 0.01, 'subsample': 0.7500000000000001, 'min_child_weight': 1, 'nthread': 1, 'gamma': 1.5, 'colsample_bytree': 0.5}\n",
      "Trace xgbc_random() --- starting new iteration --- time elapsed = 3210.039588212967 seconds\n",
      "Trace xgbc_random() --- trying hyperparameters = {'n_estimators': 50, 'max_depth': 1, 'learning_rate': 0.1, 'subsample': 0.05, 'min_child_weight': 1, 'nthread': 1, 'gamma': 0.5, 'colsample_bytree': 0.7999999999999999}\n",
      "Trace xgbc_random() --- starting new iteration --- time elapsed = 3210.2798614501953 seconds\n",
      "Trace xgbc_random() --- trying hyperparameters = {'n_estimators': 100, 'max_depth': 5, 'learning_rate': 1.0, 'subsample': 0.1, 'min_child_weight': 14, 'nthread': 1, 'gamma': 3.0, 'colsample_bytree': 0.9999999999999999}\n",
      "Trace xgbc_random() --- starting new iteration --- time elapsed = 3210.8490455150604 seconds\n",
      "Trace xgbc_random() --- trying hyperparameters = {'n_estimators': 1000, 'max_depth': 4, 'learning_rate': 0.01, 'subsample': 0.7000000000000001, 'min_child_weight': 5, 'nthread': 1, 'gamma': 0.5, 'colsample_bytree': 0.7999999999999999}\n"
     ]
    },
    {
     "name": "stdout",
     "output_type": "stream",
     "text": [
      "Trace xgbc_random() --- starting new iteration --- time elapsed = 3232.9669358730316 seconds\n",
      "Trace xgbc_random() --- trying hyperparameters = {'n_estimators': 1000, 'max_depth': 10, 'learning_rate': 1.0, 'subsample': 0.9000000000000001, 'min_child_weight': 15, 'nthread': 1, 'gamma': 2.5, 'colsample_bytree': 0.8999999999999999}\n",
      "Trace xgbc_random() --- starting new iteration --- time elapsed = 3243.7945132255554 seconds\n",
      "Trace xgbc_random() --- trying hyperparameters = {'n_estimators': 50, 'max_depth': 4, 'learning_rate': 0.01, 'subsample': 0.55, 'min_child_weight': 12, 'nthread': 1, 'gamma': 0.0, 'colsample_bytree': 0.9999999999999999}\n",
      "Trace xgbc_random() --- starting new iteration --- time elapsed = 3245.3997564315796 seconds\n",
      "Trace xgbc_random() --- trying hyperparameters = {'n_estimators': 50, 'max_depth': 3, 'learning_rate': 1.0, 'subsample': 0.6500000000000001, 'min_child_weight': 10, 'nthread': 1, 'gamma': 4.0, 'colsample_bytree': 0.8999999999999999}\n",
      "Trace xgbc_random() --- starting new iteration --- time elapsed = 3246.2847061157227 seconds\n",
      "Trace xgbc_random() --- trying hyperparameters = {'n_estimators': 100, 'max_depth': 5, 'learning_rate': 0.5, 'subsample': 0.5, 'min_child_weight': 5, 'nthread': 1, 'gamma': 3.5, 'colsample_bytree': 0.5}\n",
      "Trace xgbc_random() --- starting new iteration --- time elapsed = 3247.9849894046783 seconds\n",
      "Trace xgbc_random() --- trying hyperparameters = {'n_estimators': 50, 'max_depth': 1, 'learning_rate': 0.1, 'subsample': 1.0, 'min_child_weight': 12, 'nthread': 1, 'gamma': 1.5, 'colsample_bytree': 0.9999999999999999}\n",
      "Trace xgbc_random() --- starting new iteration --- time elapsed = 3248.344774246216 seconds\n",
      "Trace xgbc_random() --- trying hyperparameters = {'n_estimators': 50, 'max_depth': 2, 'learning_rate': 1.0, 'subsample': 0.1, 'min_child_weight': 15, 'nthread': 1, 'gamma': 4.0, 'colsample_bytree': 0.7}\n",
      "Trace xgbc_random() --- starting new iteration --- time elapsed = 3248.571288585663 seconds\n",
      "Trace xgbc_random() --- trying hyperparameters = {'n_estimators': 500, 'max_depth': 9, 'learning_rate': 1.0, 'subsample': 0.5, 'min_child_weight': 3, 'nthread': 1, 'gamma': 1.0, 'colsample_bytree': 0.7}\n",
      "Trace xgbc_random() --- starting new iteration --- time elapsed = 3255.1395061016083 seconds\n",
      "Trace xgbc_random() --- trying hyperparameters = {'n_estimators': 100, 'max_depth': 7, 'learning_rate': 1.0, 'subsample': 0.6500000000000001, 'min_child_weight': 18, 'nthread': 1, 'gamma': 2.5, 'colsample_bytree': 0.7}\n",
      "Trace xgbc_random() --- starting new iteration --- time elapsed = 3256.113088607788 seconds\n",
      "Trace xgbc_random() --- trying hyperparameters = {'n_estimators': 1000, 'max_depth': 3, 'learning_rate': 0.001, 'subsample': 0.4, 'min_child_weight': 13, 'nthread': 1, 'gamma': 0.5, 'colsample_bytree': 0.8999999999999999}\n",
      "Trace xgbc_random() --- starting new iteration --- time elapsed = 3277.9881513118744 seconds\n",
      "Trace xgbc_random() --- trying hyperparameters = {'n_estimators': 500, 'max_depth': 7, 'learning_rate': 0.01, 'subsample': 0.7000000000000001, 'min_child_weight': 15, 'nthread': 1, 'gamma': 0.5, 'colsample_bytree': 0.7}\n",
      "Trace xgbc_random() --- starting new iteration --- time elapsed = 3287.956331729889 seconds\n",
      "Trace xgbc_random() --- trying hyperparameters = {'n_estimators': 1000, 'max_depth': 4, 'learning_rate': 0.001, 'subsample': 0.7500000000000001, 'min_child_weight': 13, 'nthread': 1, 'gamma': 4.5, 'colsample_bytree': 0.9999999999999999}\n",
      "Trace xgbc_random() --- starting new iteration --- time elapsed = 3314.772237062454 seconds\n",
      "Trace xgbc_random() --- trying hyperparameters = {'n_estimators': 50, 'max_depth': 9, 'learning_rate': 0.5, 'subsample': 0.6500000000000001, 'min_child_weight': 4, 'nthread': 1, 'gamma': 1.5, 'colsample_bytree': 0.6}\n",
      "Trace xgbc_random() --- starting new iteration --- time elapsed = 3315.6031999588013 seconds\n",
      "Trace xgbc_random() --- trying hyperparameters = {'n_estimators': 50, 'max_depth': 4, 'learning_rate': 0.5, 'subsample': 0.9000000000000001, 'min_child_weight': 16, 'nthread': 1, 'gamma': 2.0, 'colsample_bytree': 0.7999999999999999}\n",
      "Trace xgbc_random() --- starting new iteration --- time elapsed = 3316.212143421173 seconds\n",
      "Trace xgbc_random() --- trying hyperparameters = {'n_estimators': 50, 'max_depth': 2, 'learning_rate': 0.01, 'subsample': 0.05, 'min_child_weight': 1, 'nthread': 1, 'gamma': 0.5, 'colsample_bytree': 0.5}\n",
      "Trace xgbc_random() --- starting new iteration --- time elapsed = 3316.4661061763763 seconds\n",
      "Trace xgbc_random() --- trying hyperparameters = {'n_estimators': 1000, 'max_depth': 1, 'learning_rate': 1.0, 'subsample': 0.9000000000000001, 'min_child_weight': 5, 'nthread': 1, 'gamma': 1.5, 'colsample_bytree': 0.5}\n",
      "Trace xgbc_random() --- starting new iteration --- time elapsed = 3320.909336566925 seconds\n",
      "Trace xgbc_random() --- trying hyperparameters = {'n_estimators': 100, 'max_depth': 9, 'learning_rate': 0.001, 'subsample': 0.55, 'min_child_weight': 5, 'nthread': 1, 'gamma': 1.0, 'colsample_bytree': 0.8999999999999999}\n",
      "Trace xgbc_random() --- starting new iteration --- time elapsed = 3324.015700817108 seconds\n",
      "Trace xgbc_random() --- trying hyperparameters = {'n_estimators': 50, 'max_depth': 9, 'learning_rate': 0.5, 'subsample': 0.9000000000000001, 'min_child_weight': 8, 'nthread': 1, 'gamma': 3.0, 'colsample_bytree': 0.8999999999999999}\n",
      "Trace xgbc_random() --- starting new iteration --- time elapsed = 3325.0452620983124 seconds\n",
      "Trace xgbc_random() --- trying hyperparameters = {'n_estimators': 500, 'max_depth': 6, 'learning_rate': 0.5, 'subsample': 0.3, 'min_child_weight': 16, 'nthread': 1, 'gamma': 4.0, 'colsample_bytree': 0.7}\n",
      "Trace xgbc_random() --- starting new iteration --- time elapsed = 3328.4513235092163 seconds\n",
      "Trace xgbc_random() --- trying hyperparameters = {'n_estimators': 100, 'max_depth': 7, 'learning_rate': 1.0, 'subsample': 0.25, 'min_child_weight': 2, 'nthread': 1, 'gamma': 3.0, 'colsample_bytree': 0.5}\n",
      "Trace xgbc_random() --- starting new iteration --- time elapsed = 3329.4132509231567 seconds\n",
      "Trace xgbc_random() --- trying hyperparameters = {'n_estimators': 500, 'max_depth': 7, 'learning_rate': 0.01, 'subsample': 0.4, 'min_child_weight': 4, 'nthread': 1, 'gamma': 1.5, 'colsample_bytree': 0.7}\n",
      "Trace xgbc_random() --- starting new iteration --- time elapsed = 3339.7339363098145 seconds\n",
      "Trace xgbc_random() --- trying hyperparameters = {'n_estimators': 100, 'max_depth': 6, 'learning_rate': 0.001, 'subsample': 0.7500000000000001, 'min_child_weight': 20, 'nthread': 1, 'gamma': 1.0, 'colsample_bytree': 0.6}\n",
      "Trace xgbc_random() --- starting new iteration --- time elapsed = 3341.3016922473907 seconds\n",
      "Trace xgbc_random() --- trying hyperparameters = {'n_estimators': 100, 'max_depth': 7, 'learning_rate': 1.0, 'subsample': 0.4, 'min_child_weight': 15, 'nthread': 1, 'gamma': 1.5, 'colsample_bytree': 0.6}\n",
      "Trace xgbc_random() --- starting new iteration --- time elapsed = 3342.000006914139 seconds\n",
      "Trace xgbc_random() --- trying hyperparameters = {'n_estimators': 100, 'max_depth': 8, 'learning_rate': 0.5, 'subsample': 0.1, 'min_child_weight': 19, 'nthread': 1, 'gamma': 1.0, 'colsample_bytree': 0.7}\n",
      "Trace xgbc_random() --- starting new iteration --- time elapsed = 3342.3957753181458 seconds\n",
      "Trace xgbc_random() --- trying hyperparameters = {'n_estimators': 1000, 'max_depth': 1, 'learning_rate': 0.1, 'subsample': 0.8, 'min_child_weight': 8, 'nthread': 1, 'gamma': 4.5, 'colsample_bytree': 0.7}\n",
      "Trace xgbc_random() --- starting new iteration --- time elapsed = 3348.2129669189453 seconds\n",
      "Trace xgbc_random() --- trying hyperparameters = {'n_estimators': 1000, 'max_depth': 10, 'learning_rate': 0.5, 'subsample': 0.7000000000000001, 'min_child_weight': 4, 'nthread': 1, 'gamma': 4.0, 'colsample_bytree': 0.9999999999999999}\n",
      "Trace xgbc_random() --- starting new iteration --- time elapsed = 3378.316296339035 seconds\n",
      "Trace xgbc_random() --- trying hyperparameters = {'n_estimators': 1000, 'max_depth': 10, 'learning_rate': 0.5, 'subsample': 0.7000000000000001, 'min_child_weight': 3, 'nthread': 1, 'gamma': 2.0, 'colsample_bytree': 0.7999999999999999}\n",
      "Trace xgbc_random() --- starting new iteration --- time elapsed = 3400.7425050735474 seconds\n",
      "Trace xgbc_random() --- trying hyperparameters = {'n_estimators': 1000, 'max_depth': 2, 'learning_rate': 0.5, 'subsample': 0.45, 'min_child_weight': 7, 'nthread': 1, 'gamma': 4.5, 'colsample_bytree': 0.6}\n"
     ]
    },
    {
     "name": "stdout",
     "output_type": "stream",
     "text": [
      "Trace xgbc_random() --- starting new iteration --- time elapsed = 3411.3257195949554 seconds\n",
      "Trace xgbc_random() --- trying hyperparameters = {'n_estimators': 500, 'max_depth': 3, 'learning_rate': 0.1, 'subsample': 0.45, 'min_child_weight': 4, 'nthread': 1, 'gamma': 4.5, 'colsample_bytree': 0.8999999999999999}\n",
      "Trace xgbc_random() --- starting new iteration --- time elapsed = 3420.4254195690155 seconds\n",
      "Trace xgbc_random() --- trying hyperparameters = {'n_estimators': 50, 'max_depth': 9, 'learning_rate': 0.001, 'subsample': 0.6500000000000001, 'min_child_weight': 9, 'nthread': 1, 'gamma': 3.5, 'colsample_bytree': 0.7999999999999999}\n",
      "Trace xgbc_random() --- starting new iteration --- time elapsed = 3421.514541387558 seconds\n",
      "Trace xgbc_random() --- trying hyperparameters = {'n_estimators': 100, 'max_depth': 2, 'learning_rate': 1.0, 'subsample': 0.8, 'min_child_weight': 11, 'nthread': 1, 'gamma': 1.5, 'colsample_bytree': 0.7999999999999999}\n",
      "Trace xgbc_random() --- starting new iteration --- time elapsed = 3422.278293132782 seconds\n",
      "Trace xgbc_random() --- trying hyperparameters = {'n_estimators': 1000, 'max_depth': 5, 'learning_rate': 0.1, 'subsample': 0.05, 'min_child_weight': 6, 'nthread': 1, 'gamma': 2.0, 'colsample_bytree': 0.7999999999999999}\n",
      "Trace xgbc_random() --- starting new iteration --- time elapsed = 3425.7562279701233 seconds\n",
      "Trace xgbc_random() --- trying hyperparameters = {'n_estimators': 50, 'max_depth': 2, 'learning_rate': 1.0, 'subsample': 0.05, 'min_child_weight': 2, 'nthread': 1, 'gamma': 2.5, 'colsample_bytree': 0.8999999999999999}\n",
      "Trace xgbc_random() --- starting new iteration --- time elapsed = 3426.0082812309265 seconds\n",
      "Trace xgbc_random() --- trying hyperparameters = {'n_estimators': 1000, 'max_depth': 7, 'learning_rate': 0.01, 'subsample': 0.05, 'min_child_weight': 11, 'nthread': 1, 'gamma': 3.5, 'colsample_bytree': 0.8999999999999999}\n",
      "Trace xgbc_random() --- starting new iteration --- time elapsed = 3429.6707694530487 seconds\n",
      "Trace xgbc_random() --- trying hyperparameters = {'n_estimators': 100, 'max_depth': 9, 'learning_rate': 0.001, 'subsample': 0.7500000000000001, 'min_child_weight': 16, 'nthread': 1, 'gamma': 1.0, 'colsample_bytree': 0.6}\n",
      "Trace xgbc_random() --- starting new iteration --- time elapsed = 3431.121144771576 seconds\n",
      "Trace xgbc_random() --- trying hyperparameters = {'n_estimators': 1000, 'max_depth': 3, 'learning_rate': 0.001, 'subsample': 0.25, 'min_child_weight': 4, 'nthread': 1, 'gamma': 3.5, 'colsample_bytree': 0.7}\n",
      "Trace xgbc_random() --- starting new iteration --- time elapsed = 3442.684240102768 seconds\n",
      "Trace xgbc_random() --- trying hyperparameters = {'n_estimators': 50, 'max_depth': 7, 'learning_rate': 0.5, 'subsample': 0.8500000000000001, 'min_child_weight': 20, 'nthread': 1, 'gamma': 1.5, 'colsample_bytree': 0.5}\n",
      "Trace xgbc_random() --- starting new iteration --- time elapsed = 3443.025096654892 seconds\n",
      "Trace xgbc_random() --- trying hyperparameters = {'n_estimators': 50, 'max_depth': 6, 'learning_rate': 1.0, 'subsample': 0.45, 'min_child_weight': 16, 'nthread': 1, 'gamma': 4.5, 'colsample_bytree': 0.9999999999999999}\n",
      "Trace xgbc_random() --- starting new iteration --- time elapsed = 3443.608344078064 seconds\n",
      "Trace xgbc_random() --- trying hyperparameters = {'n_estimators': 100, 'max_depth': 5, 'learning_rate': 0.001, 'subsample': 0.7500000000000001, 'min_child_weight': 5, 'nthread': 1, 'gamma': 1.5, 'colsample_bytree': 0.9999999999999999}\n",
      "Trace xgbc_random() --- starting new iteration --- time elapsed = 3446.422551870346 seconds\n",
      "Trace xgbc_random() --- trying hyperparameters = {'n_estimators': 100, 'max_depth': 9, 'learning_rate': 0.1, 'subsample': 0.8, 'min_child_weight': 6, 'nthread': 1, 'gamma': 1.5, 'colsample_bytree': 0.7}\n",
      "Trace xgbc_random() --- starting new iteration --- time elapsed = 3448.122554540634 seconds\n",
      "Trace xgbc_random() --- trying hyperparameters = {'n_estimators': 100, 'max_depth': 10, 'learning_rate': 0.01, 'subsample': 0.6000000000000001, 'min_child_weight': 16, 'nthread': 1, 'gamma': 0.0, 'colsample_bytree': 0.5}\n",
      "Trace xgbc_random() --- starting new iteration --- time elapsed = 3449.4388933181763 seconds\n",
      "Trace xgbc_random() --- trying hyperparameters = {'n_estimators': 50, 'max_depth': 4, 'learning_rate': 0.1, 'subsample': 0.9500000000000001, 'min_child_weight': 8, 'nthread': 1, 'gamma': 1.0, 'colsample_bytree': 0.8999999999999999}\n",
      "Trace xgbc_random() --- starting new iteration --- time elapsed = 3450.3705484867096 seconds\n",
      "Trace xgbc_random() --- trying hyperparameters = {'n_estimators': 50, 'max_depth': 1, 'learning_rate': 0.01, 'subsample': 0.05, 'min_child_weight': 12, 'nthread': 1, 'gamma': 0.0, 'colsample_bytree': 0.7999999999999999}\n",
      "Trace xgbc_random() --- starting new iteration --- time elapsed = 3450.543905735016 seconds\n",
      "Trace xgbc_random() --- trying hyperparameters = {'n_estimators': 50, 'max_depth': 10, 'learning_rate': 1.0, 'subsample': 0.15000000000000002, 'min_child_weight': 7, 'nthread': 1, 'gamma': 2.5, 'colsample_bytree': 0.7999999999999999}\n",
      "Trace xgbc_random() --- starting new iteration --- time elapsed = 3450.8104243278503 seconds\n",
      "Trace xgbc_random() --- trying hyperparameters = {'n_estimators': 100, 'max_depth': 2, 'learning_rate': 1.0, 'subsample': 0.25, 'min_child_weight': 12, 'nthread': 1, 'gamma': 1.0, 'colsample_bytree': 0.7}\n",
      "Trace xgbc_random() --- starting new iteration --- time elapsed = 3451.3208305835724 seconds\n",
      "Trace xgbc_random() --- trying hyperparameters = {'n_estimators': 500, 'max_depth': 6, 'learning_rate': 0.5, 'subsample': 0.7000000000000001, 'min_child_weight': 9, 'nthread': 1, 'gamma': 4.5, 'colsample_bytree': 0.7}\n",
      "Trace xgbc_random() --- starting new iteration --- time elapsed = 3458.3396949768066 seconds\n",
      "Trace xgbc_random() --- trying hyperparameters = {'n_estimators': 100, 'max_depth': 4, 'learning_rate': 1.0, 'subsample': 0.25, 'min_child_weight': 11, 'nthread': 1, 'gamma': 3.0, 'colsample_bytree': 0.7}\n",
      "Trace xgbc_random() --- starting new iteration --- time elapsed = 3458.890794992447 seconds\n",
      "Trace xgbc_random() --- trying hyperparameters = {'n_estimators': 100, 'max_depth': 1, 'learning_rate': 1.0, 'subsample': 0.3, 'min_child_weight': 19, 'nthread': 1, 'gamma': 1.0, 'colsample_bytree': 0.9999999999999999}\n",
      "Trace xgbc_random() --- starting new iteration --- time elapsed = 3459.541375875473 seconds\n",
      "Trace xgbc_random() --- trying hyperparameters = {'n_estimators': 1000, 'max_depth': 10, 'learning_rate': 1.0, 'subsample': 0.2, 'min_child_weight': 5, 'nthread': 1, 'gamma': 2.5, 'colsample_bytree': 0.5}\n",
      "Trace xgbc_random() --- starting new iteration --- time elapsed = 3463.3614315986633 seconds\n",
      "Trace xgbc_random() --- trying hyperparameters = {'n_estimators': 100, 'max_depth': 10, 'learning_rate': 1.0, 'subsample': 0.6500000000000001, 'min_child_weight': 10, 'nthread': 1, 'gamma': 2.5, 'colsample_bytree': 0.8999999999999999}\n",
      "Trace xgbc_random() --- starting new iteration --- time elapsed = 3464.477813243866 seconds\n",
      "Trace xgbc_random() --- trying hyperparameters = {'n_estimators': 100, 'max_depth': 10, 'learning_rate': 0.5, 'subsample': 0.9500000000000001, 'min_child_weight': 15, 'nthread': 1, 'gamma': 1.5, 'colsample_bytree': 0.8999999999999999}\n",
      "Trace xgbc_random() --- starting new iteration --- time elapsed = 3465.47833776474 seconds\n",
      "Trace xgbc_random() --- trying hyperparameters = {'n_estimators': 1000, 'max_depth': 6, 'learning_rate': 0.001, 'subsample': 0.25, 'min_child_weight': 18, 'nthread': 1, 'gamma': 0.0, 'colsample_bytree': 0.8999999999999999}\n",
      "Trace xgbc_random() --- starting new iteration --- time elapsed = 3476.464711666107 seconds\n",
      "Trace xgbc_random() --- trying hyperparameters = {'n_estimators': 100, 'max_depth': 4, 'learning_rate': 0.001, 'subsample': 0.9000000000000001, 'min_child_weight': 10, 'nthread': 1, 'gamma': 3.5, 'colsample_bytree': 0.7}\n",
      "Trace xgbc_random() --- starting new iteration --- time elapsed = 3478.003031015396 seconds\n",
      "Trace xgbc_random() --- trying hyperparameters = {'n_estimators': 500, 'max_depth': 5, 'learning_rate': 0.001, 'subsample': 0.7500000000000001, 'min_child_weight': 17, 'nthread': 1, 'gamma': 3.5, 'colsample_bytree': 0.7999999999999999}\n",
      "Trace xgbc_random() --- starting new iteration --- time elapsed = 3487.328939437866 seconds\n",
      "Trace xgbc_random() --- trying hyperparameters = {'n_estimators': 100, 'max_depth': 5, 'learning_rate': 0.5, 'subsample': 1.0, 'min_child_weight': 9, 'nthread': 1, 'gamma': 1.0, 'colsample_bytree': 0.6}\n"
     ]
    },
    {
     "name": "stdout",
     "output_type": "stream",
     "text": [
      "Trace xgbc_random() --- starting new iteration --- time elapsed = 3488.16956615448 seconds\n",
      "Trace xgbc_random() --- trying hyperparameters = {'n_estimators': 500, 'max_depth': 1, 'learning_rate': 0.01, 'subsample': 0.35000000000000003, 'min_child_weight': 2, 'nthread': 1, 'gamma': 0.0, 'colsample_bytree': 0.9999999999999999}\n",
      "Trace xgbc_random() --- starting new iteration --- time elapsed = 3491.4951190948486 seconds\n",
      "Trace xgbc_random() --- trying hyperparameters = {'n_estimators': 100, 'max_depth': 9, 'learning_rate': 0.1, 'subsample': 0.6000000000000001, 'min_child_weight': 2, 'nthread': 1, 'gamma': 5.0, 'colsample_bytree': 0.7}\n",
      "Trace xgbc_random() --- starting new iteration --- time elapsed = 3493.6419575214386 seconds\n",
      "Trace xgbc_random() --- trying hyperparameters = {'n_estimators': 1000, 'max_depth': 4, 'learning_rate': 1.0, 'subsample': 0.05, 'min_child_weight': 13, 'nthread': 1, 'gamma': 3.5, 'colsample_bytree': 0.7999999999999999}\n",
      "Trace xgbc_random() --- starting new iteration --- time elapsed = 3496.3350780010223 seconds\n",
      "Trace xgbc_random() --- trying hyperparameters = {'n_estimators': 50, 'max_depth': 8, 'learning_rate': 0.5, 'subsample': 0.1, 'min_child_weight': 7, 'nthread': 1, 'gamma': 2.5, 'colsample_bytree': 0.5}\n",
      "Trace xgbc_random() --- starting new iteration --- time elapsed = 3496.491413116455 seconds\n",
      "Trace xgbc_random() --- trying hyperparameters = {'n_estimators': 100, 'max_depth': 9, 'learning_rate': 0.1, 'subsample': 0.9000000000000001, 'min_child_weight': 15, 'nthread': 1, 'gamma': 0.0, 'colsample_bytree': 0.8999999999999999}\n",
      "Trace xgbc_random() --- starting new iteration --- time elapsed = 3497.722147464752 seconds\n",
      "Trace xgbc_random() --- trying hyperparameters = {'n_estimators': 100, 'max_depth': 1, 'learning_rate': 1.0, 'subsample': 0.15000000000000002, 'min_child_weight': 18, 'nthread': 1, 'gamma': 4.5, 'colsample_bytree': 0.5}\n",
      "Trace xgbc_random() --- starting new iteration --- time elapsed = 3497.9883382320404 seconds\n",
      "Trace xgbc_random() --- trying hyperparameters = {'n_estimators': 100, 'max_depth': 3, 'learning_rate': 1.0, 'subsample': 0.6000000000000001, 'min_child_weight': 14, 'nthread': 1, 'gamma': 4.5, 'colsample_bytree': 0.8999999999999999}\n",
      "Trace xgbc_random() --- starting new iteration --- time elapsed = 3498.9643716812134 seconds\n",
      "Trace xgbc_random() --- trying hyperparameters = {'n_estimators': 50, 'max_depth': 8, 'learning_rate': 0.001, 'subsample': 0.6500000000000001, 'min_child_weight': 11, 'nthread': 1, 'gamma': 0.0, 'colsample_bytree': 0.6}\n",
      "Trace xgbc_random() --- starting new iteration --- time elapsed = 3499.6432917118073 seconds\n",
      "Trace xgbc_random() --- trying hyperparameters = {'n_estimators': 1000, 'max_depth': 2, 'learning_rate': 0.5, 'subsample': 0.6500000000000001, 'min_child_weight': 8, 'nthread': 1, 'gamma': 3.5, 'colsample_bytree': 0.6}\n",
      "Trace xgbc_random() --- starting new iteration --- time elapsed = 3506.868633747101 seconds\n",
      "Trace xgbc_random() --- trying hyperparameters = {'n_estimators': 1000, 'max_depth': 5, 'learning_rate': 0.1, 'subsample': 0.35000000000000003, 'min_child_weight': 2, 'nthread': 1, 'gamma': 4.0, 'colsample_bytree': 0.7}\n",
      "Trace xgbc_random() --- starting new iteration --- time elapsed = 3520.8212237358093 seconds\n",
      "Trace xgbc_random() --- trying hyperparameters = {'n_estimators': 100, 'max_depth': 1, 'learning_rate': 1.0, 'subsample': 0.6000000000000001, 'min_child_weight': 20, 'nthread': 1, 'gamma': 3.0, 'colsample_bytree': 0.5}\n",
      "Trace xgbc_random() --- starting new iteration --- time elapsed = 3521.210395336151 seconds\n",
      "Trace xgbc_random() --- trying hyperparameters = {'n_estimators': 50, 'max_depth': 3, 'learning_rate': 0.5, 'subsample': 0.4, 'min_child_weight': 19, 'nthread': 1, 'gamma': 3.5, 'colsample_bytree': 0.9999999999999999}\n",
      "Trace xgbc_random() --- starting new iteration --- time elapsed = 3521.679452896118 seconds\n",
      "Trace xgbc_random() --- trying hyperparameters = {'n_estimators': 50, 'max_depth': 8, 'learning_rate': 0.1, 'subsample': 0.5, 'min_child_weight': 20, 'nthread': 1, 'gamma': 3.5, 'colsample_bytree': 0.7999999999999999}\n",
      "Trace xgbc_random() --- starting new iteration --- time elapsed = 3522.3085136413574 seconds\n",
      "Trace xgbc_random() --- trying hyperparameters = {'n_estimators': 500, 'max_depth': 6, 'learning_rate': 0.5, 'subsample': 0.7500000000000001, 'min_child_weight': 4, 'nthread': 1, 'gamma': 0.5, 'colsample_bytree': 0.7}\n",
      "Trace xgbc_random() --- starting new iteration --- time elapsed = 3526.1638555526733 seconds\n",
      "Trace xgbc_random() --- trying hyperparameters = {'n_estimators': 50, 'max_depth': 8, 'learning_rate': 0.1, 'subsample': 0.25, 'min_child_weight': 17, 'nthread': 1, 'gamma': 2.0, 'colsample_bytree': 0.5}\n",
      "Trace xgbc_random() --- starting new iteration --- time elapsed = 3526.4447882175446 seconds\n",
      "Trace xgbc_random() --- trying hyperparameters = {'n_estimators': 50, 'max_depth': 10, 'learning_rate': 0.001, 'subsample': 0.35000000000000003, 'min_child_weight': 1, 'nthread': 1, 'gamma': 5.0, 'colsample_bytree': 0.7999999999999999}\n",
      "Trace xgbc_random() --- starting new iteration --- time elapsed = 3527.3992195129395 seconds\n",
      "Trace xgbc_random() --- trying hyperparameters = {'n_estimators': 1000, 'max_depth': 3, 'learning_rate': 0.5, 'subsample': 0.7500000000000001, 'min_child_weight': 13, 'nthread': 1, 'gamma': 5.0, 'colsample_bytree': 0.8999999999999999}\n",
      "Trace xgbc_random() --- starting new iteration --- time elapsed = 3538.8805100917816 seconds\n",
      "Trace xgbc_random() --- trying hyperparameters = {'n_estimators': 1000, 'max_depth': 10, 'learning_rate': 0.1, 'subsample': 0.7500000000000001, 'min_child_weight': 17, 'nthread': 1, 'gamma': 4.5, 'colsample_bytree': 0.7999999999999999}\n",
      "Trace xgbc_random() --- starting new iteration --- time elapsed = 3549.0648941993713 seconds\n",
      "Trace xgbc_random() --- trying hyperparameters = {'n_estimators': 500, 'max_depth': 4, 'learning_rate': 0.5, 'subsample': 0.3, 'min_child_weight': 2, 'nthread': 1, 'gamma': 0.5, 'colsample_bytree': 0.8999999999999999}\n",
      "Trace xgbc_random() --- starting new iteration --- time elapsed = 3552.7839431762695 seconds\n",
      "Trace xgbc_random() --- trying hyperparameters = {'n_estimators': 1000, 'max_depth': 4, 'learning_rate': 1.0, 'subsample': 0.6500000000000001, 'min_child_weight': 18, 'nthread': 1, 'gamma': 1.0, 'colsample_bytree': 0.5}\n",
      "Trace xgbc_random() --- starting new iteration --- time elapsed = 3556.772951602936 seconds\n",
      "Trace xgbc_random() --- trying hyperparameters = {'n_estimators': 100, 'max_depth': 10, 'learning_rate': 0.5, 'subsample': 0.55, 'min_child_weight': 12, 'nthread': 1, 'gamma': 5.0, 'colsample_bytree': 0.8999999999999999}\n",
      "Trace xgbc_random() --- starting new iteration --- time elapsed = 3558.0875198841095 seconds\n",
      "Trace xgbc_random() --- trying hyperparameters = {'n_estimators': 1000, 'max_depth': 1, 'learning_rate': 0.01, 'subsample': 0.15000000000000002, 'min_child_weight': 8, 'nthread': 1, 'gamma': 0.5, 'colsample_bytree': 0.7999999999999999}\n",
      "Trace xgbc_random() --- starting new iteration --- time elapsed = 3561.707303762436 seconds\n",
      "Trace xgbc_random() --- trying hyperparameters = {'n_estimators': 500, 'max_depth': 6, 'learning_rate': 0.01, 'subsample': 0.4, 'min_child_weight': 18, 'nthread': 1, 'gamma': 4.0, 'colsample_bytree': 0.9999999999999999}\n",
      "Trace xgbc_random() --- starting new iteration --- time elapsed = 3568.4934957027435 seconds\n",
      "Trace xgbc_random() --- trying hyperparameters = {'n_estimators': 1000, 'max_depth': 6, 'learning_rate': 0.01, 'subsample': 0.7000000000000001, 'min_child_weight': 1, 'nthread': 1, 'gamma': 4.5, 'colsample_bytree': 0.5}\n",
      "Trace xgbc_random() --- starting new iteration --- time elapsed = 3583.821009874344 seconds\n",
      "Trace xgbc_random() --- trying hyperparameters = {'n_estimators': 50, 'max_depth': 10, 'learning_rate': 1.0, 'subsample': 0.2, 'min_child_weight': 2, 'nthread': 1, 'gamma': 2.0, 'colsample_bytree': 0.8999999999999999}\n",
      "Trace xgbc_random() --- starting new iteration --- time elapsed = 3584.2474801540375 seconds\n",
      "Trace xgbc_random() --- trying hyperparameters = {'n_estimators': 50, 'max_depth': 4, 'learning_rate': 0.5, 'subsample': 0.8500000000000001, 'min_child_weight': 5, 'nthread': 1, 'gamma': 1.0, 'colsample_bytree': 0.7999999999999999}\n"
     ]
    },
    {
     "name": "stdout",
     "output_type": "stream",
     "text": [
      "Trace xgbc_random() --- starting new iteration --- time elapsed = 3584.846054792404 seconds\n",
      "Trace xgbc_random() --- trying hyperparameters = {'n_estimators': 500, 'max_depth': 9, 'learning_rate': 0.5, 'subsample': 0.25, 'min_child_weight': 12, 'nthread': 1, 'gamma': 1.5, 'colsample_bytree': 0.9999999999999999}\n",
      "Trace xgbc_random() --- starting new iteration --- time elapsed = 3587.4494659900665 seconds\n",
      "Trace xgbc_random() --- trying hyperparameters = {'n_estimators': 1000, 'max_depth': 3, 'learning_rate': 1.0, 'subsample': 0.5, 'min_child_weight': 4, 'nthread': 1, 'gamma': 4.0, 'colsample_bytree': 0.5}\n",
      "Trace xgbc_random() --- starting new iteration --- time elapsed = 3596.046944141388 seconds\n",
      "Trace xgbc_random() --- trying hyperparameters = {'n_estimators': 500, 'max_depth': 5, 'learning_rate': 0.001, 'subsample': 0.55, 'min_child_weight': 1, 'nthread': 1, 'gamma': 3.0, 'colsample_bytree': 0.7999999999999999}\n",
      "Trace xgbc_random() --- duration exceeded --- process quitting with best_score = 0.96\n"
     ]
    },
    {
     "data": {
      "text/plain": [
       "({'n_estimators': 1000,\n",
       "  'max_depth': 8,\n",
       "  'learning_rate': 0.1,\n",
       "  'subsample': 0.6500000000000001,\n",
       "  'min_child_weight': 2,\n",
       "  'nthread': 1,\n",
       "  'gamma': 0.0,\n",
       "  'colsample_bytree': 0.7999999999999999},\n",
       " 0.96)"
      ]
     },
     "execution_count": 6,
     "metadata": {},
     "output_type": "execute_result"
    }
   ],
   "source": [
    "xgbc_random(\n",
    "    config_dict,\n",
    "    3600,\n",
    "    X_train,\n",
    "    y_train,\n",
    "    X_test,\n",
    "    y_test)"
   ]
  },
  {
   "cell_type": "code",
   "execution_count": null,
   "metadata": {},
   "outputs": [],
   "source": []
  }
 ],
 "metadata": {
  "anaconda-cloud": {},
  "kernelspec": {
   "display_name": "Python 3",
   "language": "python",
   "name": "python3"
  },
  "language_info": {
   "codemirror_mode": {
    "name": "ipython",
    "version": 3
   },
   "file_extension": ".py",
   "mimetype": "text/x-python",
   "name": "python",
   "nbconvert_exporter": "python",
   "pygments_lexer": "ipython3",
   "version": "3.6.5"
  }
 },
 "nbformat": 4,
 "nbformat_minor": 1
}
